{
 "cells": [
  {
   "cell_type": "code",
   "execution_count": 5,
   "metadata": {},
   "outputs": [],
   "source": [
    "import rasterio\n",
    "import numpy as np\n",
    "from skimage.measure import label, regionprops\n",
    "from skimage.filters import threshold_otsu\n",
    "from rasterio.transform import from_origin\n",
    "from scipy.ndimage import gaussian_filter\n",
    "from scipy import ndimage"
   ]
  },
  {
   "cell_type": "code",
   "execution_count": 6,
   "metadata": {},
   "outputs": [],
   "source": [
    "def calculate_slope_aspect(dem):\n",
    "    \"\"\" Calculate slope and aspect from a DEM. \"\"\"\n",
    "    x, y = np.gradient(dem)  # Gradient in the x and y direction\n",
    "    slope = np.arctan(np.sqrt(x**2 + y**2)) * (180 / np.pi)  # Calculate slope in degrees\n",
    "    aspect = np.arctan2(-y, x) * (180 / np.pi)  # Calculate aspect in degrees\n",
    "    aspect = (aspect + 360) % 360  # Normalize to [0, 360)\n",
    "    \n",
    "    return slope, aspect\n",
    "\n",
    "def calculate_roughness(dem, window_size):\n",
    "    \"\"\" Calculate terrain roughness as the standard deviation. \"\"\"\n",
    "    return ndimage.generic_filter(dem, np.std, size=window_size)\n",
    "\n",
    "def calculate_tpi(dem):\n",
    "    \"\"\" Calculate Topographic Position Index (TPI). \"\"\"\n",
    "    mean_neighbors = ndimage.uniform_filter(dem, size=3)  # Mean elevation of the neighbors\n",
    "    tpi = dem - mean_neighbors  # Calculate TPI\n",
    "    return tpi\n",
    "\n",
    "def calculate_tri(dem):\n",
    "    \"\"\" Calculate Terrain Ruggedness Index (TRI). \"\"\"\n",
    "    diff_y, diff_x = np.gradient(dem)\n",
    "    tri = np.sqrt(diff_x**2 + diff_y**2)  # Ruggedness calculated from the gradient\n",
    "    return tri\n",
    "\n",
    "def process_dem(input_dem, output_slope, output_aspect, output_roughness, output_tpi, output_tri):\n",
    "    \"\"\" Read a DEM and compute slope, aspect, roughness, TPI, and TRI. Output each to TIFF files. \"\"\"\n",
    "    \n",
    "    with rasterio.open(input_dem) as src:\n",
    "        dem_data = src.read(1)  # Read the first band\n",
    "        transform = src.transform  # Get the affine transform\n",
    "        metadata = src.meta  # Copy metadata\n",
    "\n",
    "    # Calculate slope and aspect\n",
    "    slope, aspect = calculate_slope_aspect(dem_data)\n",
    "\n",
    "    # Calculate roughness (use 3x3 window)\n",
    "    roughness = calculate_roughness(dem_data, window_size=(6, 6))\n",
    "\n",
    "    # Calculate TPI\n",
    "    tpi = calculate_tpi(dem_data)\n",
    "\n",
    "    # Calculate TRI\n",
    "    tri = calculate_tri(dem_data)\n",
    "\n",
    "    # Output each property to a TIFF file\n",
    "    for data, output_file in zip([\n",
    "                                # slope, \n",
    "                                # aspect, \n",
    "                                roughness, \n",
    "                                # tpi, \n",
    "                                # tri\n",
    "                                  ],\n",
    "                                  [\n",
    "                                    # output_slope, \n",
    "                                    # output_aspect, \n",
    "                                    output_roughness, \n",
    "                                    # output_tpi, \n",
    "                                    # output_tri\n",
    "                                    ]):\n",
    "        metadata.update({'dtype': 'float32', 'count': 1})\n",
    "        with rasterio.open(output_file, 'w', **metadata) as dst:\n",
    "            dst.write(data.astype('float32'), 1)\n",
    "\n",
    "# if __name__ == \"__main__\":\n",
    "#     input_dem = 'path/to/your/input_dem.tif'  # Input DEM file\n",
    "#     output_slope = 'path/to/output_slope.tif'  # Output slope file\n",
    "#     output_aspect = 'path/to/output_aspect.tif'  # Output aspect file\n",
    "#     output_roughness = 'path/to/output_roughness.tif'  # Output roughness file\n",
    "#     output_tpi = 'path/to/output_tpi.tif'  # Output TPI file\n",
    "#     output_tri = 'path/to/output_tri.tif'  # Output TRI file\n",
    "\n",
    "#     process_dem(input_dem, output_slope, output_aspect, output_roughness, output_tpi, output_tri)\n",
    "\n",
    "#     print(\"Processed DEM and saved outputs.\")"
   ]
  },
  {
   "cell_type": "code",
   "execution_count": 7,
   "metadata": {},
   "outputs": [
    {
     "name": "stdout",
     "output_type": "stream",
     "text": [
      "Processed DEM and saved outputs.\n"
     ]
    }
   ],
   "source": [
    "input_dem = r\"C:\\Users\\ageglio\\OneDrive - DOI\\Documents - Reef Mapping\\Data Release\\2021 Sites\\Bay Harbor\\Bay Harbor Reef_2.tif\"   # Input DEM file\n",
    "\n",
    "output_slope = 'test_geomorphons\\\\output_slope.tif'  # Output slope file\n",
    "output_aspect = 'test_geomorphons\\\\output_aspect.tif'  # Output aspect file\n",
    "output_roughness = 'test_geomorphons\\\\output_roughness.tif'  # Output roughness file\n",
    "output_tpi = 'test_geomorphons\\\\output_tpi.tif'  # Output TPI file\n",
    "output_tri = 'test_geomorphons\\\\output_tri.tif'  # Output TRI file\n",
    "\n",
    "process_dem(input_dem, output_slope, output_aspect, output_roughness, output_tpi, output_tri)\n",
    "\n",
    "print(\"Processed DEM and saved outputs.\")"
   ]
  }
 ],
 "metadata": {
  "kernelspec": {
   "display_name": "img_processing",
   "language": "python",
   "name": "python3"
  },
  "language_info": {
   "codemirror_mode": {
    "name": "ipython",
    "version": 3
   },
   "file_extension": ".py",
   "mimetype": "text/x-python",
   "name": "python",
   "nbconvert_exporter": "python",
   "pygments_lexer": "ipython3",
   "version": "3.11.4"
  }
 },
 "nbformat": 4,
 "nbformat_minor": 2
}
