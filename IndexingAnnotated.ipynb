{
 "cells": [
  {
   "cell_type": "code",
   "execution_count": 1,
   "metadata": {},
   "outputs": [],
   "source": [
    "from src import *\n",
    "out_folder = \"2019-2023-20241029\"\n",
    "all_years = [\"2019\", \"2020\", \"2021\", \"2022\", \"2023\", \"2024\"]"
   ]
  },
  {
   "cell_type": "markdown",
   "metadata": {},
   "source": [
    "### Annotated images metadata"
   ]
  },
  {
   "cell_type": "code",
   "execution_count": 2,
   "metadata": {},
   "outputs": [
    {
     "name": "stdout",
     "output_type": "stream",
     "text": [
      "annotated (69831, 3)\n",
      "annotated (69831, 158)\n"
     ]
    }
   ],
   "source": [
    "# Annoatated Images\n",
    "annot_imgs = glob.glob(r\"Z:\\__Organized_Directories_InProgress\\Fish_annotations_based_on_YOLO\\*\\screened_with_fish\\original_images\\*\\*.png\")\n",
    "\n",
    "all_headers = pd.read_pickle(os.path.join(out_folder, \"all_headers.pickle\"))\n",
    "df_imgs_annot = create_image_df_save_csv(annot_imgs, out_folder, year=\"annotated\") # annotated (69832, 2)\n",
    "df_annot = create_unpacked_images_metatada_df(all_headers, df_imgs_annot, ext=\".png\", year = \"annotated\", old_filenames = True) #all (45542, 155)"
   ]
  },
  {
   "cell_type": "code",
   "execution_count": null,
   "metadata": {},
   "outputs": [
    {
     "name": "stdout",
     "output_type": "stream",
     "text": [
      "moving 263 out of 264\r"
     ]
    }
   ],
   "source": [
    "def make_list_by_collect(df_annot, year):\n",
    "    base_dir = f'Z:\\\\__Organized_Directories_InProgress\\\\Fish_annotations_based_on_YOLO\\\\{year}\\\\screened_with_fish\\\\original_images'\n",
    "    df_annot_yr = df_annot[df_annot.year.isin([year])]\n",
    "    grouped_df = df_annot_yr.groupby('collect_id').agg({'image_path': list  }).reset_index()     # Creating a list of values in column2\n",
    "    return grouped_df, base_dir\n",
    "def get_src_dst_from_grouped_df(grouped_df, idx, base_dir):\n",
    "    src_lst = grouped_df.image_path[idx]\n",
    "    cid = grouped_df.collect_id[idx]\n",
    "    new_dir = os.path.join(base_dir, cid)\n",
    "    return src_lst, new_dir\n",
    "def mv_lst(src_lst, new_dir):\n",
    "    if not os.path.exists(new_dir): os.makedirs(new_dir)\n",
    "    for i, itm in enumerate(src_lst):\n",
    "        print(\"moving\", i, \"out of\", len(src_lst), end=\"\\r\")\n",
    "        # print(new_dir)\n",
    "        if not os.path.exists(os.path.join(new_dir, os.path.basename(itm))):\n",
    "            shutil.move(itm, new_dir)\n",
    "        else: continue\n",
    "def iterate_mv(df_annot, year):\n",
    "    grouped_df, base_dir = make_list_by_collect(df_annot, year)\n",
    "    for idx in range(len(grouped_df)):\n",
    "        print(\"idx\", idx, \"out of\", len(grouped_df), end=\"\\r\")\n",
    "        src_lst, new_dir = get_src_dst_from_grouped_df(grouped_df, idx, base_dir)\n",
    "        mv_lst(src_lst, new_dir)\n",
    "\n",
    "year = \"2023\"\n",
    "# iterate_mv(df_annot, year)"
   ]
  },
  {
   "cell_type": "markdown",
   "metadata": {},
   "source": [
    "### Shadis Assmts"
   ]
  },
  {
   "cell_type": "code",
   "execution_count": 4,
   "metadata": {},
   "outputs": [
    {
     "data": {
      "text/plain": [
       "array(['old_filename', 'year', 'img_size', 'W', 'H', 'BLX', 'BLY', 'TLX',\n",
       "       'TLY', 'TRX', 'TRY', 'BRX', 'BRY', 'Length_to_Width_Ratio',\n",
       "       'MERR_Diagonal_Length', 'Bounding_Rect_Diagonal_Length', 'fish_id',\n",
       "       'PS_mm', 'ImageArea_m2', 'date_', 'SF', 'Ell_MA_px', 'Ell_MA_mm',\n",
       "       'Ell_Weight_g', 'Cir_D_px', 'Cir_D_mm', 'Cir_Weight_g',\n",
       "       'Poly_Len_px', 'Poly_Len_mm', 'Poly_Weight_g', 'Poly_Corr_len_mm',\n",
       "       'Poly_Corr_weight_g', 'CreationTime', 'AUV', 'Lake', 'Site',\n",
       "       'cam_sys', 'DataSource', 'VehicleID', 'BagFile', 'MissionName',\n",
       "       'Time_UTC', 'Usability', 'substrate_class', 'Latitude',\n",
       "       'Longitude', 'Temperature_C', 'DepthFromSurface_m',\n",
       "       'DistanceToBottom_m', 'TotalWaterColumn_m', 'CollectID'],\n",
       "      dtype=object)"
      ]
     },
     "execution_count": 4,
     "metadata": {},
     "output_type": "execute_result"
    }
   ],
   "source": [
    "assmt_files_lst =  glob.glob(r\"Z:\\Database\\02__MetadataCombined\\*_assessment_confirmedfish.csv\")\n",
    "df_list = [pd.read_csv(file, low_memory=False) for file in assmt_files_lst]\n",
    "df_assmt = pd.concat(df_list, ignore_index=True)\n",
    "df_assmt = df_assmt.rename(columns={\"Image_Name\":\"old_filename\"})\n",
    "df_assmt.columns.values"
   ]
  },
  {
   "cell_type": "markdown",
   "metadata": {},
   "source": [
    "### check for missing metadata and output a list of images for each collect"
   ]
  },
  {
   "cell_type": "code",
   "execution_count": null,
   "metadata": {},
   "outputs": [
    {
     "name": "stdout",
     "output_type": "stream",
     "text": [
      "images with no metadata created (0, 158)\n"
     ]
    }
   ],
   "source": [
    "missing_metadata = df_annot[df_annot.Time_s.isna()].copy()\n",
    "print(\"images with no metadata created\", missing_metadata.shape)\n",
    "# imgs_missing_metadata = missing_metadata[\"filename\"]\n",
    "# imgs_dfs = pd.concat([pd.read_csv(os.path.join(out_folder, \"2022_imgs.csv\")), pd.read_csv(os.path.join(out_folder, \"2023_imgs.csv\"))])\n",
    "# collect_id_df = create_collect_id_df(imgs_dfs.image_path.values)\n",
    "# collect_id_df.filename = collect_id_df.filename.apply(lambda x: x.replace(\"CI\", \"PI\"))\n",
    "# imgs_missing_metadata = pd.merge(imgs_missing_metadata, collect_id_df, on=[\"filename\"], how=\"left\")\n",
    "# Group by 'column1' and create a list of all values in 'column2' for each group\n",
    "# grouped_df = imgs_missing_metadata.groupby('collect_id').agg({'filename': list  }).reset_index()     # Creating a list of values in column2\n",
    "# grouped_df.to_csv(\"images_missing_metadata.csv\")\n",
    "# grouped_df\n"
   ]
  },
  {
   "cell_type": "markdown",
   "metadata": {},
   "source": [
    "### adding luke/andrew qaqc on dominant fish type"
   ]
  },
  {
   "cell_type": "code",
   "execution_count": 63,
   "metadata": {},
   "outputs": [
    {
     "data": {
      "text/plain": [
       "fish_type\n",
       "goby       1553\n",
       "alewife      10\n",
       "Name: count, dtype: int64"
      ]
     },
     "execution_count": 63,
     "metadata": {},
     "output_type": "execute_result"
    }
   ],
   "source": [
    "qaqc_files_lst = glob.glob(r\"C:\\Users\\ageglio\\ageglio-1\\gobyfinder_yolov8\\datasets\\alewife_qaqc\\*_qaqc_complete.xlsx\")\n",
    "df_list = [pd.read_excel(file, index_col=0) for file in qaqc_files_lst]\n",
    "alewife_qaqc = pd.concat(df_list, ignore_index=True)\n",
    "alewife_qaqc[\"old_filename\"] = alewife_qaqc.image_id.apply(lambda x: x+\".png\")\n",
    "alewife_qaqc= alewife_qaqc[[\"old_filename\", \"fish_type\"]]\n",
    "'''fish_type\n",
    "goby       1553\n",
    "alewife      10\n",
    "Name: count, dtype: int64'''\n",
    "alewife_qaqc.fish_type.value_counts()"
   ]
  },
  {
   "cell_type": "code",
   "execution_count": 64,
   "metadata": {},
   "outputs": [
    {
     "data": {
      "text/html": [
       "<div>\n",
       "<style scoped>\n",
       "    .dataframe tbody tr th:only-of-type {\n",
       "        vertical-align: middle;\n",
       "    }\n",
       "\n",
       "    .dataframe tbody tr th {\n",
       "        vertical-align: top;\n",
       "    }\n",
       "\n",
       "    .dataframe thead th {\n",
       "        text-align: right;\n",
       "    }\n",
       "</style>\n",
       "<table border=\"1\" class=\"dataframe\">\n",
       "  <thead>\n",
       "    <tr style=\"text-align: right;\">\n",
       "      <th></th>\n",
       "      <th>old_filename</th>\n",
       "      <th>fish_type</th>\n",
       "    </tr>\n",
       "  </thead>\n",
       "  <tbody>\n",
       "    <tr>\n",
       "      <th>0</th>\n",
       "      <td>image_raw_00431895.png</td>\n",
       "      <td>goby</td>\n",
       "    </tr>\n",
       "    <tr>\n",
       "      <th>1</th>\n",
       "      <td>image_raw_00435914.png</td>\n",
       "      <td>goby</td>\n",
       "    </tr>\n",
       "    <tr>\n",
       "      <th>2</th>\n",
       "      <td>image_raw_01391074.png</td>\n",
       "      <td>goby</td>\n",
       "    </tr>\n",
       "    <tr>\n",
       "      <th>3</th>\n",
       "      <td>image_raw_02227331.png</td>\n",
       "      <td>goby</td>\n",
       "    </tr>\n",
       "    <tr>\n",
       "      <th>4</th>\n",
       "      <td>image_raw_02230553.png</td>\n",
       "      <td>goby</td>\n",
       "    </tr>\n",
       "    <tr>\n",
       "      <th>...</th>\n",
       "      <td>...</td>\n",
       "      <td>...</td>\n",
       "    </tr>\n",
       "    <tr>\n",
       "      <th>1558</th>\n",
       "      <td>CI_1692556107_250.png</td>\n",
       "      <td>goby</td>\n",
       "    </tr>\n",
       "    <tr>\n",
       "      <th>1559</th>\n",
       "      <td>CI_1693084116_112.png</td>\n",
       "      <td>goby</td>\n",
       "    </tr>\n",
       "    <tr>\n",
       "      <th>1560</th>\n",
       "      <td>CI_1693156380_728.png</td>\n",
       "      <td>goby</td>\n",
       "    </tr>\n",
       "    <tr>\n",
       "      <th>1561</th>\n",
       "      <td>CI_1694284092_046.png</td>\n",
       "      <td>goby</td>\n",
       "    </tr>\n",
       "    <tr>\n",
       "      <th>1562</th>\n",
       "      <td>CI_1694372707_411.png</td>\n",
       "      <td>alewife</td>\n",
       "    </tr>\n",
       "  </tbody>\n",
       "</table>\n",
       "<p>1563 rows × 2 columns</p>\n",
       "</div>"
      ],
      "text/plain": [
       "                old_filename fish_type\n",
       "0     image_raw_00431895.png      goby\n",
       "1     image_raw_00435914.png      goby\n",
       "2     image_raw_01391074.png      goby\n",
       "3     image_raw_02227331.png      goby\n",
       "4     image_raw_02230553.png      goby\n",
       "...                      ...       ...\n",
       "1558   CI_1692556107_250.png      goby\n",
       "1559   CI_1693084116_112.png      goby\n",
       "1560   CI_1693156380_728.png      goby\n",
       "1561   CI_1694284092_046.png      goby\n",
       "1562   CI_1694372707_411.png   alewife\n",
       "\n",
       "[1563 rows x 2 columns]"
      ]
     },
     "execution_count": 64,
     "metadata": {},
     "output_type": "execute_result"
    }
   ],
   "source": [
    "alewife_qaqc"
   ]
  },
  {
   "cell_type": "markdown",
   "metadata": {},
   "source": [
    "### adding fish_type, and substrate tags"
   ]
  },
  {
   "cell_type": "code",
   "execution_count": 65,
   "metadata": {},
   "outputs": [
    {
     "data": {
      "text/html": [
       "<div>\n",
       "<style scoped>\n",
       "    .dataframe tbody tr th:only-of-type {\n",
       "        vertical-align: middle;\n",
       "    }\n",
       "\n",
       "    .dataframe tbody tr th {\n",
       "        vertical-align: top;\n",
       "    }\n",
       "\n",
       "    .dataframe thead th {\n",
       "        text-align: right;\n",
       "    }\n",
       "</style>\n",
       "<table border=\"1\" class=\"dataframe\">\n",
       "  <thead>\n",
       "    <tr style=\"text-align: right;\">\n",
       "      <th></th>\n",
       "      <th>Time_s</th>\n",
       "      <th>filename</th>\n",
       "      <th>Latitude</th>\n",
       "      <th>Longitude</th>\n",
       "      <th>DepthFromSurface_m</th>\n",
       "      <th>DistanceToBottom_m</th>\n",
       "      <th>time</th>\n",
       "      <th>image_path</th>\n",
       "      <th>old_filename</th>\n",
       "      <th>fish_type</th>\n",
       "      <th>substrate_class</th>\n",
       "    </tr>\n",
       "  </thead>\n",
       "  <tbody>\n",
       "    <tr>\n",
       "      <th>0</th>\n",
       "      <td>1.596710e+09</td>\n",
       "      <td>PI_1596710233_220.png</td>\n",
       "      <td>44.978776</td>\n",
       "      <td>-85.517088</td>\n",
       "      <td>2.750677</td>\n",
       "      <td>1.869549</td>\n",
       "      <td>06:37:13</td>\n",
       "      <td>Z:\\__Organized_Directories_InProgress\\Fish_ann...</td>\n",
       "      <td>image_raw_10233220.png</td>\n",
       "      <td>not_checked</td>\n",
       "      <td>coarse</td>\n",
       "    </tr>\n",
       "    <tr>\n",
       "      <th>1</th>\n",
       "      <td>1.596710e+09</td>\n",
       "      <td>PI_1596710234_024.png</td>\n",
       "      <td>44.978781</td>\n",
       "      <td>-85.517078</td>\n",
       "      <td>2.786023</td>\n",
       "      <td>1.843977</td>\n",
       "      <td>06:37:14</td>\n",
       "      <td>Z:\\__Organized_Directories_InProgress\\Fish_ann...</td>\n",
       "      <td>image_raw_10234024.png</td>\n",
       "      <td>not_checked</td>\n",
       "      <td>coarse</td>\n",
       "    </tr>\n",
       "    <tr>\n",
       "      <th>2</th>\n",
       "      <td>1.596710e+09</td>\n",
       "      <td>PI_1596710235_632.png</td>\n",
       "      <td>44.978791</td>\n",
       "      <td>-85.517060</td>\n",
       "      <td>2.800000</td>\n",
       "      <td>1.840000</td>\n",
       "      <td>06:37:15</td>\n",
       "      <td>Z:\\__Organized_Directories_InProgress\\Fish_ann...</td>\n",
       "      <td>image_raw_10235632.png</td>\n",
       "      <td>not_checked</td>\n",
       "      <td>coarse</td>\n",
       "    </tr>\n",
       "    <tr>\n",
       "      <th>3</th>\n",
       "      <td>1.596710e+09</td>\n",
       "      <td>PI_1596710236_439.png</td>\n",
       "      <td>44.978795</td>\n",
       "      <td>-85.517053</td>\n",
       "      <td>2.788075</td>\n",
       "      <td>1.870000</td>\n",
       "      <td>06:37:16</td>\n",
       "      <td>Z:\\__Organized_Directories_InProgress\\Fish_ann...</td>\n",
       "      <td>image_raw_10236439.png</td>\n",
       "      <td>not_checked</td>\n",
       "      <td>coarse</td>\n",
       "    </tr>\n",
       "    <tr>\n",
       "      <th>4</th>\n",
       "      <td>1.596710e+09</td>\n",
       "      <td>PI_1596710237_239.png</td>\n",
       "      <td>44.978800</td>\n",
       "      <td>-85.517044</td>\n",
       "      <td>2.766336</td>\n",
       "      <td>1.890496</td>\n",
       "      <td>06:37:17</td>\n",
       "      <td>Z:\\__Organized_Directories_InProgress\\Fish_ann...</td>\n",
       "      <td>image_raw_10237239.png</td>\n",
       "      <td>not_checked</td>\n",
       "      <td>coarse</td>\n",
       "    </tr>\n",
       "  </tbody>\n",
       "</table>\n",
       "</div>"
      ],
      "text/plain": [
       "         Time_s               filename   Latitude  Longitude  \\\n",
       "0  1.596710e+09  PI_1596710233_220.png  44.978776 -85.517088   \n",
       "1  1.596710e+09  PI_1596710234_024.png  44.978781 -85.517078   \n",
       "2  1.596710e+09  PI_1596710235_632.png  44.978791 -85.517060   \n",
       "3  1.596710e+09  PI_1596710236_439.png  44.978795 -85.517053   \n",
       "4  1.596710e+09  PI_1596710237_239.png  44.978800 -85.517044   \n",
       "\n",
       "   DepthFromSurface_m  DistanceToBottom_m      time  \\\n",
       "0            2.750677            1.869549  06:37:13   \n",
       "1            2.786023            1.843977  06:37:14   \n",
       "2            2.800000            1.840000  06:37:15   \n",
       "3            2.788075            1.870000  06:37:16   \n",
       "4            2.766336            1.890496  06:37:17   \n",
       "\n",
       "                                          image_path            old_filename  \\\n",
       "0  Z:\\__Organized_Directories_InProgress\\Fish_ann...  image_raw_10233220.png   \n",
       "1  Z:\\__Organized_Directories_InProgress\\Fish_ann...  image_raw_10234024.png   \n",
       "2  Z:\\__Organized_Directories_InProgress\\Fish_ann...  image_raw_10235632.png   \n",
       "3  Z:\\__Organized_Directories_InProgress\\Fish_ann...  image_raw_10236439.png   \n",
       "4  Z:\\__Organized_Directories_InProgress\\Fish_ann...  image_raw_10237239.png   \n",
       "\n",
       "     fish_type substrate_class  \n",
       "0  not_checked          coarse  \n",
       "1  not_checked          coarse  \n",
       "2  not_checked          coarse  \n",
       "3  not_checked          coarse  \n",
       "4  not_checked          coarse  "
      ]
     },
     "execution_count": 65,
     "metadata": {},
     "output_type": "execute_result"
    }
   ],
   "source": [
    "df_annot2 = pd.merge(df_annot, alewife_qaqc[[\"old_filename\", \"fish_type\"]], on=\"old_filename\", how =\"left\")\n",
    "fish_type_na = df_annot2[df_annot2.fish_type.isna()].index\n",
    "df_annot2.loc[fish_type_na,\"fish_type\"] = \"not_checked\"\n",
    "substrate = pd.read_csv(r\"Z:\\Database\\07__Metadata+Label\\Annotated_imgs_substrate_predictions.csv\", index_col=0)\n",
    "substrate = substrate.rename(columns={'label': 'substrate_class'})\n",
    "substrate['old_filename'] = substrate.image_path.apply(lambda x: os.path.basename(x))\n",
    "df_annot3 = pd.merge(df_annot2, substrate[[\"old_filename\", \"substrate_class\"]], on=\"old_filename\", how =\"left\")\n",
    "assert df_annot3[df_annot3.substrate_class.isna()].empty\n",
    "assert df_annot3[df_annot3.fish_type.isna()].empty\n",
    "df_annot3.to_csv(\"annotated_imgs_metadata_all_years_subs_fish_type.csv\")\n",
    "df_annot3.iloc[:,[0,1,2,3,4,5,-5,-4,-3,-2,-1]].head()"
   ]
  },
  {
   "cell_type": "code",
   "execution_count": 66,
   "metadata": {},
   "outputs": [
    {
     "data": {
      "text/plain": [
       "fish_type\n",
       "not_checked    68304\n",
       "goby            1553\n",
       "alewife           10\n",
       "Name: count, dtype: int64"
      ]
     },
     "execution_count": 66,
     "metadata": {},
     "output_type": "execute_result"
    }
   ],
   "source": [
    "df_annot3.fish_type.value_counts()"
   ]
  },
  {
   "cell_type": "code",
   "execution_count": 67,
   "metadata": {},
   "outputs": [
    {
     "data": {
      "text/plain": [
       "1"
      ]
     },
     "execution_count": 67,
     "metadata": {},
     "output_type": "execute_result"
    }
   ],
   "source": [
    "in_my_not_shadi = set(df_annot.old_filename).difference(df_assmt.old_filename)\n",
    "in_shadi_not_my = set(df_assmt.old_filename).difference(df_annot.old_filename)\n",
    "len(in_shadi_not_my)"
   ]
  },
  {
   "cell_type": "code",
   "execution_count": 68,
   "metadata": {},
   "outputs": [
    {
     "data": {
      "text/html": [
       "<div>\n",
       "<style scoped>\n",
       "    .dataframe tbody tr th:only-of-type {\n",
       "        vertical-align: middle;\n",
       "    }\n",
       "\n",
       "    .dataframe tbody tr th {\n",
       "        vertical-align: top;\n",
       "    }\n",
       "\n",
       "    .dataframe thead th {\n",
       "        text-align: right;\n",
       "    }\n",
       "</style>\n",
       "<table border=\"1\" class=\"dataframe\">\n",
       "  <thead>\n",
       "    <tr style=\"text-align: right;\">\n",
       "      <th></th>\n",
       "      <th>old_filename</th>\n",
       "      <th>DistanceToBottom_m_x</th>\n",
       "      <th>DistanceToBottom_m_y</th>\n",
       "      <th>diffr</th>\n",
       "    </tr>\n",
       "  </thead>\n",
       "  <tbody>\n",
       "    <tr>\n",
       "      <th>50212</th>\n",
       "      <td>image_raw_70514481.png</td>\n",
       "      <td>2.045984</td>\n",
       "      <td>1.833452</td>\n",
       "      <td>0.212532</td>\n",
       "    </tr>\n",
       "    <tr>\n",
       "      <th>50213</th>\n",
       "      <td>image_raw_70514481.png</td>\n",
       "      <td>2.045984</td>\n",
       "      <td>1.833452</td>\n",
       "      <td>0.212532</td>\n",
       "    </tr>\n",
       "    <tr>\n",
       "      <th>54899</th>\n",
       "      <td>image_raw_75737346.png</td>\n",
       "      <td>2.203771</td>\n",
       "      <td>1.438117</td>\n",
       "      <td>0.765654</td>\n",
       "    </tr>\n",
       "    <tr>\n",
       "      <th>54900</th>\n",
       "      <td>image_raw_75737346.png</td>\n",
       "      <td>2.203771</td>\n",
       "      <td>1.438117</td>\n",
       "      <td>0.765654</td>\n",
       "    </tr>\n",
       "    <tr>\n",
       "      <th>54901</th>\n",
       "      <td>image_raw_75737346.png</td>\n",
       "      <td>2.203771</td>\n",
       "      <td>1.438117</td>\n",
       "      <td>0.765654</td>\n",
       "    </tr>\n",
       "    <tr>\n",
       "      <th>...</th>\n",
       "      <td>...</td>\n",
       "      <td>...</td>\n",
       "      <td>...</td>\n",
       "      <td>...</td>\n",
       "    </tr>\n",
       "    <tr>\n",
       "      <th>231504</th>\n",
       "      <td>CI_1694456683_603.png</td>\n",
       "      <td>2.580000</td>\n",
       "      <td>2.905411</td>\n",
       "      <td>-0.325411</td>\n",
       "    </tr>\n",
       "    <tr>\n",
       "      <th>231505</th>\n",
       "      <td>CI_1694457010_603.png</td>\n",
       "      <td>2.695992</td>\n",
       "      <td>2.900375</td>\n",
       "      <td>-0.204383</td>\n",
       "    </tr>\n",
       "    <tr>\n",
       "      <th>231506</th>\n",
       "      <td>CI_1694457136_103.png</td>\n",
       "      <td>2.690000</td>\n",
       "      <td>2.898442</td>\n",
       "      <td>-0.208442</td>\n",
       "    </tr>\n",
       "    <tr>\n",
       "      <th>231507</th>\n",
       "      <td>CI_1694458329_103.png</td>\n",
       "      <td>2.580000</td>\n",
       "      <td>2.880069</td>\n",
       "      <td>-0.300069</td>\n",
       "    </tr>\n",
       "    <tr>\n",
       "      <th>231508</th>\n",
       "      <td>CI_1694458503_604.png</td>\n",
       "      <td>7.014985</td>\n",
       "      <td>2.837894</td>\n",
       "      <td>4.177091</td>\n",
       "    </tr>\n",
       "  </tbody>\n",
       "</table>\n",
       "<p>4679 rows × 4 columns</p>\n",
       "</div>"
      ],
      "text/plain": [
       "                  old_filename  DistanceToBottom_m_x  DistanceToBottom_m_y  \\\n",
       "50212   image_raw_70514481.png              2.045984              1.833452   \n",
       "50213   image_raw_70514481.png              2.045984              1.833452   \n",
       "54899   image_raw_75737346.png              2.203771              1.438117   \n",
       "54900   image_raw_75737346.png              2.203771              1.438117   \n",
       "54901   image_raw_75737346.png              2.203771              1.438117   \n",
       "...                        ...                   ...                   ...   \n",
       "231504   CI_1694456683_603.png              2.580000              2.905411   \n",
       "231505   CI_1694457010_603.png              2.695992              2.900375   \n",
       "231506   CI_1694457136_103.png              2.690000              2.898442   \n",
       "231507   CI_1694458329_103.png              2.580000              2.880069   \n",
       "231508   CI_1694458503_604.png              7.014985              2.837894   \n",
       "\n",
       "           diffr  \n",
       "50212   0.212532  \n",
       "50213   0.212532  \n",
       "54899   0.765654  \n",
       "54900   0.765654  \n",
       "54901   0.765654  \n",
       "...          ...  \n",
       "231504 -0.325411  \n",
       "231505 -0.204383  \n",
       "231506 -0.208442  \n",
       "231507 -0.300069  \n",
       "231508  4.177091  \n",
       "\n",
       "[4679 rows x 4 columns]"
      ]
     },
     "execution_count": 68,
     "metadata": {},
     "output_type": "execute_result"
    }
   ],
   "source": [
    "test = pd.merge(df_annot3[[\"old_filename\", \"DistanceToBottom_m\"]], df_assmt[[\"DistanceToBottom_m\", \"old_filename\"]], on = \"old_filename\")\n",
    "test[\"diffr\"] = test.DistanceToBottom_m_x - test.DistanceToBottom_m_y\n",
    "test[(test.diffr < -0.1) |  (test.diffr > 0.1)]"
   ]
  },
  {
   "cell_type": "code",
   "execution_count": null,
   "metadata": {},
   "outputs": [],
   "source": [
    "shadis_columns = ['old_filename', 'img_size', 'W', 'H', 'BLX', 'BLY', 'TLX',\n",
    "                'TLY', 'TRX', 'TRY', 'BRX', 'BRY', 'Length_to_Width_Ratio',\n",
    "                'MERR_Diagonal_Length', 'Bounding_Rect_Diagonal_Length', 'fish_id',\n",
    "                'PS_mm', 'ImageArea_m2', 'date_', 'SF', 'Ell_MA_px', 'Ell_MA_mm',\n",
    "                'Ell_Weight_g', 'Cir_D_px', 'Cir_D_mm', 'Cir_Weight_g',\n",
    "                'Poly_Len_px', 'Poly_Len_mm', 'Poly_Weight_g', 'Poly_Corr_len_mm',\n",
    "                'Poly_Corr_weight_g', 'CreationTime', 'AUV', 'Lake', 'Site',\n",
    "                'cam_sys']\n",
    "                \n",
    "my_columns = ['Time_s', 'old_filename', 'filename', 'Latitude', 'Longitude',\n",
    "                'DepthFromSurface_m', 'DistanceToBottom_m', 'TotalWaterColumn_m',\n",
    "                'Speed_kn', 'Time_UTC', 'DataSource', 'HeadingCompass_deg',\n",
    "                'PitchCompass_deg', 'RollCompass_deg', 'TempCompass_C',\n",
    "                'DepthCompass_bar', 'year', 'month', 'day', 'time', 'image_path',\n",
    "                'old_filename', 'fish_type', 'substrate_class', 'Usability', 'collect_id']\n",
    "\n",
    "output_columns = ['Time_s', 'filename', 'old_filename', 'year', 'img_size', 'W', 'H', 'BLX', 'BLY', 'TLX',\n",
    "                    'TLY', 'TRX', 'TRY', 'BRX', 'BRY', 'Length_to_Width_Ratio',\n",
    "                    'MERR_Diagonal_Length', 'Bounding_Rect_Diagonal_Length', 'fish_id',\n",
    "                    'PS_mm', 'ImageArea_m2', 'date_', 'SF', 'Ell_MA_px', 'Ell_MA_mm',\n",
    "                    'Ell_Weight_g', 'Cir_D_px', 'Cir_D_mm', 'Cir_Weight_g',\n",
    "                    'Poly_Len_px', 'Poly_Len_mm', 'Poly_Weight_g', 'Poly_Corr_len_mm',\n",
    "                    'Poly_Corr_weight_g', 'CreationTime', 'AUV', 'Lake', 'Site',\n",
    "                    'cam_sys', 'DataSource', 'VehicleID', 'BagFile', 'MissionName',\n",
    "                    'Time_UTC', 'Usability', 'substrate_class', 'Latitude',\n",
    "                    'Longitude', 'Temperature_C', 'DepthFromSurface_m',\n",
    "                    'DistanceToBottom_m', 'TotalWaterColumn_m', 'collect_id']"
   ]
  }
 ],
 "metadata": {
  "kernelspec": {
   "display_name": "img_processing",
   "language": "python",
   "name": "python3"
  },
  "language_info": {
   "codemirror_mode": {
    "name": "ipython",
    "version": 3
   },
   "file_extension": ".py",
   "mimetype": "text/x-python",
   "name": "python",
   "nbconvert_exporter": "python",
   "pygments_lexer": "ipython3",
   "version": "3.11.4"
  }
 },
 "nbformat": 4,
 "nbformat_minor": 2
}
