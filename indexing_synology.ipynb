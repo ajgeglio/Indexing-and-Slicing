{
 "cells": [
  {
   "cell_type": "code",
   "execution_count": 1,
   "metadata": {},
   "outputs": [],
   "source": [
    "import pandas as pd"
   ]
  },
  {
   "cell_type": "code",
   "execution_count": null,
   "metadata": {},
   "outputs": [],
   "source": [
    "df6 = pd.read_csv(r\"Z:\\Database\\03__Synology\\GLSC_drive6.list\", header=None, names = [\"path\"])\n",
    "df6[\"collect_id\"] = df6.path.apply(lambda x: str(x.split(\"/\")[2]))"
   ]
  },
  {
   "cell_type": "code",
   "execution_count": 9,
   "metadata": {},
   "outputs": [
    {
     "data": {
      "text/plain": [
       "array(['2024/3069/20240417_001_Iver3069_ABS2/data/_2024-04-17-19-38-11_13.bag.active',\n",
       "       '2024/3069/20240417_001_Iver3069_ABS2/data/_2024-04-17-19-33-11_0.bag',\n",
       "       '2024/3069/20240417_001_Iver3069_ABS2/data/_2024-04-17-19-33-38_1.bag',\n",
       "       '2024/3069/20240417_001_Iver3069_ABS2/data/_2024-04-17-19-34-02_2.bag',\n",
       "       '2024/3069/20240417_001_Iver3069_ABS2/data/_2024-04-17-19-34-30_3.bag',\n",
       "       '2024/3069/20240417_001_Iver3069_ABS2/data/_2024-04-17-19-34-52_4.bag',\n",
       "       '2024/3069/20240417_001_Iver3069_ABS2/data/_2024-04-17-19-35-17_5.bag',\n",
       "       '2024/3069/20240417_001_Iver3069_ABS2/data/_2024-04-17-19-35-44_6.bag',\n",
       "       '2024/3069/20240417_001_Iver3069_ABS2/data/_2024-04-17-19-36-09_7.bag',\n",
       "       '2024/3069/20240417_001_Iver3069_ABS2/data/_2024-04-17-19-36-33_8.bag',\n",
       "       '2024/3069/20240417_001_Iver3069_ABS2/data/_2024-04-17-19-36-55_9.bag',\n",
       "       '2024/3069/20240417_001_Iver3069_ABS2/data/_2024-04-17-19-37-19_10.bag',\n",
       "       '2024/3069/20240417_001_Iver3069_ABS2/data/_2024-04-17-19-37-43_11.bag',\n",
       "       '2024/3069/20240417_001_Iver3069_ABS2/data/_2024-04-17-19-38-05_12.bag'],\n",
       "      dtype=object)"
      ]
     },
     "execution_count": 9,
     "metadata": {},
     "output_type": "execute_result"
    }
   ],
   "source": [
    "df6[0:14].path.values"
   ]
  },
  {
   "cell_type": "code",
   "execution_count": 6,
   "metadata": {},
   "outputs": [
    {
     "data": {
      "text/html": [
       "<div>\n",
       "<style scoped>\n",
       "    .dataframe tbody tr th:only-of-type {\n",
       "        vertical-align: middle;\n",
       "    }\n",
       "\n",
       "    .dataframe tbody tr th {\n",
       "        vertical-align: top;\n",
       "    }\n",
       "\n",
       "    .dataframe thead th {\n",
       "        text-align: right;\n",
       "    }\n",
       "</style>\n",
       "<table border=\"1\" class=\"dataframe\">\n",
       "  <thead>\n",
       "    <tr style=\"text-align: right;\">\n",
       "      <th></th>\n",
       "      <th>path</th>\n",
       "    </tr>\n",
       "    <tr>\n",
       "      <th>collect_id</th>\n",
       "      <th></th>\n",
       "    </tr>\n",
       "  </thead>\n",
       "  <tbody>\n",
       "    <tr>\n",
       "      <th>20240417_001_Iver3069_ABS2</th>\n",
       "      <td>14</td>\n",
       "    </tr>\n",
       "    <tr>\n",
       "      <th>20240417_002_Iver3069_ABS2</th>\n",
       "      <td>11</td>\n",
       "    </tr>\n",
       "    <tr>\n",
       "      <th>20240418_001_Iver3069_ABS2</th>\n",
       "      <td>52</td>\n",
       "    </tr>\n",
       "    <tr>\n",
       "      <th>20240425_001_Iver3069_ABS2</th>\n",
       "      <td>638</td>\n",
       "    </tr>\n",
       "    <tr>\n",
       "      <th>20240426_001_Iver3069_ABS2</th>\n",
       "      <td>500</td>\n",
       "    </tr>\n",
       "    <tr>\n",
       "      <th>...</th>\n",
       "      <td>...</td>\n",
       "    </tr>\n",
       "    <tr>\n",
       "      <th>20240809_001_Iver3069_ABS2</th>\n",
       "      <td>795</td>\n",
       "    </tr>\n",
       "    <tr>\n",
       "      <th>20240813_001_Iver3069_ABS2</th>\n",
       "      <td>812</td>\n",
       "    </tr>\n",
       "    <tr>\n",
       "      <th>20240814_001_Iver3069_ABS2</th>\n",
       "      <td>744</td>\n",
       "    </tr>\n",
       "    <tr>\n",
       "      <th>20240815_001_Iver3069_ABS2</th>\n",
       "      <td>823</td>\n",
       "    </tr>\n",
       "    <tr>\n",
       "      <th>20240816_001_Iver3069_ABS2</th>\n",
       "      <td>872</td>\n",
       "    </tr>\n",
       "  </tbody>\n",
       "</table>\n",
       "<p>78 rows × 1 columns</p>\n",
       "</div>"
      ],
      "text/plain": [
       "                            path\n",
       "collect_id                      \n",
       "20240417_001_Iver3069_ABS2    14\n",
       "20240417_002_Iver3069_ABS2    11\n",
       "20240418_001_Iver3069_ABS2    52\n",
       "20240425_001_Iver3069_ABS2   638\n",
       "20240426_001_Iver3069_ABS2   500\n",
       "...                          ...\n",
       "20240809_001_Iver3069_ABS2   795\n",
       "20240813_001_Iver3069_ABS2   812\n",
       "20240814_001_Iver3069_ABS2   744\n",
       "20240815_001_Iver3069_ABS2   823\n",
       "20240816_001_Iver3069_ABS2   872\n",
       "\n",
       "[78 rows x 1 columns]"
      ]
     },
     "execution_count": 6,
     "metadata": {},
     "output_type": "execute_result"
    }
   ],
   "source": [
    "fpc = df6.groupby(by=\"collect_id\").count()\n",
    "fpc"
   ]
  },
  {
   "cell_type": "code",
   "execution_count": null,
   "metadata": {},
   "outputs": [],
   "source": [
    "localfolder1 = "
   ]
  }
 ],
 "metadata": {
  "kernelspec": {
   "display_name": "img_processing",
   "language": "python",
   "name": "python3"
  },
  "language_info": {
   "codemirror_mode": {
    "name": "ipython",
    "version": 3
   },
   "file_extension": ".py",
   "mimetype": "text/x-python",
   "name": "python",
   "nbconvert_exporter": "python",
   "pygments_lexer": "ipython3",
   "version": "3.11.4"
  }
 },
 "nbformat": 4,
 "nbformat_minor": 2
}
