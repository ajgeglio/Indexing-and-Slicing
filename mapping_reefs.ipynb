{
 "cells": [
  {
   "cell_type": "code",
   "execution_count": 109,
   "metadata": {},
   "outputs": [],
   "source": [
    "from mapping_reef_classes import get_coordinates\n",
    "import os\n",
    "import re\n",
    "import pandas as pd\n",
    "import numpy as np\n",
    "import datetime\n",
    "import pickle\n",
    "import shutil"
   ]
  },
  {
   "cell_type": "code",
   "execution_count": 110,
   "metadata": {},
   "outputs": [],
   "source": [
    "def list_files(filepath, filetype):\n",
    "   paths = []\n",
    "   for root, dirs, files in os.walk(filepath):\n",
    "      for file in files:\n",
    "         if file.lower().endswith(filetype.lower()):\n",
    "            paths.append(os.path.join(root, file))\n",
    "   return(paths)"
   ]
  },
  {
   "cell_type": "code",
   "execution_count": 29,
   "metadata": {},
   "outputs": [
    {
     "data": {
      "text/plain": [
       "[]"
      ]
     },
     "execution_count": 29,
     "metadata": {},
     "output_type": "execute_result"
    }
   ],
   "source": [
    "tif_files = list_files(r\"C:\\Users\\ageglio\\OneDrive - DOI\\Documents - Reef Mapping\\Data Release\", 'tif')\n",
    "# further sorting of file search\n",
    "tif_files = [re.findall('.*Bu.*', i) for i in tif_files]\n",
    "# tif_files = [re.findall('.*Classified.*', i) for i in tif_files]\n",
    "tif_files = list(set([item for sublist in tif_files for item in sublist]))\n",
    "tif_files.sort()\n",
    "tif_files"
   ]
  },
  {
   "cell_type": "code",
   "execution_count": 15,
   "metadata": {},
   "outputs": [
    {
     "data": {
      "text/html": [
       "<div>\n",
       "<style scoped>\n",
       "    .dataframe tbody tr th:only-of-type {\n",
       "        vertical-align: middle;\n",
       "    }\n",
       "\n",
       "    .dataframe tbody tr th {\n",
       "        vertical-align: top;\n",
       "    }\n",
       "\n",
       "    .dataframe thead th {\n",
       "        text-align: right;\n",
       "    }\n",
       "</style>\n",
       "<table border=\"1\" class=\"dataframe\">\n",
       "  <thead>\n",
       "    <tr style=\"text-align: right;\">\n",
       "      <th></th>\n",
       "      <th>filename</th>\n",
       "      <th>min_lat</th>\n",
       "      <th>min_lon</th>\n",
       "      <th>max_lat</th>\n",
       "      <th>max_lon</th>\n",
       "      <th>avr_lat</th>\n",
       "      <th>avr_lon</th>\n",
       "      <th>reef</th>\n",
       "    </tr>\n",
       "  </thead>\n",
       "  <tbody>\n",
       "    <tr>\n",
       "      <th>0</th>\n",
       "      <td>Lees Reef 1m.tif</td>\n",
       "      <td>44.885416</td>\n",
       "      <td>-85.643245</td>\n",
       "      <td>44.980516</td>\n",
       "      <td>-85.598793</td>\n",
       "      <td>44.932966</td>\n",
       "      <td>-85.621019</td>\n",
       "      <td>Downloads</td>\n",
       "    </tr>\n",
       "  </tbody>\n",
       "</table>\n",
       "</div>"
      ],
      "text/plain": [
       "           filename    min_lat    min_lon    max_lat    max_lon    avr_lat  \\\n",
       "0  Lees Reef 1m.tif  44.885416 -85.643245  44.980516 -85.598793  44.932966   \n",
       "\n",
       "     avr_lon       reef  \n",
       "0 -85.621019  Downloads  "
      ]
     },
     "execution_count": 15,
     "metadata": {},
     "output_type": "execute_result"
    }
   ],
   "source": [
    "lees_reef_tif = r\"C:\\Users\\ageglio\\Downloads\\Lees Reef 1m.tif\"\n",
    "lees_reef = get_coordinates().return_min_max_tif_df([lees_reef_tif])\n",
    "lees_reef"
   ]
  },
  {
   "cell_type": "code",
   "execution_count": 13,
   "metadata": {},
   "outputs": [
    {
     "data": {
      "text/html": [
       "<div>\n",
       "<style scoped>\n",
       "    .dataframe tbody tr th:only-of-type {\n",
       "        vertical-align: middle;\n",
       "    }\n",
       "\n",
       "    .dataframe tbody tr th {\n",
       "        vertical-align: top;\n",
       "    }\n",
       "\n",
       "    .dataframe thead th {\n",
       "        text-align: right;\n",
       "    }\n",
       "</style>\n",
       "<table border=\"1\" class=\"dataframe\">\n",
       "  <thead>\n",
       "    <tr style=\"text-align: right;\">\n",
       "      <th></th>\n",
       "      <th>filename</th>\n",
       "      <th>min_lat</th>\n",
       "      <th>min_lon</th>\n",
       "      <th>max_lat</th>\n",
       "      <th>max_lon</th>\n",
       "      <th>avr_lat</th>\n",
       "      <th>avr_lon</th>\n",
       "      <th>reef</th>\n",
       "    </tr>\n",
       "  </thead>\n",
       "  <tbody>\n",
       "    <tr>\n",
       "      <th>0</th>\n",
       "      <td>BayHarbor_Classified2.tif</td>\n",
       "      <td>45.370376</td>\n",
       "      <td>-85.000113</td>\n",
       "      <td>45.378667</td>\n",
       "      <td>-84.980203</td>\n",
       "      <td>45.374522</td>\n",
       "      <td>-84.990158</td>\n",
       "      <td>Bay Harbor</td>\n",
       "    </tr>\n",
       "    <tr>\n",
       "      <th>1</th>\n",
       "      <td>ElkRapids_Classified2.tif</td>\n",
       "      <td>44.895292</td>\n",
       "      <td>-85.429003</td>\n",
       "      <td>44.916075</td>\n",
       "      <td>-85.404111</td>\n",
       "      <td>44.905684</td>\n",
       "      <td>-85.416557</td>\n",
       "      <td>Elk Rapids</td>\n",
       "    </tr>\n",
       "    <tr>\n",
       "      <th>2</th>\n",
       "      <td>FishermensIsland_Classified.tif</td>\n",
       "      <td>45.286371</td>\n",
       "      <td>-85.372270</td>\n",
       "      <td>45.302994</td>\n",
       "      <td>-85.345161</td>\n",
       "      <td>45.294683</td>\n",
       "      <td>-85.358716</td>\n",
       "      <td>Fishermens Island</td>\n",
       "    </tr>\n",
       "    <tr>\n",
       "      <th>3</th>\n",
       "      <td>IngallsPoint_Classified.tif</td>\n",
       "      <td>45.067731</td>\n",
       "      <td>-85.577850</td>\n",
       "      <td>45.077120</td>\n",
       "      <td>-85.564201</td>\n",
       "      <td>45.072426</td>\n",
       "      <td>-85.571026</td>\n",
       "      <td>Ingalls Point</td>\n",
       "    </tr>\n",
       "    <tr>\n",
       "      <th>4</th>\n",
       "      <td>MissionPeninsula_Classified_test.tif</td>\n",
       "      <td>44.984333</td>\n",
       "      <td>-85.505051</td>\n",
       "      <td>45.035714</td>\n",
       "      <td>-85.469587</td>\n",
       "      <td>45.010023</td>\n",
       "      <td>-85.487319</td>\n",
       "      <td>Mission</td>\n",
       "    </tr>\n",
       "    <tr>\n",
       "      <th>5</th>\n",
       "      <td>TanneryCreek_Classified.tif</td>\n",
       "      <td>45.391005</td>\n",
       "      <td>-84.932999</td>\n",
       "      <td>45.409448</td>\n",
       "      <td>-84.917592</td>\n",
       "      <td>45.400226</td>\n",
       "      <td>-84.925296</td>\n",
       "      <td>Tannery Creek</td>\n",
       "    </tr>\n",
       "    <tr>\n",
       "      <th>6</th>\n",
       "      <td>TraverseShoal_Classified.tif</td>\n",
       "      <td>45.125140</td>\n",
       "      <td>-85.445749</td>\n",
       "      <td>45.152280</td>\n",
       "      <td>-85.420853</td>\n",
       "      <td>45.138710</td>\n",
       "      <td>-85.433301</td>\n",
       "      <td>Traverse Shoal</td>\n",
       "    </tr>\n",
       "  </tbody>\n",
       "</table>\n",
       "</div>"
      ],
      "text/plain": [
       "                               filename    min_lat    min_lon    max_lat  \\\n",
       "0             BayHarbor_Classified2.tif  45.370376 -85.000113  45.378667   \n",
       "1             ElkRapids_Classified2.tif  44.895292 -85.429003  44.916075   \n",
       "2       FishermensIsland_Classified.tif  45.286371 -85.372270  45.302994   \n",
       "3           IngallsPoint_Classified.tif  45.067731 -85.577850  45.077120   \n",
       "4  MissionPeninsula_Classified_test.tif  44.984333 -85.505051  45.035714   \n",
       "5           TanneryCreek_Classified.tif  45.391005 -84.932999  45.409448   \n",
       "6          TraverseShoal_Classified.tif  45.125140 -85.445749  45.152280   \n",
       "\n",
       "     max_lon    avr_lat    avr_lon               reef  \n",
       "0 -84.980203  45.374522 -84.990158         Bay Harbor  \n",
       "1 -85.404111  44.905684 -85.416557         Elk Rapids  \n",
       "2 -85.345161  45.294683 -85.358716  Fishermens Island  \n",
       "3 -85.564201  45.072426 -85.571026      Ingalls Point  \n",
       "4 -85.469587  45.010023 -85.487319            Mission  \n",
       "5 -84.917592  45.400226 -84.925296      Tannery Creek  \n",
       "6 -85.420853  45.138710 -85.433301     Traverse Shoal  "
      ]
     },
     "execution_count": 13,
     "metadata": {},
     "output_type": "execute_result"
    }
   ],
   "source": [
    "# 7, 8, 9\n",
    "df_tiffs = get_coordinates().return_min_max_tif_df(tif_files)\n",
    "# df_tiffs.to_csv(\"reef_coordinates.csv\")\n",
    "df_tiffs"
   ]
  },
  {
   "cell_type": "code",
   "execution_count": 17,
   "metadata": {},
   "outputs": [],
   "source": [
    "survey_names = pd.read_csv(r\"Z:\\HeadersCombined\\combined\\2019-2023_Collects_Survey_Names.csv\", index_col=0)\n",
    "df_collects = pd.read_csv(\"collects_lat_lon.csv\", index_col=0).sort_values(by=\"date\")\n",
    "df_collects = pd.merge(df_collects, survey_names[[\"collect_id\",\"# of bag files\",\"SurveyName\"]], on=\"collect_id\", how=\"outer\")\n",
    "df_collects = df_collects[(df_collects[\"# of bag files\"]>100)]\n",
    "df_collects.to_csv(\"collects_lat_lon_survey_info.csv\")"
   ]
  },
  {
   "cell_type": "code",
   "execution_count": 10,
   "metadata": {},
   "outputs": [],
   "source": [
    "BayHarbor = df_tiffs.loc[0]\n",
    "ElkRapids = df_tiffs.loc[1]\n",
    "FishermansIsland = df_tiffs.loc[2]\n",
    "IngallsPoint = df_tiffs.loc[3]\n",
    "MissionPeninsula = df_tiffs.loc[4]\n",
    "TanneryCreek = df_tiffs.loc[5]\n",
    "TraverseShoal = df_tiffs.loc[6]"
   ]
  },
  {
   "cell_type": "code",
   "execution_count": 17,
   "metadata": {},
   "outputs": [],
   "source": [
    "def reef_overlap(reef, df):\n",
    "    df['Reef_overlap'] = np.nan\n",
    "    apx = (1/60)/2\n",
    "    idx = df[(reef.avr_lat > df.min_lat - apx) & (reef.avr_lat < df.max_lat + apx) & (reef.avr_lon > df.min_lon - apx) & (reef.avr_lon < df.max_lon + apx)].index\n",
    "    new_df = df.loc[idx]\n",
    "    new_df.loc[:,'Reef_overlap'] = reef.reef\n",
    "    return new_df"
   ]
  },
  {
   "cell_type": "code",
   "execution_count": 12,
   "metadata": {},
   "outputs": [],
   "source": [
    "BayHarbor_df = reef_overlap(BayHarbor, df_collects)\n",
    "ElkRapids_df = reef_overlap(ElkRapids, df_collects)\n",
    "FishermansIsland_df = reef_overlap(FishermansIsland, df_collects)\n",
    "IngallsPoint_df = reef_overlap(IngallsPoint, df_collects)\n",
    "MissionPeninsula_df = reef_overlap(MissionPeninsula, df_collects)\n",
    "TanneryCreek_df = reef_overlap(TanneryCreek, df_collects)\n",
    "TraverseShoal_df = reef_overlap(TraverseShoal, df_collects)\n",
    "dfs = [BayHarbor_df, ElkRapids_df, FishermansIsland_df, IngallsPoint_df, MissionPeninsula_df, TanneryCreek_df, TraverseShoal_df]\n",
    "reef_overlap_df = pd.concat(dfs)\n",
    "reef_overlap_df = reef_overlap_df.sort_values(by=[\"Reef_overlap\", \"date\"])\n",
    "reef_overlap_df.to_csv(\"Reef_tif_collects_overlap.csv\")"
   ]
  },
  {
   "cell_type": "code",
   "execution_count": 25,
   "metadata": {},
   "outputs": [
    {
     "data": {
      "text/html": [
       "<div>\n",
       "<style scoped>\n",
       "    .dataframe tbody tr th:only-of-type {\n",
       "        vertical-align: middle;\n",
       "    }\n",
       "\n",
       "    .dataframe tbody tr th {\n",
       "        vertical-align: top;\n",
       "    }\n",
       "\n",
       "    .dataframe thead th {\n",
       "        text-align: right;\n",
       "    }\n",
       "</style>\n",
       "<table border=\"1\" class=\"dataframe\">\n",
       "  <thead>\n",
       "    <tr style=\"text-align: right;\">\n",
       "      <th></th>\n",
       "      <th>collect_path</th>\n",
       "      <th>collect_id</th>\n",
       "      <th>date</th>\n",
       "      <th>collect</th>\n",
       "      <th>AUV</th>\n",
       "      <th>cam_sys</th>\n",
       "      <th>min_lat</th>\n",
       "      <th>min_lon</th>\n",
       "      <th>max_lat</th>\n",
       "      <th>max_lon</th>\n",
       "      <th># of bag files</th>\n",
       "      <th>SurveyName</th>\n",
       "      <th>Reef_overlap</th>\n",
       "    </tr>\n",
       "  </thead>\n",
       "  <tbody>\n",
       "  </tbody>\n",
       "</table>\n",
       "</div>"
      ],
      "text/plain": [
       "Empty DataFrame\n",
       "Columns: [collect_path, collect_id, date, collect, AUV, cam_sys, min_lat, min_lon, max_lat, max_lon, # of bag files, SurveyName, Reef_overlap]\n",
       "Index: []"
      ]
     },
     "execution_count": 25,
     "metadata": {},
     "output_type": "execute_result"
    }
   ],
   "source": [
    "reef_overlap(lees_reef.loc[0], df_collects)"
   ]
  },
  {
   "cell_type": "code",
   "execution_count": 13,
   "metadata": {},
   "outputs": [
    {
     "data": {
      "text/plain": [
       "Index([213756, 213757, 213758, 213759, 213760, 213761, 213762, 213763, 213764,\n",
       "       213765,\n",
       "       ...\n",
       "       215922, 215923, 215924, 215925, 215926, 215927, 215928, 215929, 215930,\n",
       "       215931],\n",
       "      dtype='int64', length=2135)"
      ]
     },
     "execution_count": 13,
     "metadata": {},
     "output_type": "execute_result"
    }
   ],
   "source": [
    "df_unp = pd.read_csv('all_unpacked_images_metadata.csv', index_col=0, low_memory=False)\n",
    "df_unp_u = df_unp[~df_unp.Usability.isin([\"Unusable\",\"unusable\"])]\n",
    "## BayHarbor\n",
    "imgs_BayHarbor = df_unp_u[df_unp_u.collect_id.isin(BayHarbor_df.collect_id.values)].index\n",
    "## ElkRapids\n",
    "imgs_ElkRapids = df_unp_u[df_unp_u.collect_id.isin(ElkRapids_df.collect_id.values)].index\n",
    "## FishermansIsland\n",
    "imgs_FishermansIsland = df_unp_u[df_unp_u.collect_id.isin(FishermansIsland_df.collect_id.values)].index\n",
    "## IngallsPoint\n",
    "imgs_IngallsPoint = df_unp_u[df_unp_u.collect_id.isin(IngallsPoint_df.collect_id.values)].index\n",
    "## MissionPeninsula\n",
    "imgs_MissionPeninsula = df_unp_u[df_unp_u.collect_id.isin(MissionPeninsula_df.collect_id.values)].index\n",
    "## TanneryCreek\n",
    "imgs_TanneryCreek = df_unp_u[df_unp_u.collect_id.isin(TanneryCreek_df.collect_id.values)].index\n",
    "## TraverseShoal\n",
    "imgs_TraverseShoal = df_unp_u[df_unp_u.collect_id.isin(TraverseShoal_df.collect_id.values)].index\n",
    "imgs_BayHarbor"
   ]
  },
  {
   "cell_type": "code",
   "execution_count": 16,
   "metadata": {},
   "outputs": [
    {
     "name": "stdout",
     "output_type": "stream",
     "text": [
      "Copying 1611 / 1611  \r"
     ]
    }
   ],
   "source": [
    "def copy_imgs_2_drive(df, group, dest_folder):\n",
    "    header = df.loc[group]\n",
    "    header_name = os.path.basename(dest_folder)+\"_header.csv\"\n",
    "    header_dest = os.path.join(os.path.dirname(dest_folder), header_name)\n",
    "    header.to_csv(header_dest)\n",
    "    img_pth_list = list(df.loc[group, 'image_path'])\n",
    "    img_nam_list = list(df.loc[group, 'image_name'])\n",
    "    num_imgs = len(img_nam_list)\n",
    "    i=0\n",
    "    for img_pth, img_name in zip(img_pth_list, img_nam_list):\n",
    "        src = img_pth\n",
    "        dest = os.path.join(dest_folder, img_name)\n",
    "        # File copy was interrupted often due to network, added src/dest comparison\n",
    "        if os.path.exists(dest):\n",
    "            if os.stat(src).st_size == os.stat(dest).st_size:\n",
    "                i+=1\n",
    "            else:\n",
    "                shutil.copy(src, dest)\n",
    "                i+=1\n",
    "        else:\n",
    "            shutil.copy(src, dest)\n",
    "            i+=1\n",
    "        print(\"Copying\", i,\"/\",num_imgs, end='  \\r')\n",
    "\n",
    "dest = os.path.join(\"G:\", \"imgs_TraverseShoal\")\n",
    "\n",
    "## Stonecat\n",
    "copy_imgs_2_drive(df_unp, imgs_TraverseShoal, dest_folder = dest)"
   ]
  }
 ],
 "metadata": {
  "kernelspec": {
   "display_name": "bubbler-lite",
   "language": "python",
   "name": "python3"
  },
  "language_info": {
   "codemirror_mode": {
    "name": "ipython",
    "version": 3
   },
   "file_extension": ".py",
   "mimetype": "text/x-python",
   "name": "python",
   "nbconvert_exporter": "python",
   "pygments_lexer": "ipython3",
   "version": "3.9.16"
  },
  "orig_nbformat": 4
 },
 "nbformat": 4,
 "nbformat_minor": 2
}
