{
 "cells": [
  {
   "cell_type": "code",
   "execution_count": 1,
   "metadata": {},
   "outputs": [],
   "source": [
    "import shutil\n",
    "import os\n",
    "import pandas as pd\n",
    "import glob\n",
    "import numpy as np\n",
    "from src import *"
   ]
  },
  {
   "cell_type": "code",
   "execution_count": 2,
   "metadata": {},
   "outputs": [],
   "source": [
    "yolo_out_2023 = pd.read_csv(r\"Z:\\Proj_Yolo\\2023_Yolo_update\\02_2023_Assessment\\2023_assessment_run7wts_Yolo_predictions_conf001.csv\", index_col=0)\n",
    "meta_2023 = pd.read_csv(r\"Z:\\Proj_Yolo\\2023_Yolo_update\\02_2023_Assessment\\2023_Usable_Unpacked_Goby_metadata_20240214.csv\", index_col=0)\n",
    "substr_2023 = pd.read_csv(r\"Z:\\Proj_Yolo\\2023_Yolo_update\\02_2023_Assessment\\2023_CNN_substrate_prediction_filepath2.csv\", index_col=0)"
   ]
  },
  {
   "cell_type": "code",
   "execution_count": 3,
   "metadata": {},
   "outputs": [],
   "source": [
    "import cv2\n",
    "import matplotlib.pyplot as plt\n",
    "plt.ioff()\n",
    "def plot_prediction(df):\n",
    "    tst = df.sample(9)\n",
    "    pths_tst = tst['image_path'].values\n",
    "    lbls_tst = tst['substrate'].values\n",
    "    fig, axs = plt.subplots(3, 3, figsize = (12,9))\n",
    "    i = 0\n",
    "    for r in range(len(axs[0])):\n",
    "        for c in range(len(axs[1])):\n",
    "            try:\n",
    "                im = cv2.imread(pths_tst[i])\n",
    "                h, w, n_chan = im.shape\n",
    "                im_resized = cv2.resize(im, (w//10, h//10), interpolation=cv2.INTER_LINEAR)\n",
    "                axs[r][c].imshow(cv2.cvtColor(im_resized, cv2.COLOR_BGR2RGB))\n",
    "                axs[r][c].set_title(lbls_tst[i]+\" \"+os.path.basename(pths_tst[i]))\n",
    "                axs[r][c].set_xticklabels([])\n",
    "                axs[r][c].set_yticklabels([])\n",
    "                i+=1\n",
    "            except: \n",
    "                print(\"unable to resize, image may not exist:\", pths_tst[i])\n",
    "                i+=1\n",
    "            \n",
    "    fig.tight_layout()\n",
    "    return fig\n",
    "i = 88\n",
    "while i == 88:\n",
    "    fig = plot_prediction(substr_2023)\n",
    "    plt.close(fig)\n",
    "    fig.savefig(f\"2023_substrate_labelcheck/substrate_2023_{i}.jpg\")\n",
    "    i+=1\n",
    "    print(i, end='\\r')"
   ]
  },
  {
   "cell_type": "code",
   "execution_count": 4,
   "metadata": {},
   "outputs": [
    {
     "data": {
      "text/plain": [
       "['Z:\\\\__Organized_Directories_InProgress\\\\2021_UnpackedCollects\\\\Every1\\\\20210605_001_Iver3069_ABS1_Every1\\\\ABISS_camera_image_raw']"
      ]
     },
     "execution_count": 4,
     "metadata": {},
     "output_type": "execute_result"
    }
   ],
   "source": [
    "pth = r\"Z:\\__Organized_Directories_InProgress\\2021_UnpackedCollects\"\n",
    "pat = \"(.*camera.*)\"\n",
    "list_folders_w_pattern(pth, pat)"
   ]
  }
 ],
 "metadata": {
  "kernelspec": {
   "display_name": "bubbler-lite",
   "language": "python",
   "name": "python3"
  },
  "language_info": {
   "codemirror_mode": {
    "name": "ipython",
    "version": 3
   },
   "file_extension": ".py",
   "mimetype": "text/x-python",
   "name": "python",
   "nbconvert_exporter": "python",
   "pygments_lexer": "ipython3",
   "version": "3.9.16"
  },
  "orig_nbformat": 4
 },
 "nbformat": 4,
 "nbformat_minor": 2
}
