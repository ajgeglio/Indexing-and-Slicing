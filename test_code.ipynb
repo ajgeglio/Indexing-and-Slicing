{
 "cells": [
  {
   "cell_type": "code",
   "execution_count": 8,
   "metadata": {},
   "outputs": [],
   "source": [
    "from src import *\n",
    "import cv2\n",
    "import matplotlib.pyplot as plt\n",
    "import datetime\n",
    "import pandas as pd"
   ]
  },
  {
   "cell_type": "markdown",
   "metadata": {},
   "source": [
    "## Ploting substrate predictions"
   ]
  },
  {
   "cell_type": "code",
   "execution_count": 11,
   "metadata": {},
   "outputs": [
    {
     "name": "stdout",
     "output_type": "stream",
     "text": [
      "41\r"
     ]
    }
   ],
   "source": [
    "plt.ioff()\n",
    "def plot_prediction(df):\n",
    "    tst = df.sample(9)\n",
    "    pths_tst = tst['image_path'].values\n",
    "    lbls_tst = tst['substrate'].values\n",
    "    fig, axs = plt.subplots(3, 3, figsize = (12,9))\n",
    "    i = 0\n",
    "    for r in range(len(axs[0])):\n",
    "        for c in range(len(axs[1])):\n",
    "            try:\n",
    "                im = cv2.imread(pths_tst[i])\n",
    "                h, w, n_chan = im.shape\n",
    "                im_resized = cv2.resize(im, (w//10, h//10), interpolation=cv2.INTER_LINEAR)\n",
    "                axs[r][c].imshow(cv2.cvtColor(im_resized, cv2.COLOR_BGR2RGB))\n",
    "                axs[r][c].set_title(lbls_tst[i]+\" \"+os.path.basename(pths_tst[i]))\n",
    "                axs[r][c].set_xticklabels([])\n",
    "                axs[r][c].set_yticklabels([])\n",
    "                i+=1\n",
    "            except: \n",
    "                print(\"unable to resize, image may not exist:\", pths_tst[i])\n",
    "                i+=1\n",
    "            \n",
    "    fig.tight_layout()\n",
    "    return fig\n",
    "\n",
    "substr_2022 = pd.read_csv(r\"Z:\\Proj_Yolo\\2022_Yolo_update\\02_2022_Assessment\\2022_CNN_substrate_prediction_filepaths.csv\", index_col=0)\n",
    "i = 1\n",
    "while i <= 40:\n",
    "    fig = plot_prediction(substr_2022)\n",
    "    plt.close(fig)\n",
    "    fig.savefig(f\"substrate_labelcheck/2022/substrate_2022_{i}.jpg\")\n",
    "    i+=1\n",
    "    print(i, end='\\r')"
   ]
  },
  {
   "cell_type": "markdown",
   "metadata": {},
   "source": [
    "### For searching file system"
   ]
  },
  {
   "cell_type": "code",
   "execution_count": 4,
   "metadata": {},
   "outputs": [
    {
     "data": {
      "text/plain": [
       "['Z:\\\\__Organized_Directories_InProgress\\\\2021_UnpackedCollects\\\\Every1\\\\20210605_001_Iver3069_ABS1_Every1\\\\ABISS_camera_image_raw']"
      ]
     },
     "execution_count": 4,
     "metadata": {},
     "output_type": "execute_result"
    }
   ],
   "source": [
    "pth = r\"Z:\\__Organized_Directories_InProgress\\2021_UnpackedCollects\"\n",
    "pat = \"(.*camera.*)\"\n",
    "list_folders_w_pattern(pth, pat)"
   ]
  },
  {
   "cell_type": "markdown",
   "metadata": {},
   "source": [
    "## 2020 corrected metadata recovery"
   ]
  },
  {
   "cell_type": "code",
   "execution_count": 48,
   "metadata": {},
   "outputs": [],
   "source": [
    "# tmp = pd.read_pickle(r\"2019-2023-20231026\\2019-2023_headers_combined_20231026.pickle\")\n",
    "# tmp1 = tmp[(tmp.Datetime >= \"2020-01-01\") &  (tmp.Datetime <= \"2020-12-31\")]\n",
    "# tmp1 = tmp1.rename(columns={\"image_name\":\"old_image_name\"})\n",
    "# omtnm = lambda x: \"PI_\"+ f\"{x:.3f}\".replace(\".\",\"_\")+\".png\"\n",
    "# tmp1['image_name'] = tmp1.EpochTime.apply(omtnm)\n",
    "# tmp1[[\"old_image_name\", \"image_name\"]].to_csv(\"2020_old_img_name_dict.csv\")\n",
    "# tmp1.to_csv(r\"Z:\\Headers2020\\AnnotatedImagesHeaders\\Corrected_combined\\2020_metadata_corrected_combined.csv\", index=0)"
   ]
  },
  {
   "cell_type": "markdown",
   "metadata": {},
   "source": [
    "# copying YOLO label files to new directory"
   ]
  },
  {
   "cell_type": "markdown",
   "metadata": {},
   "source": [
    "### 2020"
   ]
  },
  {
   "cell_type": "code",
   "execution_count": 2,
   "metadata": {},
   "outputs": [],
   "source": [
    "## 2020\n",
    "# yolo_2020_lbls = glob.glob(r\"Z:\\__Organized_Directories_InProgress\\Fish_annotations_based_on_YOLO\\2020\\*\\YOLO_coordinates\\*.txt\")\n",
    "# yolo_2020_lbls_new_name = pd.DataFrame(yolo_2020_lbls, columns=[\"original_path\"])\n",
    "# bn = lambda x: os.path.basename(x)\n",
    "# yolo_2020_lbls_new_name['original_name'] = yolo_2020_lbls_new_name.original_path.apply(bn)\n",
    "# old_new_dict = dict(pd.read_csv(\"2020_old_img_name_dict.csv\", index_col=0).values)\n",
    "# def try_rename(x):\n",
    "#     try:\n",
    "#         y = old_new_dict[x.split(\".\")[0]+\".png\"].split(\".\")[0]+\".txt\"\n",
    "#     except:\n",
    "#         y = x\n",
    "#     return y\n",
    "# ad = lambda x: try_rename(x)\n",
    "# yolo_2020_lbls_new_name['new_name'] =  yolo_2020_lbls_new_name.original_name.apply(ad)\n",
    "# new_root = r\"Z:\\Proj_Yolo\\labels\\2020\"\n",
    "# np = lambda x: os.path.join(new_root,x)\n",
    "# yolo_2020_lbls_new_name['new_path'] = yolo_2020_lbls_new_name.new_name.apply(np)\n",
    "\n",
    "# # yolo_2020_lbls_new_name.to_csv(r\"Z:\\__Organized_Directories_InProgress\\Fish_annotations_based_on_YOLO\\2020\\2020_img_name_transfer.csv\")\n",
    "# yolo_2020_lbls_new_name\n",
    "# move_lbl_files(yolo_2020_lbls_new_name)"
   ]
  },
  {
   "cell_type": "markdown",
   "metadata": {},
   "source": [
    "### 2021"
   ]
  },
  {
   "cell_type": "code",
   "execution_count": 4,
   "metadata": {},
   "outputs": [
    {
     "data": {
      "text/html": [
       "<div>\n",
       "<style scoped>\n",
       "    .dataframe tbody tr th:only-of-type {\n",
       "        vertical-align: middle;\n",
       "    }\n",
       "\n",
       "    .dataframe tbody tr th {\n",
       "        vertical-align: top;\n",
       "    }\n",
       "\n",
       "    .dataframe thead th {\n",
       "        text-align: right;\n",
       "    }\n",
       "</style>\n",
       "<table border=\"1\" class=\"dataframe\">\n",
       "  <thead>\n",
       "    <tr style=\"text-align: right;\">\n",
       "      <th></th>\n",
       "      <th>original_path</th>\n",
       "      <th>original_filename</th>\n",
       "      <th>new_path</th>\n",
       "    </tr>\n",
       "  </thead>\n",
       "  <tbody>\n",
       "    <tr>\n",
       "      <th>0</th>\n",
       "      <td>Z:\\__Organized_Directories_InProgress\\Fish_ann...</td>\n",
       "      <td>CI_1624908644_065.txt</td>\n",
       "      <td>Z:\\Proj_Yolo\\labels\\2021\\CI_1624908644_065.txt</td>\n",
       "    </tr>\n",
       "    <tr>\n",
       "      <th>1</th>\n",
       "      <td>Z:\\__Organized_Directories_InProgress\\Fish_ann...</td>\n",
       "      <td>CI_1624908646_802.txt</td>\n",
       "      <td>Z:\\Proj_Yolo\\labels\\2021\\CI_1624908646_802.txt</td>\n",
       "    </tr>\n",
       "    <tr>\n",
       "      <th>2</th>\n",
       "      <td>Z:\\__Organized_Directories_InProgress\\Fish_ann...</td>\n",
       "      <td>CI_1624908655_643.txt</td>\n",
       "      <td>Z:\\Proj_Yolo\\labels\\2021\\CI_1624908655_643.txt</td>\n",
       "    </tr>\n",
       "    <tr>\n",
       "      <th>3</th>\n",
       "      <td>Z:\\__Organized_Directories_InProgress\\Fish_ann...</td>\n",
       "      <td>CI_1624908676_544.txt</td>\n",
       "      <td>Z:\\Proj_Yolo\\labels\\2021\\CI_1624908676_544.txt</td>\n",
       "    </tr>\n",
       "    <tr>\n",
       "      <th>4</th>\n",
       "      <td>Z:\\__Organized_Directories_InProgress\\Fish_ann...</td>\n",
       "      <td>CI_1624908682_976.txt</td>\n",
       "      <td>Z:\\Proj_Yolo\\labels\\2021\\CI_1624908682_976.txt</td>\n",
       "    </tr>\n",
       "    <tr>\n",
       "      <th>...</th>\n",
       "      <td>...</td>\n",
       "      <td>...</td>\n",
       "      <td>...</td>\n",
       "    </tr>\n",
       "    <tr>\n",
       "      <th>33253</th>\n",
       "      <td>Z:\\__Organized_Directories_InProgress\\Fish_ann...</td>\n",
       "      <td>CI_1632597858_601.txt</td>\n",
       "      <td>Z:\\Proj_Yolo\\labels\\2021\\CI_1632597858_601.txt</td>\n",
       "    </tr>\n",
       "    <tr>\n",
       "      <th>33254</th>\n",
       "      <td>Z:\\__Organized_Directories_InProgress\\Fish_ann...</td>\n",
       "      <td>CI_1632597862_621.txt</td>\n",
       "      <td>Z:\\Proj_Yolo\\labels\\2021\\CI_1632597862_621.txt</td>\n",
       "    </tr>\n",
       "    <tr>\n",
       "      <th>33255</th>\n",
       "      <td>Z:\\__Organized_Directories_InProgress\\Fish_ann...</td>\n",
       "      <td>CI_1632597867_766.txt</td>\n",
       "      <td>Z:\\Proj_Yolo\\labels\\2021\\CI_1632597867_766.txt</td>\n",
       "    </tr>\n",
       "    <tr>\n",
       "      <th>33256</th>\n",
       "      <td>Z:\\__Organized_Directories_InProgress\\Fish_ann...</td>\n",
       "      <td>CI_1632597881_433.txt</td>\n",
       "      <td>Z:\\Proj_Yolo\\labels\\2021\\CI_1632597881_433.txt</td>\n",
       "    </tr>\n",
       "    <tr>\n",
       "      <th>33257</th>\n",
       "      <td>Z:\\__Organized_Directories_InProgress\\Fish_ann...</td>\n",
       "      <td>CI_1632597885_452.txt</td>\n",
       "      <td>Z:\\Proj_Yolo\\labels\\2021\\CI_1632597885_452.txt</td>\n",
       "    </tr>\n",
       "  </tbody>\n",
       "</table>\n",
       "<p>33258 rows × 3 columns</p>\n",
       "</div>"
      ],
      "text/plain": [
       "                                           original_path  \\\n",
       "0      Z:\\__Organized_Directories_InProgress\\Fish_ann...   \n",
       "1      Z:\\__Organized_Directories_InProgress\\Fish_ann...   \n",
       "2      Z:\\__Organized_Directories_InProgress\\Fish_ann...   \n",
       "3      Z:\\__Organized_Directories_InProgress\\Fish_ann...   \n",
       "4      Z:\\__Organized_Directories_InProgress\\Fish_ann...   \n",
       "...                                                  ...   \n",
       "33253  Z:\\__Organized_Directories_InProgress\\Fish_ann...   \n",
       "33254  Z:\\__Organized_Directories_InProgress\\Fish_ann...   \n",
       "33255  Z:\\__Organized_Directories_InProgress\\Fish_ann...   \n",
       "33256  Z:\\__Organized_Directories_InProgress\\Fish_ann...   \n",
       "33257  Z:\\__Organized_Directories_InProgress\\Fish_ann...   \n",
       "\n",
       "           original_filename                                        new_path  \n",
       "0      CI_1624908644_065.txt  Z:\\Proj_Yolo\\labels\\2021\\CI_1624908644_065.txt  \n",
       "1      CI_1624908646_802.txt  Z:\\Proj_Yolo\\labels\\2021\\CI_1624908646_802.txt  \n",
       "2      CI_1624908655_643.txt  Z:\\Proj_Yolo\\labels\\2021\\CI_1624908655_643.txt  \n",
       "3      CI_1624908676_544.txt  Z:\\Proj_Yolo\\labels\\2021\\CI_1624908676_544.txt  \n",
       "4      CI_1624908682_976.txt  Z:\\Proj_Yolo\\labels\\2021\\CI_1624908682_976.txt  \n",
       "...                      ...                                             ...  \n",
       "33253  CI_1632597858_601.txt  Z:\\Proj_Yolo\\labels\\2021\\CI_1632597858_601.txt  \n",
       "33254  CI_1632597862_621.txt  Z:\\Proj_Yolo\\labels\\2021\\CI_1632597862_621.txt  \n",
       "33255  CI_1632597867_766.txt  Z:\\Proj_Yolo\\labels\\2021\\CI_1632597867_766.txt  \n",
       "33256  CI_1632597881_433.txt  Z:\\Proj_Yolo\\labels\\2021\\CI_1632597881_433.txt  \n",
       "33257  CI_1632597885_452.txt  Z:\\Proj_Yolo\\labels\\2021\\CI_1632597885_452.txt  \n",
       "\n",
       "[33258 rows x 3 columns]"
      ]
     },
     "execution_count": 4,
     "metadata": {},
     "output_type": "execute_result"
    }
   ],
   "source": [
    "## 2021\n",
    "yolo_2021_lbls = r\"Z:\\__Organized_Directories_InProgress\\Fish_annotations_based_on_YOLO\\2021\\*\\YOLO_coordinates\"\n",
    "new_root = r\"Z:\\Proj_Yolo\\labels\\2021\"\n",
    "yolo_2021_lbls_new_name = make_move_df(yolo_2021_lbls, new_root, ext = \".txt\")\n",
    "yolo_2021_lbls_new_name"
   ]
  },
  {
   "cell_type": "code",
   "execution_count": 6,
   "metadata": {},
   "outputs": [
    {
     "name": "stdout",
     "output_type": "stream",
     "text": [
      "33258 / 33258 und 33258 \r"
     ]
    }
   ],
   "source": [
    "# move_lbl_files(yolo_2021_lbls_new_name)"
   ]
  },
  {
   "cell_type": "markdown",
   "metadata": {},
   "source": [
    "### 2022"
   ]
  },
  {
   "cell_type": "code",
   "execution_count": 3,
   "metadata": {},
   "outputs": [
    {
     "data": {
      "text/html": [
       "<div>\n",
       "<style scoped>\n",
       "    .dataframe tbody tr th:only-of-type {\n",
       "        vertical-align: middle;\n",
       "    }\n",
       "\n",
       "    .dataframe tbody tr th {\n",
       "        vertical-align: top;\n",
       "    }\n",
       "\n",
       "    .dataframe thead th {\n",
       "        text-align: right;\n",
       "    }\n",
       "</style>\n",
       "<table border=\"1\" class=\"dataframe\">\n",
       "  <thead>\n",
       "    <tr style=\"text-align: right;\">\n",
       "      <th></th>\n",
       "      <th>original_path</th>\n",
       "      <th>original_filename</th>\n",
       "      <th>new_path</th>\n",
       "    </tr>\n",
       "  </thead>\n",
       "  <tbody>\n",
       "    <tr>\n",
       "      <th>0</th>\n",
       "      <td>Z:\\__Organized_Directories_InProgress\\Fish_ann...</td>\n",
       "      <td>CI_1654876771_859.txt</td>\n",
       "      <td>Z:\\Proj_Yolo\\labels\\2022\\CI_1654876771_859.txt</td>\n",
       "    </tr>\n",
       "    <tr>\n",
       "      <th>1</th>\n",
       "      <td>Z:\\__Organized_Directories_InProgress\\Fish_ann...</td>\n",
       "      <td>CI_1654877418_948.txt</td>\n",
       "      <td>Z:\\Proj_Yolo\\labels\\2022\\CI_1654877418_948.txt</td>\n",
       "    </tr>\n",
       "    <tr>\n",
       "      <th>2</th>\n",
       "      <td>Z:\\__Organized_Directories_InProgress\\Fish_ann...</td>\n",
       "      <td>CI_1654985048_233.txt</td>\n",
       "      <td>Z:\\Proj_Yolo\\labels\\2022\\CI_1654985048_233.txt</td>\n",
       "    </tr>\n",
       "    <tr>\n",
       "      <th>3</th>\n",
       "      <td>Z:\\__Organized_Directories_InProgress\\Fish_ann...</td>\n",
       "      <td>CI_1655320150_632.txt</td>\n",
       "      <td>Z:\\Proj_Yolo\\labels\\2022\\CI_1655320150_632.txt</td>\n",
       "    </tr>\n",
       "    <tr>\n",
       "      <th>4</th>\n",
       "      <td>Z:\\__Organized_Directories_InProgress\\Fish_ann...</td>\n",
       "      <td>CI_1655321889_946.txt</td>\n",
       "      <td>Z:\\Proj_Yolo\\labels\\2022\\CI_1655321889_946.txt</td>\n",
       "    </tr>\n",
       "    <tr>\n",
       "      <th>...</th>\n",
       "      <td>...</td>\n",
       "      <td>...</td>\n",
       "      <td>...</td>\n",
       "    </tr>\n",
       "    <tr>\n",
       "      <th>2034</th>\n",
       "      <td>Z:\\__Organized_Directories_InProgress\\Fish_ann...</td>\n",
       "      <td>CI_1663709894_225.txt</td>\n",
       "      <td>Z:\\Proj_Yolo\\labels\\2022\\CI_1663709894_225.txt</td>\n",
       "    </tr>\n",
       "    <tr>\n",
       "      <th>2035</th>\n",
       "      <td>Z:\\__Organized_Directories_InProgress\\Fish_ann...</td>\n",
       "      <td>CI_1663709926_224.txt</td>\n",
       "      <td>Z:\\Proj_Yolo\\labels\\2022\\CI_1663709926_224.txt</td>\n",
       "    </tr>\n",
       "    <tr>\n",
       "      <th>2036</th>\n",
       "      <td>Z:\\__Organized_Directories_InProgress\\Fish_ann...</td>\n",
       "      <td>CI_1663710270_211.txt</td>\n",
       "      <td>Z:\\Proj_Yolo\\labels\\2022\\CI_1663710270_211.txt</td>\n",
       "    </tr>\n",
       "    <tr>\n",
       "      <th>2037</th>\n",
       "      <td>Z:\\__Organized_Directories_InProgress\\Fish_ann...</td>\n",
       "      <td>CI_1663710642_697.txt</td>\n",
       "      <td>Z:\\Proj_Yolo\\labels\\2022\\CI_1663710642_697.txt</td>\n",
       "    </tr>\n",
       "    <tr>\n",
       "      <th>2038</th>\n",
       "      <td>Z:\\__Organized_Directories_InProgress\\Fish_ann...</td>\n",
       "      <td>CI_1663710762_693.txt</td>\n",
       "      <td>Z:\\Proj_Yolo\\labels\\2022\\CI_1663710762_693.txt</td>\n",
       "    </tr>\n",
       "  </tbody>\n",
       "</table>\n",
       "<p>2039 rows × 3 columns</p>\n",
       "</div>"
      ],
      "text/plain": [
       "                                          original_path  \\\n",
       "0     Z:\\__Organized_Directories_InProgress\\Fish_ann...   \n",
       "1     Z:\\__Organized_Directories_InProgress\\Fish_ann...   \n",
       "2     Z:\\__Organized_Directories_InProgress\\Fish_ann...   \n",
       "3     Z:\\__Organized_Directories_InProgress\\Fish_ann...   \n",
       "4     Z:\\__Organized_Directories_InProgress\\Fish_ann...   \n",
       "...                                                 ...   \n",
       "2034  Z:\\__Organized_Directories_InProgress\\Fish_ann...   \n",
       "2035  Z:\\__Organized_Directories_InProgress\\Fish_ann...   \n",
       "2036  Z:\\__Organized_Directories_InProgress\\Fish_ann...   \n",
       "2037  Z:\\__Organized_Directories_InProgress\\Fish_ann...   \n",
       "2038  Z:\\__Organized_Directories_InProgress\\Fish_ann...   \n",
       "\n",
       "          original_filename                                        new_path  \n",
       "0     CI_1654876771_859.txt  Z:\\Proj_Yolo\\labels\\2022\\CI_1654876771_859.txt  \n",
       "1     CI_1654877418_948.txt  Z:\\Proj_Yolo\\labels\\2022\\CI_1654877418_948.txt  \n",
       "2     CI_1654985048_233.txt  Z:\\Proj_Yolo\\labels\\2022\\CI_1654985048_233.txt  \n",
       "3     CI_1655320150_632.txt  Z:\\Proj_Yolo\\labels\\2022\\CI_1655320150_632.txt  \n",
       "4     CI_1655321889_946.txt  Z:\\Proj_Yolo\\labels\\2022\\CI_1655321889_946.txt  \n",
       "...                     ...                                             ...  \n",
       "2034  CI_1663709894_225.txt  Z:\\Proj_Yolo\\labels\\2022\\CI_1663709894_225.txt  \n",
       "2035  CI_1663709926_224.txt  Z:\\Proj_Yolo\\labels\\2022\\CI_1663709926_224.txt  \n",
       "2036  CI_1663710270_211.txt  Z:\\Proj_Yolo\\labels\\2022\\CI_1663710270_211.txt  \n",
       "2037  CI_1663710642_697.txt  Z:\\Proj_Yolo\\labels\\2022\\CI_1663710642_697.txt  \n",
       "2038  CI_1663710762_693.txt  Z:\\Proj_Yolo\\labels\\2022\\CI_1663710762_693.txt  \n",
       "\n",
       "[2039 rows x 3 columns]"
      ]
     },
     "execution_count": 3,
     "metadata": {},
     "output_type": "execute_result"
    }
   ],
   "source": [
    "## 2022\n",
    "yolo_2022_lbls = r\"Z:\\__Organized_Directories_InProgress\\Fish_annotations_based_on_YOLO\\2022\\*\\*\\YOLO_coordinates\"\n",
    "new_root = r\"Z:\\Proj_Yolo\\labels\\2022\"\n",
    "yolo_2022_lbls_new_name = make_move_df(yolo_2022_lbls, new_root, ext = \".txt\")\n",
    "yolo_2022_lbls_new_name"
   ]
  },
  {
   "cell_type": "code",
   "execution_count": 11,
   "metadata": {},
   "outputs": [
    {
     "name": "stdout",
     "output_type": "stream",
     "text": [
      "file 2039 / 2039 new items found 0 \r"
     ]
    }
   ],
   "source": [
    "move_lbl_files(yolo_2022_lbls_new_name)"
   ]
  },
  {
   "cell_type": "markdown",
   "metadata": {},
   "source": [
    "### 2023"
   ]
  },
  {
   "cell_type": "code",
   "execution_count": 2,
   "metadata": {},
   "outputs": [
    {
     "data": {
      "text/html": [
       "<div>\n",
       "<style scoped>\n",
       "    .dataframe tbody tr th:only-of-type {\n",
       "        vertical-align: middle;\n",
       "    }\n",
       "\n",
       "    .dataframe tbody tr th {\n",
       "        vertical-align: top;\n",
       "    }\n",
       "\n",
       "    .dataframe thead th {\n",
       "        text-align: right;\n",
       "    }\n",
       "</style>\n",
       "<table border=\"1\" class=\"dataframe\">\n",
       "  <thead>\n",
       "    <tr style=\"text-align: right;\">\n",
       "      <th></th>\n",
       "      <th>original_path</th>\n",
       "      <th>original_filename</th>\n",
       "      <th>new_path</th>\n",
       "    </tr>\n",
       "  </thead>\n",
       "  <tbody>\n",
       "    <tr>\n",
       "      <th>0</th>\n",
       "      <td>Z:\\__Organized_Directories_InProgress\\Fish_ann...</td>\n",
       "      <td>CI_1686588807_128.txt</td>\n",
       "      <td>Z:\\Proj_Yolo\\labels\\2023\\CI_1686588807_128.txt</td>\n",
       "    </tr>\n",
       "    <tr>\n",
       "      <th>1</th>\n",
       "      <td>Z:\\__Organized_Directories_InProgress\\Fish_ann...</td>\n",
       "      <td>CI_1686591276_027.txt</td>\n",
       "      <td>Z:\\Proj_Yolo\\labels\\2023\\CI_1686591276_027.txt</td>\n",
       "    </tr>\n",
       "    <tr>\n",
       "      <th>2</th>\n",
       "      <td>Z:\\__Organized_Directories_InProgress\\Fish_ann...</td>\n",
       "      <td>CI_1686591640_512.txt</td>\n",
       "      <td>Z:\\Proj_Yolo\\labels\\2023\\CI_1686591640_512.txt</td>\n",
       "    </tr>\n",
       "    <tr>\n",
       "      <th>3</th>\n",
       "      <td>Z:\\__Organized_Directories_InProgress\\Fish_ann...</td>\n",
       "      <td>CI_1686591909_002.txt</td>\n",
       "      <td>Z:\\Proj_Yolo\\labels\\2023\\CI_1686591909_002.txt</td>\n",
       "    </tr>\n",
       "    <tr>\n",
       "      <th>4</th>\n",
       "      <td>Z:\\__Organized_Directories_InProgress\\Fish_ann...</td>\n",
       "      <td>CI_1686593292_491.txt</td>\n",
       "      <td>Z:\\Proj_Yolo\\labels\\2023\\CI_1686593292_491.txt</td>\n",
       "    </tr>\n",
       "    <tr>\n",
       "      <th>...</th>\n",
       "      <td>...</td>\n",
       "      <td>...</td>\n",
       "      <td>...</td>\n",
       "    </tr>\n",
       "    <tr>\n",
       "      <th>2030</th>\n",
       "      <td>Z:\\__Organized_Directories_InProgress\\Fish_ann...</td>\n",
       "      <td>CI_1694717082_593.txt</td>\n",
       "      <td>Z:\\Proj_Yolo\\labels\\2023\\CI_1694717082_593.txt</td>\n",
       "    </tr>\n",
       "    <tr>\n",
       "      <th>2031</th>\n",
       "      <td>Z:\\__Organized_Directories_InProgress\\Fish_ann...</td>\n",
       "      <td>CI_1694717246_087.txt</td>\n",
       "      <td>Z:\\Proj_Yolo\\labels\\2023\\CI_1694717246_087.txt</td>\n",
       "    </tr>\n",
       "    <tr>\n",
       "      <th>2032</th>\n",
       "      <td>Z:\\__Organized_Directories_InProgress\\Fish_ann...</td>\n",
       "      <td>CI_1694718031_574.txt</td>\n",
       "      <td>Z:\\Proj_Yolo\\labels\\2023\\CI_1694718031_574.txt</td>\n",
       "    </tr>\n",
       "    <tr>\n",
       "      <th>2033</th>\n",
       "      <td>Z:\\__Organized_Directories_InProgress\\Fish_ann...</td>\n",
       "      <td>CI_1694722649_575.txt</td>\n",
       "      <td>Z:\\Proj_Yolo\\labels\\2023\\CI_1694722649_575.txt</td>\n",
       "    </tr>\n",
       "    <tr>\n",
       "      <th>2034</th>\n",
       "      <td>Z:\\__Organized_Directories_InProgress\\Fish_ann...</td>\n",
       "      <td>CI_1694723919_574.txt</td>\n",
       "      <td>Z:\\Proj_Yolo\\labels\\2023\\CI_1694723919_574.txt</td>\n",
       "    </tr>\n",
       "  </tbody>\n",
       "</table>\n",
       "<p>2035 rows × 3 columns</p>\n",
       "</div>"
      ],
      "text/plain": [
       "                                          original_path  \\\n",
       "0     Z:\\__Organized_Directories_InProgress\\Fish_ann...   \n",
       "1     Z:\\__Organized_Directories_InProgress\\Fish_ann...   \n",
       "2     Z:\\__Organized_Directories_InProgress\\Fish_ann...   \n",
       "3     Z:\\__Organized_Directories_InProgress\\Fish_ann...   \n",
       "4     Z:\\__Organized_Directories_InProgress\\Fish_ann...   \n",
       "...                                                 ...   \n",
       "2030  Z:\\__Organized_Directories_InProgress\\Fish_ann...   \n",
       "2031  Z:\\__Organized_Directories_InProgress\\Fish_ann...   \n",
       "2032  Z:\\__Organized_Directories_InProgress\\Fish_ann...   \n",
       "2033  Z:\\__Organized_Directories_InProgress\\Fish_ann...   \n",
       "2034  Z:\\__Organized_Directories_InProgress\\Fish_ann...   \n",
       "\n",
       "          original_filename                                        new_path  \n",
       "0     CI_1686588807_128.txt  Z:\\Proj_Yolo\\labels\\2023\\CI_1686588807_128.txt  \n",
       "1     CI_1686591276_027.txt  Z:\\Proj_Yolo\\labels\\2023\\CI_1686591276_027.txt  \n",
       "2     CI_1686591640_512.txt  Z:\\Proj_Yolo\\labels\\2023\\CI_1686591640_512.txt  \n",
       "3     CI_1686591909_002.txt  Z:\\Proj_Yolo\\labels\\2023\\CI_1686591909_002.txt  \n",
       "4     CI_1686593292_491.txt  Z:\\Proj_Yolo\\labels\\2023\\CI_1686593292_491.txt  \n",
       "...                     ...                                             ...  \n",
       "2030  CI_1694717082_593.txt  Z:\\Proj_Yolo\\labels\\2023\\CI_1694717082_593.txt  \n",
       "2031  CI_1694717246_087.txt  Z:\\Proj_Yolo\\labels\\2023\\CI_1694717246_087.txt  \n",
       "2032  CI_1694718031_574.txt  Z:\\Proj_Yolo\\labels\\2023\\CI_1694718031_574.txt  \n",
       "2033  CI_1694722649_575.txt  Z:\\Proj_Yolo\\labels\\2023\\CI_1694722649_575.txt  \n",
       "2034  CI_1694723919_574.txt  Z:\\Proj_Yolo\\labels\\2023\\CI_1694723919_574.txt  \n",
       "\n",
       "[2035 rows x 3 columns]"
      ]
     },
     "execution_count": 2,
     "metadata": {},
     "output_type": "execute_result"
    }
   ],
   "source": [
    "## 2022\n",
    "yolo_2023_lbls = r\"Z:\\__Organized_Directories_InProgress\\Fish_annotations_based_on_YOLO\\2023\\*\\YOLO_coordinates\"\n",
    "new_root = r\"Z:\\Proj_Yolo\\labels\\2023\"\n",
    "yolo_2023_lbls_new_name = make_move_df(yolo_2023_lbls, new_root, ext = \".txt\")\n",
    "yolo_2023_lbls_new_name"
   ]
  },
  {
   "cell_type": "code",
   "execution_count": 13,
   "metadata": {},
   "outputs": [
    {
     "name": "stdout",
     "output_type": "stream",
     "text": [
      "file 2035 / 2035 new items found 2035 \r"
     ]
    }
   ],
   "source": [
    "# move_lbl_files(yolo_2023_lbls_new_name)"
   ]
  },
  {
   "cell_type": "markdown",
   "metadata": {},
   "source": [
    "# finding bagfile based on image name"
   ]
  },
  {
   "cell_type": "code",
   "execution_count": null,
   "metadata": {},
   "outputs": [
    {
     "name": "stdout",
     "output_type": "stream",
     "text": [
      "Image Date and Time:\n",
      "2021-07-23 13:03:49\n",
      "['data_2021-07-23-13-03-08_344.bag' 'data_2021-07-23-13-03-41_345.bag'\n",
      " 'data_2021-07-23-13-03-41_345.bag' 'data_2021-07-23-13-03-41_345.bag'\n",
      " 'data_2021-07-23-13-03-41_345.bag' 'data_2021-07-23-13-03-41_345.bag'\n",
      " 'data_2021-07-23-13-03-41_345.bag']\n"
     ]
    }
   ],
   "source": [
    "import datetime\n",
    "import pandas as pd\n",
    "from src import bagfile_from_image\n",
    "filename = \"CI_1627059829_867.png\"\n",
    "aluim_path = \"all_unpacked_images_metadata_2021.csv\"\n",
    "bagfile_from_image(filename, aluim_path, window=30)   "
   ]
  }
 ],
 "metadata": {
  "kernelspec": {
   "display_name": "img_processing",
   "language": "python",
   "name": "python3"
  },
  "language_info": {
   "codemirror_mode": {
    "name": "ipython",
    "version": 3
   },
   "file_extension": ".py",
   "mimetype": "text/x-python",
   "name": "python",
   "nbconvert_exporter": "python",
   "pygments_lexer": "ipython3",
   "version": "3.11.4"
  },
  "orig_nbformat": 4
 },
 "nbformat": 4,
 "nbformat_minor": 2
}
