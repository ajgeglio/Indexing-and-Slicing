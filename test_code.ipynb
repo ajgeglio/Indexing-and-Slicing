{
 "cells": [
  {
   "cell_type": "code",
   "execution_count": 5,
   "metadata": {},
   "outputs": [],
   "source": [
    "import shutil\n",
    "import os\n",
    "import pandas as pd\n",
    "import glob\n",
    "import numpy as np\n",
    "def list_files(filepath, filetype):\n",
    "   paths = []\n",
    "   for root, dirs, files in os.walk(filepath):\n",
    "      for file in files:\n",
    "         if file.lower().endswith(filetype.lower()):\n",
    "            paths.append(os.path.join(root, file))\n",
    "   return(paths)"
   ]
  },
  {
   "cell_type": "code",
   "execution_count": null,
   "metadata": {},
   "outputs": [],
   "source": [
    "## Experimental- Did not do: Combining with \"collects_lat_long.csv\" dataframe if we want collect paths\n",
    "\n",
    "# df_collects = pd.read_csv('collects_lat_lon.csv')[['collect_path', 'collect_id', 'date', 'collect', 'Iver_num',\t'cam_sys']]\n",
    "# dtf = lambda d: datetime.datetime.strptime(d, \"%Y%m%d\")\n",
    "# df_collects['date'] = df_collects['date'].astype('str')\n",
    "# df_collects['date'] = df_collects['date'].map(dtf)\n",
    "# df_collects = df_collects.sort_values(by=\"date\")\n",
    "# df_all = pd.merge_asof(df_unp,df_collects, left_on=\"Datetime\", right_on=\"date\")\n",
    "# print(df_all.shape) # (598786, 24) (599180, 24)\n",
    "# # df_all.head()\n",
    "# df_all[(df_all.Datetime > \"01-01-2019\") & (df_all.Datetime < \"12-25-2019\")].to_csv(\"test2019.csv\")"
   ]
  },
  {
   "cell_type": "code",
   "execution_count": 12,
   "metadata": {},
   "outputs": [],
   "source": [
    "src_folder = glob.glob(r\"G:\\group_04\\*\")\n",
    "dest_folder = \"G:\\\\small_file_sz_4e6\"\n",
    "thresh = 4e6\n",
    "def move_imgs_by_size(src_folder, dest_folder, thresh=4e5):\n",
    "    for file in src_folder:\n",
    "        s = os.path.getsize(file)\n",
    "        if s < thresh:\n",
    "            shutil.move(file, dest_folder)\n"
   ]
  },
  {
   "cell_type": "code",
   "execution_count": 9,
   "metadata": {},
   "outputs": [
    {
     "data": {
      "text/plain": [
       "count    1.740360e+05\n",
       "mean     1.093752e+07\n",
       "std      3.766104e+06\n",
       "min      3.122700e+04\n",
       "25%      9.389133e+06\n",
       "50%      1.174779e+07\n",
       "75%      1.354684e+07\n",
       "max      2.088240e+07\n",
       "dtype: float64"
      ]
     },
     "execution_count": 9,
     "metadata": {},
     "output_type": "execute_result"
    }
   ],
   "source": [
    "pd.Series(sizes).describe()"
   ]
  }
 ],
 "metadata": {
  "kernelspec": {
   "display_name": "bubbler-lite",
   "language": "python",
   "name": "python3"
  },
  "language_info": {
   "codemirror_mode": {
    "name": "ipython",
    "version": 3
   },
   "file_extension": ".py",
   "mimetype": "text/x-python",
   "name": "python",
   "nbconvert_exporter": "python",
   "pygments_lexer": "ipython3",
   "version": "3.9.16"
  },
  "orig_nbformat": 4
 },
 "nbformat": 4,
 "nbformat_minor": 2
}
