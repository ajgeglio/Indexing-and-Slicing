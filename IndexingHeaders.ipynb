{
 "cells": [
  {
   "cell_type": "code",
   "execution_count": 1,
   "metadata": {},
   "outputs": [],
   "source": [
    "import pandas as pd\n",
    "import os\n",
    "import numpy as np\n",
    "import datetime as dt\n",
    "import pickle\n",
    "from src import *\n",
    "from mapping_reef_classes import get_coordinates\n",
    "import glob"
   ]
  },
  {
   "cell_type": "code",
   "execution_count": null,
   "metadata": {},
   "outputs": [],
   "source": [
    "# out_folder, Ymmdd = make_datetime_folder()\n",
    "# out_folder = '2019-2023-20240918'\n",
    "out_folder = \"2019-2023-20241029\" # choose most recent folder unless a major channge is added\n",
    "years = [\n",
    "    \"2019\",\n",
    "    \"2020\", \n",
    "    \"2021\", \n",
    "    \"2022\", \n",
    "    \"2023\",\n",
    "    \"2024\"\n",
    "    ] # which years to update\n",
    "all_years = [\"2019\", \"2020\", \"2021\", \"2022\", \"2023\", \"2024\"]"
   ]
  },
  {
   "cell_type": "markdown",
   "metadata": {},
   "source": [
    "## Colects Lists"
   ]
  },
  {
   "cell_type": "code",
   "execution_count": 3,
   "metadata": {},
   "outputs": [
    {
     "name": "stdout",
     "output_type": "stream",
     "text": [
      "954\n"
     ]
    }
   ],
   "source": [
    "# # Collects lists\n",
    "def update_collect_lists(years):\n",
    "    for year in years:\n",
    "        collects = list_collects(f\"M:\\\\AUV_Collects\\\\{year}\")\n",
    "        dump_pickle(os.path.join(out_folder,f\"collects{year}.txt\"), collects)\n",
    "\n",
    "# ## Load Collects Lists\n",
    "collects2019 = load_pickle(os.path.join(out_folder,\"collects2019.txt\"))\n",
    "collects2020 = load_pickle(os.path.join(out_folder,\"collects2020.txt\"))\n",
    "collects2021 = load_pickle(os.path.join(out_folder,\"collects2021.txt\"))\n",
    "collects2022 = load_pickle(os.path.join(out_folder,\"collects2022.txt\"))\n",
    "collects2023 = load_pickle(os.path.join(out_folder,\"collects2023.txt\"))\n",
    "collects2024 = load_pickle(os.path.join(out_folder,\"collects2024.txt\"))\n",
    "all_collects = collects2019 + collects2020 + collects2021 + collects2022 + collects2023 + collects2024\n",
    "dump_pickle(os.path.join(out_folder,f\"all_collects.txt\"), all_collects)\n",
    "print(len(all_collects)) # 508 642 954"
   ]
  },
  {
   "cell_type": "markdown",
   "metadata": {},
   "source": [
    "## Unpacked image paths"
   ]
  },
  {
   "cell_type": "code",
   "execution_count": 4,
   "metadata": {},
   "outputs": [
    {
     "name": "stdout",
     "output_type": "stream",
     "text": [
      "1223362\n"
     ]
    }
   ],
   "source": [
    "# ## creating lists of unpacked image names and paths\n",
    "def update_img_pth_lsts(years):\n",
    "    for year in years:\n",
    "        images_lst =  glob.glob(f\"Z:\\\\__Organized_Directories_InProgress\\\\{year}_UnpackedCollects\\\\*\\\\*image_raw\\\\*.png\")\\\n",
    "                        + glob.glob(f\"Z:\\\\__Organized_Directories_InProgress\\\\{year}_UnpackedCollects\\\\*REMUS*\\\\*.tif\")\n",
    "        dump_pickle(os.path.join(out_folder,f\"images_{year}.txt\"), images_lst)\n",
    "\n",
    "update_img_pth_lsts(years)\n",
    "## Loading Images Lists\n",
    "images_2019 = load_pickle(os.path.join(out_folder,\"images_2019.txt\"))\n",
    "images_2020 = load_pickle(os.path.join(out_folder,\"images_2020.txt\"))\n",
    "images_2021 = load_pickle(os.path.join(out_folder,\"images_2021.txt\"))\n",
    "images_2022 = load_pickle(os.path.join(out_folder,\"images_2022.txt\"))\n",
    "images_2023 = load_pickle(os.path.join(out_folder,\"images_2023.txt\"))\n",
    "images_2024 = load_pickle(os.path.join(out_folder,\"images_2024.txt\"))\n",
    "image_list = images_2019 + images_2020 + images_2021 + images_2022 + images_2023 + images_2024\n",
    "print(len(image_list)) # 2035662 2041537 2300780 1678865 1600235 976615 974668 1174788 1175786 1223392"
   ]
  },
  {
   "cell_type": "code",
   "execution_count": 5,
   "metadata": {},
   "outputs": [
    {
     "name": "stdout",
     "output_type": "stream",
     "text": [
      "2019 (56310, 3)\n",
      "2020 (112808, 3)\n",
      "2021 (279385, 3)\n",
      "2022 (271209, 3)\n",
      "2023 (302562, 3)\n",
      "2024 (201088, 3)\n",
      "Total imgs:  1223362\n"
     ]
    }
   ],
   "source": [
    "## Dataframe of all unpacked images and their paths based on a list of paths\n",
    "df_imgs_2019 = create_image_df_save_csv(image_list=images_2019, out_folder=out_folder, year=2019)\n",
    "df_imgs_2020 = create_image_df_save_csv(image_list=images_2020, out_folder=out_folder, year=2020)\n",
    "df_imgs_2021 = create_image_df_save_csv(image_list=images_2021, out_folder=out_folder, year=2021)\n",
    "df_imgs_2022 = create_image_df_save_csv(image_list=images_2022, out_folder=out_folder, year=2022)\n",
    "df_imgs_2023 = create_image_df_save_csv(image_list=images_2023, out_folder=out_folder, year=2023)\n",
    "df_imgs_2024 = create_image_df_save_csv(image_list=images_2024, out_folder=out_folder, year=2024)\n",
    "'''\n",
    "2018 (0, 2)\n",
    "2019 (56310, 2)\n",
    "2020 (112808, 2)\n",
    "2021 (279385, 2)\n",
    "2022 (271209, 2)\n",
    "2023 (302562, 2)\n",
    "2024 (201118, 2)\n",
    "Total imgs:  1223392\n",
    "'''\n",
    "print(\"Total imgs: \", len(df_imgs_2019)+len(df_imgs_2020)+len(df_imgs_2021)+len(df_imgs_2022)+len(df_imgs_2023) + len(df_imgs_2024))\n"
   ]
  },
  {
   "cell_type": "markdown",
   "metadata": {},
   "source": [
    "## Metadata"
   ]
  },
  {
   "cell_type": "markdown",
   "metadata": {},
   "source": [
    "### Reading and combining All metadata by year and cleaning"
   ]
  },
  {
   "cell_type": "code",
   "execution_count": null,
   "metadata": {},
   "outputs": [
    {
     "name": "stdout",
     "output_type": "stream",
     "text": [
      "2019 (168379, 149)\n",
      "2020 (220032, 127)\n",
      "2021 (407527, 148)\n",
      "2022 (437815, 149)\n",
      "2023 (421435, 148)\n",
      "2024 (346138, 149)\n"
     ]
    }
   ],
   "source": [
    "def update_headers_combined(years): #saves a csv header_{year}_combined\n",
    "    headers = pd.Series(glob.glob(r\"Z:\\CollectMetadata\\*\\*Primary_Image_Metadata*.csv\"))\n",
    "    for year in years:\n",
    "        header_pth = list(headers[headers.str.contains(year+r\"\\d{4}_\")])\n",
    "        header_comb = combine_headers(header_pth)\n",
    "        header_comb = header_comb.drop_duplicates(subset=['Time_s', 'filename', 'collect_id'])\n",
    "        header_comb.to_csv(os.path.join(out_folder, f\"header_{year}_combined.csv\"))\n",
    "        header_comb[[\"collect_id\", \"Latitude\", \"Longitude\"]].groupby(by=\"collect_id\").median().to_csv(os.path.join(out_folder,f\"median_latlon_{year}.csv\"))\n",
    "update_headers_combined(years)\n",
    "header_2019 = pd.read_csv(os.path.join(out_folder, \"header_2019_combined.csv\"), index_col=0, low_memory=False)\n",
    "header_2020 = pd.read_csv(os.path.join(out_folder, \"header_2020_combined.csv\"), index_col=0, low_memory=False)\n",
    "header_2021 = pd.read_csv(os.path.join(out_folder, \"header_2021_combined.csv\"), index_col=0, low_memory=False)\n",
    "header_2022 = pd.read_csv(os.path.join(out_folder, \"header_2022_combined.csv\"), index_col=0, low_memory=False)\n",
    "header_2023 = pd.read_csv(os.path.join(out_folder, \"header_2023_combined.csv\"), index_col=0, low_memory=False)\n",
    "header_2024 = pd.read_csv(os.path.join(out_folder, \"header_2024_combined.csv\"), index_col=0, low_memory=False)\n",
    "\n",
    "''' \n",
    "2019 (168379, 149)\n",
    "2020 (220032, 127)\n",
    "2021 (407527, 148)\n",
    "2022 (437815, 149)\n",
    "2023 (421435, 148)\n",
    "2024 (346138, 149)\n",
    "'''\n",
    "print(\"2019\", header_2019.shape)\n",
    "print(\"2020\", header_2020.shape)\n",
    "print(\"2021\", header_2021.shape)\n",
    "print(\"2022\", header_2022.shape)\n",
    "print(\"2023\", header_2023.shape)\n",
    "print(\"2024\", header_2024.shape)"
   ]
  },
  {
   "cell_type": "markdown",
   "metadata": {},
   "source": [
    "### Unpacked Images Metadata"
   ]
  },
  {
   "cell_type": "code",
   "execution_count": null,
   "metadata": {},
   "outputs": [
    {
     "name": "stdout",
     "output_type": "stream",
     "text": [
      "2022 (240196, 154)\n",
      "2023 (300456, 153)\n",
      "2024 (195504, 154)\n"
     ]
    }
   ],
   "source": [
    "'''\n",
    "2019 (4992, 154)\n",
    "2020 (112808, 132)\n",
    "2021 (276134, 153)\n",
    "2022 (240196, 154)\n",
    "2023 (300456, 153)\n",
    "2024 (195504, 154)\n",
    "'''\n",
    "\n",
    "def update_unpacked_imgs_db(years):\n",
    "    for year in years:\n",
    "        if year == \"2019\":\n",
    "            create_unpacked_images_metatada_df(header_2019, df_imgs_2019, ext = \".png\", year = 2019, old_filenames=True) # 2019 (4992, 154)\n",
    "        if year == \"2020\":\n",
    "            create_unpacked_images_metatada_df(header_2020, df_imgs_2020, ext = \".png\", year = 2020, old_filenames=True) # 2020 (112808, 132)\n",
    "        if year == \"2021\":\n",
    "            create_unpacked_images_metatada_df(header_2021, df_imgs_2021, ext = \".png\", year = 2021)\n",
    "        if year == \"2022\":\n",
    "            create_unpacked_images_metatada_df(header_2022, df_imgs_2022, ext = \".png\", year = 2022)\n",
    "        if year == \"2023\":\n",
    "            create_unpacked_images_metatada_df(header_2023, df_imgs_2023, ext = \".png\", year = 2023)\n",
    "        if year == \"2024\":\n",
    "            create_unpacked_images_metatada_df(header_2024, df_imgs_2024, ext = \".png\", year = 2024)\n",
    "update_unpacked_imgs_db(years)\n",
    "df_unp_2019 = pd.read_csv(r\"all_unpacked_images_metadata_2019.csv\", index_col=0, low_memory=False)\n",
    "df_unp_2020 = pd.read_csv(r\"all_unpacked_images_metadata_2020.csv\", index_col=0, low_memory=False)\n",
    "df_unp_2021 = pd.read_csv(r\"all_unpacked_images_metadata_2021.csv\", index_col=0, low_memory=False)\n",
    "df_unp_2022 = pd.read_csv(r\"all_unpacked_images_metadata_2022.csv\", index_col=0, low_memory=False)\n",
    "df_unp_2023 = pd.read_csv(r\"all_unpacked_images_metadata_2023.csv\", index_col=0, low_memory=False)\n",
    "df_unp_2024 = pd.read_csv(r\"all_unpacked_images_metadata_2024.csv\", index_col=0, low_memory=False)"
   ]
  },
  {
   "cell_type": "code",
   "execution_count": 24,
   "metadata": {},
   "outputs": [
    {
     "data": {
      "text/plain": [
       "0         20240305_001_Iver3069_ABS2\n",
       "1         20240305_001_Iver3069_ABS2\n",
       "2         20240305_001_Iver3069_ABS2\n",
       "3         20240305_001_Iver3069_ABS2\n",
       "4         20240305_001_Iver3069_ABS2\n",
       "                     ...            \n",
       "195499    20241004_001_Iver3069_ABS2\n",
       "195500    20241004_001_Iver3069_ABS2\n",
       "195501    20241004_001_Iver3069_ABS2\n",
       "195502    20241004_001_Iver3069_ABS2\n",
       "195503    20241004_001_Iver3069_ABS2\n",
       "Name: collect_id, Length: 195504, dtype: object"
      ]
     },
     "execution_count": 24,
     "metadata": {},
     "output_type": "execute_result"
    }
   ],
   "source": [
    "df_unp_2024.collect_id"
   ]
  },
  {
   "cell_type": "markdown",
   "metadata": {},
   "source": [
    "### Annotated images metadata"
   ]
  },
  {
   "cell_type": "code",
   "execution_count": 9,
   "metadata": {},
   "outputs": [
    {
     "name": "stdout",
     "output_type": "stream",
     "text": [
      "69832\n",
      "annotated (69832, 3)\n",
      "After first merge, df_unp shape: (46496, 156)\n",
      "After second merge (old filenames), df_unp2 shape: (23390, 156)\n",
      "After concatenation (if applicable), df_unp shape: (69886, 156)\n",
      "Duplicate filenames detected: (108, 156)\n",
      "after duplicates removed (69778, 156)\n"
     ]
    }
   ],
   "source": [
    "# Annoatated Images\n",
    "def update_annot_imgs_lst(years):\n",
    "    annot_dir = \"Z:\\\\__Organized_Directories_InProgress\\\\Fish_annotations_based_on_YOLO\"\n",
    "    try:\n",
    "        annot_imgs = load_pickle(os.path.join(out_folder,\"annot_imgs.txt\"))\n",
    "    except:\n",
    "        annot_imgs = []\n",
    "    for year in years:\n",
    "        if year == \"2022\":\n",
    "            annot_imgs += glob.glob(os.path.join(annot_dir, f\"{year}\\\\4096x2176_images\\\\screened_with_fish\\\\original_images\\\\*.png\")) \\\n",
    "                        + glob.glob(os.path.join(annot_dir, f\"{year}\\\\4096x3000_images\\\\screened_with_fish\\\\original_images\\\\*.png\"))\n",
    "        else:\n",
    "            annot_imgs += glob.glob(os.path.join(annot_dir, f\"{year}\\\\screened_with_fish\\\\original_images\\\\*.png\"))\n",
    "    annot_imgs = list(set(annot_imgs))\n",
    "    print(len(annot_imgs)) \n",
    "    return annot_imgs\n",
    "\n",
    "annot_imgs = update_annot_imgs_lst(years) # 69832\n",
    "df_imgs_annot = create_image_df_save_csv(annot_imgs, out_folder, year=\"annotated\") # annotated (69832, 2)\n",
    "all_headers = pd.concat([header_2019, header_2020, header_2021, header_2022, header_2023, header_2024])\n",
    "df_annot, duplicate_df = create_unpacked_images_no_collect_metatada_df(all_headers, df_imgs_annot, ext=\".png\", descr = \"annotated\", old_filenames = True) #all (45542, 155)"
   ]
  },
  {
   "cell_type": "code",
   "execution_count": 11,
   "metadata": {},
   "outputs": [
    {
     "name": "stderr",
     "output_type": "stream",
     "text": [
      "C:\\Users\\ageglio\\AppData\\Local\\Temp\\2\\ipykernel_34388\\2138646639.py:2: DtypeWarning: Columns (13) have mixed types. Specify dtype option on import or set low_memory=False.\n",
      "  pd.read_csv(r\"Z:\\Database\\02__MetadataCombined\\2021_assessment_confirmedfish.csv\"),\n"
     ]
    }
   ],
   "source": [
    "df_assmts = pd.concat([pd.read_csv(r\"Z:\\Database\\02__MetadataCombined\\2020_assessment_confirmedfish.csv\"),\n",
    "                        pd.read_csv(r\"Z:\\Database\\02__MetadataCombined\\2021_assessment_confirmedfish.csv\"),\n",
    "                        pd.read_csv(r\"Z:\\Database\\02__MetadataCombined\\2022_assessment_confirmedfish.csv\"),\n",
    "                        pd.read_csv(r\"Z:\\Database\\02__MetadataCombined\\2023_assessment_confirmedfish.csv\")])\n",
    "\n",
    "df_assmtun = df_assmts.drop_duplicates(subset=[\"Image_Name\"]).copy()\n",
    "df_assmtun['filename'] = df_assmtun.Image_Name.str.replace(\"CI\", \"PI\")\n"
   ]
  },
  {
   "cell_type": "code",
   "execution_count": 12,
   "metadata": {},
   "outputs": [
    {
     "data": {
      "text/plain": [
       "set()"
      ]
     },
     "execution_count": 12,
     "metadata": {},
     "output_type": "execute_result"
    }
   ],
   "source": [
    "set(df_annot.filename).difference(df_assmtun.filename)"
   ]
  },
  {
   "cell_type": "code",
   "execution_count": 14,
   "metadata": {},
   "outputs": [
    {
     "data": {
      "text/plain": [
       "54"
      ]
     },
     "execution_count": 14,
     "metadata": {},
     "output_type": "execute_result"
    }
   ],
   "source": [
    "len(list(set(df_assmtun.filename).difference(df_annot.filename)))"
   ]
  },
  {
   "cell_type": "code",
   "execution_count": 57,
   "metadata": {},
   "outputs": [
    {
     "data": {
      "text/html": [
       "<div>\n",
       "<style scoped>\n",
       "    .dataframe tbody tr th:only-of-type {\n",
       "        vertical-align: middle;\n",
       "    }\n",
       "\n",
       "    .dataframe tbody tr th {\n",
       "        vertical-align: top;\n",
       "    }\n",
       "\n",
       "    .dataframe thead th {\n",
       "        text-align: right;\n",
       "    }\n",
       "</style>\n",
       "<table border=\"1\" class=\"dataframe\">\n",
       "  <thead>\n",
       "    <tr style=\"text-align: right;\">\n",
       "      <th></th>\n",
       "      <th>filename</th>\n",
       "      <th>CollectID</th>\n",
       "    </tr>\n",
       "  </thead>\n",
       "  <tbody>\n",
       "    <tr>\n",
       "      <th>694</th>\n",
       "      <td>PI_1657318836_973.png</td>\n",
       "      <td>NaN</td>\n",
       "    </tr>\n",
       "    <tr>\n",
       "      <th>833</th>\n",
       "      <td>PI_1657395855_700.png</td>\n",
       "      <td>NaN</td>\n",
       "    </tr>\n",
       "    <tr>\n",
       "      <th>871</th>\n",
       "      <td>PI_1657318567_478.png</td>\n",
       "      <td>NaN</td>\n",
       "    </tr>\n",
       "    <tr>\n",
       "      <th>1071</th>\n",
       "      <td>PI_1657320204_474.png</td>\n",
       "      <td>NaN</td>\n",
       "    </tr>\n",
       "    <tr>\n",
       "      <th>1191</th>\n",
       "      <td>PI_1657318620_973.png</td>\n",
       "      <td>NaN</td>\n",
       "    </tr>\n",
       "    <tr>\n",
       "      <th>...</th>\n",
       "      <td>...</td>\n",
       "      <td>...</td>\n",
       "    </tr>\n",
       "    <tr>\n",
       "      <th>45609</th>\n",
       "      <td>PI_1657659786_734.png</td>\n",
       "      <td>NaN</td>\n",
       "    </tr>\n",
       "    <tr>\n",
       "      <th>45668</th>\n",
       "      <td>PI_1657326816_474.png</td>\n",
       "      <td>NaN</td>\n",
       "    </tr>\n",
       "    <tr>\n",
       "      <th>45720</th>\n",
       "      <td>PI_1657320689_973.png</td>\n",
       "      <td>NaN</td>\n",
       "    </tr>\n",
       "    <tr>\n",
       "      <th>46039</th>\n",
       "      <td>PI_1657661419_235.png</td>\n",
       "      <td>NaN</td>\n",
       "    </tr>\n",
       "    <tr>\n",
       "      <th>46333</th>\n",
       "      <td>PI_1657317692_976.png</td>\n",
       "      <td>NaN</td>\n",
       "    </tr>\n",
       "  </tbody>\n",
       "</table>\n",
       "<p>178 rows × 2 columns</p>\n",
       "</div>"
      ],
      "text/plain": [
       "                    filename CollectID\n",
       "694    PI_1657318836_973.png       NaN\n",
       "833    PI_1657395855_700.png       NaN\n",
       "871    PI_1657318567_478.png       NaN\n",
       "1071   PI_1657320204_474.png       NaN\n",
       "1191   PI_1657318620_973.png       NaN\n",
       "...                      ...       ...\n",
       "45609  PI_1657659786_734.png       NaN\n",
       "45668  PI_1657326816_474.png       NaN\n",
       "45720  PI_1657320689_973.png       NaN\n",
       "46039  PI_1657661419_235.png       NaN\n",
       "46333  PI_1657317692_976.png       NaN\n",
       "\n",
       "[178 rows x 2 columns]"
      ]
     },
     "execution_count": 57,
     "metadata": {},
     "output_type": "execute_result"
    }
   ],
   "source": [
    "imgs_missing_metadata"
   ]
  },
  {
   "cell_type": "code",
   "execution_count": 59,
   "metadata": {},
   "outputs": [
    {
     "data": {
      "text/plain": [
       "(178, 3)"
      ]
     },
     "execution_count": 59,
     "metadata": {},
     "output_type": "execute_result"
    }
   ],
   "source": [
    "missing_metadata = df_annot[df_annot.Time_s.isna()].copy()\n",
    "imgs_missing_metadata = missing_metadata[\"filename\"]\n",
    "imgs_dfs = pd.concat([df_imgs_2022, df_imgs_2023])\n",
    "collect_id_df = create_collect_id_df(imgs_dfs.image_path.values)\n",
    "collect_id_df.filename = collect_id_df.filename.apply(lambda x: x.replace(\"CI\", \"PI\"))\n",
    "imgs_missing_metadata = pd.merge(imgs_missing_metadata, collect_id_df, on=[\"filename\"], how=\"left\")\n",
    "# Group by 'column1' and create a list of all values in 'column2' for each group\n",
    "grouped_df = imgs_missing_metadata.groupby('collect_id').agg({'filename': list  }).reset_index()     # Creating a list of values in column2\n",
    "# grouped_df.to_csv(\"images_missing_metadata.csv\")\n",
    "imgs_missing_metadata.shape"
   ]
  },
  {
   "cell_type": "code",
   "execution_count": 60,
   "metadata": {},
   "outputs": [
    {
     "data": {
      "text/html": [
       "<div>\n",
       "<style scoped>\n",
       "    .dataframe tbody tr th:only-of-type {\n",
       "        vertical-align: middle;\n",
       "    }\n",
       "\n",
       "    .dataframe tbody tr th {\n",
       "        vertical-align: top;\n",
       "    }\n",
       "\n",
       "    .dataframe thead th {\n",
       "        text-align: right;\n",
       "    }\n",
       "</style>\n",
       "<table border=\"1\" class=\"dataframe\">\n",
       "  <thead>\n",
       "    <tr style=\"text-align: right;\">\n",
       "      <th></th>\n",
       "      <th>collect_id</th>\n",
       "      <th>filename</th>\n",
       "    </tr>\n",
       "  </thead>\n",
       "  <tbody>\n",
       "    <tr>\n",
       "      <th>0</th>\n",
       "      <td>20220708_002_Iver3098_ABS2</td>\n",
       "      <td>[PI_1657318836_973.png, PI_1657318567_478.png,...</td>\n",
       "    </tr>\n",
       "    <tr>\n",
       "      <th>1</th>\n",
       "      <td>20220709_003_Iver3098_ABS2</td>\n",
       "      <td>[PI_1657395855_700.png, PI_1657402278_700.png,...</td>\n",
       "    </tr>\n",
       "    <tr>\n",
       "      <th>2</th>\n",
       "      <td>20220712_002_Iver3098_ABS2</td>\n",
       "      <td>[PI_1657662277_734.png, PI_1657662081_734.png,...</td>\n",
       "    </tr>\n",
       "    <tr>\n",
       "      <th>3</th>\n",
       "      <td>20220822_001_Iver3098_ABS2</td>\n",
       "      <td>[PI_1661181950_902.png]</td>\n",
       "    </tr>\n",
       "  </tbody>\n",
       "</table>\n",
       "</div>"
      ],
      "text/plain": [
       "                   collect_id  \\\n",
       "0  20220708_002_Iver3098_ABS2   \n",
       "1  20220709_003_Iver3098_ABS2   \n",
       "2  20220712_002_Iver3098_ABS2   \n",
       "3  20220822_001_Iver3098_ABS2   \n",
       "\n",
       "                                            filename  \n",
       "0  [PI_1657318836_973.png, PI_1657318567_478.png,...  \n",
       "1  [PI_1657395855_700.png, PI_1657402278_700.png,...  \n",
       "2  [PI_1657662277_734.png, PI_1657662081_734.png,...  \n",
       "3                            [PI_1661181950_902.png]  "
      ]
     },
     "execution_count": 60,
     "metadata": {},
     "output_type": "execute_result"
    }
   ],
   "source": [
    "grouped_df"
   ]
  },
  {
   "cell_type": "markdown",
   "metadata": {},
   "source": [
    "### Finished with creating metatadata"
   ]
  },
  {
   "cell_type": "code",
   "execution_count": null,
   "metadata": {},
   "outputs": [],
   "source": [
    "# header_times = pd.concat([header_2019.Time_s, header_2020.Time_s, header_2021.Time_s, header_2022.Time_s, header_2023.Time_s, header_2024.Time_s])\n",
    "# plot_epoch_time(df1=header_times, df2=pd.DataFrame(),title=None, lbl1=None, lbl2=None)"
   ]
  },
  {
   "attachments": {
    "image.png": {
     "image/png": "[encoded data removed]"
    }
   },
   "cell_type": "markdown",
   "metadata": {},
   "source": [
    "![image.png](attachment:image.png)"
   ]
  }
 ],
 "metadata": {
  "kernelspec": {
   "display_name": "img_processing",
   "language": "python",
   "name": "python3"
  },
  "language_info": {
   "codemirror_mode": {
    "name": "ipython",
    "version": 3
   },
   "file_extension": ".py",
   "mimetype": "text/x-python",
   "name": "python",
   "nbconvert_exporter": "python",
   "pygments_lexer": "ipython3",
   "version": "3.11.4"
  },
  "orig_nbformat": 4
 },
 "nbformat": 4,
 "nbformat_minor": 2
}
