{
 "cells": [
  {
   "cell_type": "code",
   "execution_count": 19,
   "metadata": {},
   "outputs": [],
   "source": [
    "import pandas as pd\n",
    "import os\n",
    "import numpy as np\n",
    "import datetime as dt\n",
    "import pickle\n",
    "from src import *\n",
    "from mapping_reef_classes import get_coordinates\n",
    "import glob"
   ]
  },
  {
   "cell_type": "code",
   "execution_count": 20,
   "metadata": {},
   "outputs": [],
   "source": [
    "# out_folder, Ymmdd = make_out_folder()\n",
    "# Ymmdd = '20240202'\n",
    "out_folder = '2019-2023-20240424'"
   ]
  },
  {
   "cell_type": "markdown",
   "metadata": {},
   "source": [
    "## Old Headers"
   ]
  },
  {
   "cell_type": "code",
   "execution_count": 3,
   "metadata": {},
   "outputs": [],
   "source": [
    "# Old Metadata\n",
    "# headers_2019 = list_files(r\"Z:\\__Organized_Directories_InProgress\\2019_UnpackedCollects\",'raw_image_headers.csv')\n",
    "# with open(os.path.join(out_folder,\"headers_2019.txt\"), \"wb\") as fp:   #Pickling\n",
    "#     pickle.dump(headers_2019, fp)\n",
    "# headers_2020 = list_files(r\"Z:\\CollectMetadata\",'corrected_combined.csv')\n",
    "# with open(os.path.join(out_folder,\"headers_2020.txt\"), \"wb\") as fp:   #Pickling\n",
    "#     pickle.dump(headers_2020, fp)\n",
    "# headers_2021 = list_files(r\"Z:\\Headers2021\",'raw_image_headers.csv')\n",
    "# with open(os.path.join(out_folder,\"headers_2021.txt\"), \"wb\") as fp:   #Pickling\n",
    "#     pickle.dump(headers_2021, fp)\n",
    "# headers_2022 = list_files(r\"Z:\\Headers2022\",'raw_image_headers.csv') \n",
    "# with open(os.path.join(out_folder,\"headers_2022.txt\"), \"wb\") as fp:   #Pickling\n",
    "#     pickle.dump(headers_2022, fp)\n",
    "# headers_2023 = list_files(r\"Z:\\Headers2023\",'raw_image_headers.csv')\n",
    "# with open(os.path.join(out_folder,\"headers_2023.txt\"), \"wb\") as fp:   #Pickling\n",
    "#     pickle.dump(headers_2023, fp)"
   ]
  },
  {
   "cell_type": "code",
   "execution_count": 4,
   "metadata": {},
   "outputs": [],
   "source": [
    "## Load Headers Lists\n",
    "# with open(os.path.join(out_folder,\"headers_2019.txt\"), \"rb\") as fp:   #unpickling\n",
    "#     headers_2019 = pickle.load(fp)\n",
    "# with open(os.path.join(out_folder,\"headers_2020.txt\"), \"rb\") as fp:   \n",
    "#     headers_2020 = pickle.load(fp)\n",
    "# with open(os.path.join(out_folder,\"headers_2021.txt\"), \"rb\") as fp:   \n",
    "#     headers_2021 = pickle.load(fp)\n",
    "# with open(os.path.join(out_folder,\"headers_2022.txt\"), \"rb\") as fp:  \n",
    "#     headers_2022 = pickle.load(fp)\n",
    "# with open(os.path.join(out_folder,\"headers_2023.txt\"), \"rb\") as fp:   \n",
    "#     headers_2023 = pickle.load(fp)\n",
    "# headers = headers_2019 + headers_2020 + headers_2021 + headers_2022 + headers_2023 \n",
    "# print(len(headers)) # 857"
   ]
  },
  {
   "cell_type": "code",
   "execution_count": 5,
   "metadata": {},
   "outputs": [],
   "source": [
    "columns_ = [\"image_name\", \"Heading_D\", \"Pitch_D\", \"Roll_D\", \"Temp_C\", \"AUV_depth_m\", \"Alt_m\", \"Salinity_ppt\", \"Speed_kn\", \"Lat_DD\", \"Long_DD\", \"CreationTime\", \"EpochTime\",\"Usability\", \"collect_id\"]\n",
    "columns_ = [\"image_name\", \"collect_id\"]\n",
    "# Created this dictionary to force similar column names into the same name, ie 'Latitude (decimal degrees)' --> 'Lat_DD'\n",
    "header_dict = {'image_name': 'image_name', 'Unnamed: 0':'image_name','image_filename':'image_name', 'filename':'image_name', 'HeadingCompass_deg':'Heading_D' ,'Heading (degrees)':'Heading_D','INS Heading':'Heading_D',\n",
    "                'PitchCompass_deg':'Pitch_D','Pitch (degrees)':'Pitch_D', 'Pitch Angle':'Pitch_D', 'RollCompass_deg': 'Roll_D', 'Roll (degrees)': 'Roll_D','Roll Angle':'Roll_D',\n",
    "                'TempCompass_C': 'Temp_C', 'Temperature (C)': 'Temp_C','Temperature (c)':'Temp_C', 'AUV_depth_m':'AUV_depth_m', 'Depth (m)':'AUV_depth_m','DFS Depth(m)':'AUV_depth_m',\n",
    "                'Alt_m' : 'Alt_m', 'Altitude (m)':'Alt_m', 'DTB Height(m)':'Alt_m', 'DistanceToBottom_m': 'Alt_m', 'Salinity_ppt': 'Salinity_ppt', 'Salinity (ppt)':'Salinity_ppt','Salinity (ppt)':'Salinity_ppt',\n",
    "                'CreationTime':'CreationTime', 'Creation Time':'CreationTime', 'EpochTime':'EpochTime', 'SpeedGPS_kn':'Speed_kn', 'Speed (knots)':'Speed_kn','GPS Speed (Kn)': 'Speed_kn', \n",
    "                'Lat_DD': 'Lat_DD', 'Latitude':'Lat_DD', 'Latitude (decimal degrees)':'Lat_DD',       \n",
    "                'Long_DD': 'Long_DD', 'Longitude':'Long_DD','Longitude (decimal degrees)':'Long_DD'}"
   ]
  },
  {
   "cell_type": "code",
   "execution_count": 6,
   "metadata": {},
   "outputs": [
    {
     "data": {
      "text/plain": [
       "'\\n2019 (66582, 16)\\n2020 (1908250, 16)\\n2021 (246727, 16)\\n2022 (221681, 16)\\n2023 (207608, 16)\\n'"
      ]
     },
     "execution_count": 6,
     "metadata": {},
     "output_type": "execute_result"
    }
   ],
   "source": [
    "# header_2019 = combine_headers(headers_2019, columns_, header_dict)\n",
    "# header_2020 = combine_headers(headers_2020, columns_=None, header_dict=None)\n",
    "# header_2021 = combine_headers(headers_2021, columns_=None, header_dict=None)\n",
    "# header_2022 = combine_headers(headers_2022, columns_=None, header_dict=None)\n",
    "# header_2023 = combine_headers(headers_2023, columns_=None, header_dict=None)\n",
    "\n",
    "## Cleaning up based on altitude and lat/lon\n",
    "# header_2019_c = clean_combined_header(header_2019, 2019, out_folder, dpth = 1, alt = 4, clean_lat_lon = True)\n",
    "# header_2020_c = clean_combined_header(header_2020, 2020, out_folder, dpth = 1, alt = 4, clean_lat_lon = True)\n",
    "# header_2021_c = clean_combined_header(header_2021, 2021, out_folder, dpth = 1, alt = 4, clean_lat_lon = True)\n",
    "# header_2022_c = clean_combined_header(header_2022, 2022, out_folder, dpth = 1, alt = 4, clean_lat_lon = True)\n",
    "# header_2023_c = clean_combined_header(header_2023, 2023, out_folder, dpth = 1, alt = 4, clean_lat_lon = True)\n",
    "# header_2019_c = pd.read_pickle(f'{out_folder}/2019_headers_combined_filtered.pickle')\n",
    "# header_2020_c = pd.read_pickle(f'{out_folder}/2020_headers_combined_filtered.pickle')\n",
    "# header_2021_c = pd.read_pickle(f'{out_folder}/2021_headers_combined_filtered.pickle')\n",
    "# header_2022_c = pd.read_pickle(f'{out_folder}/2022_headers_combined_filtered.pickle')\n",
    "# header_2023_c = pd.read_pickle(f'{out_folder}/2023_headers_combined_filtered.pickle')\n",
    "'''\n",
    "2019 (66582, 16)\n",
    "2020 (1908250, 16)\n",
    "2021 (246727, 16)\n",
    "2022 (221681, 16)\n",
    "2023 (207608, 16)\n",
    "'''"
   ]
  },
  {
   "cell_type": "markdown",
   "metadata": {},
   "source": [
    "## Colects Lists"
   ]
  },
  {
   "cell_type": "code",
   "execution_count": 33,
   "metadata": {},
   "outputs": [
    {
     "name": "stdout",
     "output_type": "stream",
     "text": [
      "642\n"
     ]
    }
   ],
   "source": [
    "# # Collects lists\n",
    "# collects2019 = list_collects(r\"M:\\AUV_Collects\\2019\")\n",
    "# with open(os.path.join(out_folder,\"collects2019.txt\"), \"wb\") as fp:   #Pickling\n",
    "#     pickle.dump(collects2019, fp)\n",
    "# collects2020 = list_collects(r\"W:\\AUV_Collects\\2020\")\n",
    "# with open(os.path.join(out_folder,\"collects2020.txt\"), \"wb\") as fp:   #Pickling\n",
    "#     pickle.dump(collects2020, fp)\n",
    "# collects2021 = list_collects(r\"W:\\AUV_Collects\\2021\")\n",
    "# with open(os.path.join(out_folder,\"collects2021.txt\"), \"wb\") as fp:   #Pickling\n",
    "#     pickle.dump(collects2021, fp)\n",
    "# collects2022 = list_collects(r\"Z:\\AUV_Collects\\2022\")\n",
    "# with open(os.path.join(out_folder,\"collects2022.txt\"), \"wb\") as fp:   #Pickling\n",
    "#     pickle.dump(collects2022, fp)\n",
    "# collects2023 = list_collects(r\"X:\\AUV_Collects\\2023\")\n",
    "# with open(os.path.join(out_folder,\"collects2023.txt\"), \"wb\") as fp:   #Pickling\n",
    "#     pickle.dump(collects2023, fp)\n",
    "\n",
    "# ## Load Collects Lists\n",
    "with open(os.path.join(out_folder,\"collects2019.txt\"), \"rb\") as fp:   #unpickling\n",
    "    collects2019 = pickle.load(fp)\n",
    "with open(os.path.join(out_folder,\"collects2020.txt\"), \"rb\") as fp:   \n",
    "    collects2020 = pickle.load(fp)\n",
    "with open(os.path.join(out_folder,\"collects2021.txt\"), \"rb\") as fp:   \n",
    "    collects2021 = pickle.load(fp)\n",
    "with open(os.path.join(out_folder,\"collects2022.txt\"), \"rb\") as fp:  \n",
    "    collects2022 = pickle.load(fp)\n",
    "with open(os.path.join(out_folder,\"collects2023.txt\"), \"rb\") as fp:   \n",
    "    collects2023 = pickle.load(fp)\n",
    "all_collects = collects2019 + collects2020 + collects2021 + collects2022 + collects2023\n",
    "with open(os.path.join(out_folder,\"all_collects_paths.txt\"), \"wb\") as fp:   #Pickling\n",
    "    pickle.dump(all_collects, fp)\n",
    "print(len(all_collects)) # 508 642"
   ]
  },
  {
   "cell_type": "markdown",
   "metadata": {},
   "source": [
    "## Images Lists"
   ]
  },
  {
   "cell_type": "code",
   "execution_count": 8,
   "metadata": {},
   "outputs": [
    {
     "name": "stdout",
     "output_type": "stream",
     "text": [
      "974668\n"
     ]
    }
   ],
   "source": [
    "# ## creating lists of unpacked image names and paths\n",
    "\n",
    "# images_2019 =  glob.glob(r\"Z:\\__Organized_Directories_InProgress\\2019_UnpackedCollects\\*\\image_raw\\*.png\")\n",
    "# with open(os.path.join(out_folder,\"images_2019.txt\"), \"wb\") as fp:   #Pickling\n",
    "#     pickle.dump(images_2019, fp)\n",
    "# images_2020 =  glob.glob(r\"Z:\\__Organized_Directories_InProgress\\2020_UnpackedCollects\\*\\image_raw\\*.png\")\n",
    "# with open(os.path.join(out_folder,\"images_2020.txt\"), \"wb\") as fp:   #Pickling\n",
    "#     pickle.dump(images_2020, fp)\n",
    "# images_2021 =  glob.glob(r\"Z:\\__Organized_Directories_InProgress\\2021_UnpackedCollects\\*\\image_raw\\*.png\")\n",
    "# with open(os.path.join(out_folder,\"images_2021.txt\"), \"wb\") as fp:   #Pickling\n",
    "#     pickle.dump(images_2021, fp)\n",
    "# images_2022 =  glob.glob(r\"Z:\\__Organized_Directories_InProgress\\2022_UnpackedCollects\\*\\image_raw\\*.png\")\n",
    "# with open(os.path.join(out_folder,\"images_2022.txt\"), \"wb\") as fp:   #Pickling\n",
    "#     pickle.dump(images_2022, fp)\n",
    "# images_2023 =  glob.glob(r\"Z:\\__Organized_Directories_InProgress\\2023_UnpackedCollects\\*\\image_raw\\*.png\")\n",
    "# with open(os.path.join(out_folder,\"images_2023.txt\"), \"wb\") as fp:   #Pickling\n",
    "#     pickle.dump(images_2023, fp)\n",
    "\n",
    "## Loading Images Lists\n",
    "with open(os.path.join(out_folder,\"images_2019.txt\"), \"rb\") as fp:   #unpickling\n",
    "    images_2019 = pickle.load(fp)\n",
    "with open(os.path.join(out_folder,\"images_2020.txt\"), \"rb\") as fp:   \n",
    "    images_2020 = pickle.load(fp)\n",
    "with open(os.path.join(out_folder,\"images_2021.txt\"), \"rb\") as fp:   \n",
    "    images_2021 = pickle.load(fp)\n",
    "with open(os.path.join(out_folder,\"images_2022.txt\"), \"rb\") as fp:  \n",
    "    images_2022 = pickle.load(fp)\n",
    "with open(os.path.join(out_folder,\"images_2023.txt\"), \"rb\") as fp:   \n",
    "    images_2023 = pickle.load(fp)\n",
    "image_list = images_2019 + images_2020 + images_2021 + images_2022 + images_2023\n",
    "print(len(image_list)) # 2035662 2041537 2300780 1678865 1600235 976615 974668"
   ]
  },
  {
   "cell_type": "code",
   "execution_count": 9,
   "metadata": {},
   "outputs": [
    {
     "name": "stdout",
     "output_type": "stream",
     "text": [
      "2020 (112808, 3)\n",
      "2021 (279385, 3)\n",
      "2022 (271209, 3)\n",
      "2023 (302562, 3)\n",
      "Total imgs:  974668\n"
     ]
    }
   ],
   "source": [
    "## Dataframe of all unpacked images and their paths based on a list of paths\n",
    "# df_imgs_2019 = create_image_df_save_pckle(image_list=images_2019, out_folder=out_folder, year=2019)\n",
    "# df_imgs_2020 = create_image_df_save_pckle(image_list=images_2020, out_folder=out_folder, year=2020)\n",
    "# df_imgs_2021 = create_image_df_save_pckle(image_list=images_2021, out_folder=out_folder, year=2021)\n",
    "# df_imgs_2022 = create_image_df_save_pckle(image_list=images_2022, out_folder=out_folder, year=2022)\n",
    "# df_imgs_2023 = create_image_df_save_pckle(image_list=images_2023, out_folder=out_folder, year=2023)\n",
    "\n",
    "df_imgs_2019 = pd.read_pickle(os.path.join(out_folder,\"2019_imgs.pickle\"))\n",
    "df_imgs_2020 = pd.read_pickle(os.path.join(out_folder,\"2020_imgs.pickle\"))\n",
    "df_imgs_2021 = pd.read_pickle(os.path.join(out_folder,\"2021_imgs.pickle\"))\n",
    "df_imgs_2022 = pd.read_pickle(os.path.join(out_folder,\"2022_imgs.pickle\"))\n",
    "df_imgs_2023 = pd.read_pickle(os.path.join(out_folder,\"2023_imgs.pickle\"))\n",
    "\n",
    "'''\n",
    "2019 (8704, 2)\n",
    "2020 (112808, 3)\n",
    "2021 (279385, 3)\n",
    "2022 (271209, 3)\n",
    "2023 (302562, 3)\n",
    "Total imgs:  974668\n",
    "'''\n",
    "print(\"Total imgs: \", len(df_imgs_2019)+len(df_imgs_2020)+len(df_imgs_2021)+len(df_imgs_2022)+len(df_imgs_2023)) #2253118\n"
   ]
  },
  {
   "cell_type": "markdown",
   "metadata": {},
   "source": [
    "## Metadata"
   ]
  },
  {
   "cell_type": "code",
   "execution_count": 10,
   "metadata": {},
   "outputs": [
    {
     "name": "stdout",
     "output_type": "stream",
     "text": [
      "508\n"
     ]
    }
   ],
   "source": [
    "# # New metadata\n",
    "headers = pd.Series(list_files(r\"Z:\\CollectMetadata\",'Primary_Image_Metadata.csv'))\n",
    "# headers_2019 = list(headers[headers.str.contains(\"2019\\d{4}_\")])\n",
    "headers_2020 = list(headers[headers.str.contains(\"2020\\d{4}_\")])\n",
    "headers_2021 = list(headers[headers.str.contains(\"2021\\d{4}_\")])\n",
    "headers_2022 = list(headers[headers.str.contains(\"2022\\d{4}_\")])\n",
    "headers_2023 = list(headers[headers.str.contains(\"2023\\d{4}_\")])\n",
    "headers_2024 = list(headers[headers.str.contains(\"2024\\d{4}_\")])\n",
    "assert len(headers_2020) + len(headers_2021) + len(headers_2022) + len(headers_2023) + len(headers_2024) == len(headers)\n",
    "print(len(headers)) # 508"
   ]
  },
  {
   "cell_type": "markdown",
   "metadata": {},
   "source": [
    "### Reading and combining All metadata by year and cleaning"
   ]
  },
  {
   "cell_type": "code",
   "execution_count": 11,
   "metadata": {},
   "outputs": [
    {
     "name": "stdout",
     "output_type": "stream",
     "text": [
      "2020 (130677, 121)\n",
      "2021 (383058, 143)\n",
      "2022 (429026, 143)\n",
      "2023 (413996, 143)\n"
     ]
    }
   ],
   "source": [
    "# header_2019 = combine_headers(headers_2019)\n",
    "# header_2020 = combine_headers(headers_2020)\n",
    "# header_2021 = combine_headers(headers_2021)\n",
    "# header_2022 = combine_headers(headers_2022)\n",
    "# header_2023 = combine_headers(headers_2023)\n",
    "\n",
    "\n",
    "# header_2019.to_csv(os.path.join(out_folder, \"header_2019_combined.csv\"))\n",
    "# header_2020.to_csv(os.path.join(out_folder, \"header_2020_combined.csv\"))\n",
    "# header_2021.to_csv(os.path.join(out_folder, \"header_2021_combined.csv\"))\n",
    "# header_2022.to_csv(os.path.join(out_folder, \"header_2022_combined.csv\"))\n",
    "# header_2023.to_csv(os.path.join(out_folder, \"header_2023_combined.csv\"))\n",
    "\n",
    "header_2020 = pd.read_csv(os.path.join(out_folder, \"header_2020_combined.csv\"), index_col=0, low_memory=False)\n",
    "header_2021 = pd.read_csv(os.path.join(out_folder, \"header_2021_combined.csv\"), index_col=0, low_memory=False)\n",
    "header_2022 = pd.read_csv(os.path.join(out_folder, \"header_2022_combined.csv\"), index_col=0, low_memory=False)\n",
    "header_2023 = pd.read_csv(os.path.join(out_folder, \"header_2023_combined.csv\"), index_col=0, low_memory=False)\n",
    "\n",
    "''' \n",
    "2020 (130677, 121)\n",
    "2021 (383058, 143)\n",
    "2022 (429026, 143)\n",
    "2023 (413996, 143)\n",
    "'''\n",
    "print(\"2020\", header_2020.shape)\n",
    "print(\"2021\", header_2021.shape)\n",
    "print(\"2022\", header_2022.shape)\n",
    "print(\"2023\", header_2023.shape)"
   ]
  },
  {
   "cell_type": "markdown",
   "metadata": {},
   "source": [
    "### Filter metadata by unpacked images"
   ]
  },
  {
   "cell_type": "code",
   "execution_count": 12,
   "metadata": {},
   "outputs": [],
   "source": [
    "# header_times = pd.concat([header_2019_c.EpochTime, header_2020_c.EpochTime, header_2021_c.EpochTime, header_2022_c.EpochTime, header_2023_c.EpochTime])\n",
    "# plot_epoch_time(df1=header_times, df2=pd.DataFrame(),title=None, lbl1=None, lbl2=None)"
   ]
  },
  {
   "attachments": {
    "image.png": {
     "image/png": "[encoded data removed]"
    }
   },
   "cell_type": "markdown",
   "metadata": {},
   "source": [
    "![image.png](attachment:image.png)"
   ]
  },
  {
   "cell_type": "markdown",
   "metadata": {},
   "source": [
    "### Unpacked Images Metadata"
   ]
  },
  {
   "cell_type": "code",
   "execution_count": 13,
   "metadata": {},
   "outputs": [
    {
     "name": "stdout",
     "output_type": "stream",
     "text": [
      "2020 (112808, 123)\n",
      "2021 (252134, 145)\n",
      "2022 (241828, 145)\n",
      "2023 (300456, 145)\n"
     ]
    },
    {
     "data": {
      "text/plain": [
       "'\\n2019 (3363, 21)\\n\\n2020 (112808, 123)\\n2021 (252134, 145)\\n2022 (241986, 145)\\n2023 (300371, 145)\\n'"
      ]
     },
     "execution_count": 13,
     "metadata": {},
     "output_type": "execute_result"
    }
   ],
   "source": [
    "\n",
    "# df_collects = pd.read_excel(\"Z:/HeadersCombined/2019-2023_Collects_Survey_Names.xlsx\", index_col=0)\n",
    "# df_collects.OP_DATE = pd.to_datetime(df_collects.OP_DATE)\n",
    "# df_unp_2019 = create_unpacked_images_metatada_df(header_2019, df_imgs_2019, 2019)\n",
    "df_unp_2020 = create_unpacked_images_metatada_df(header_2020, df_imgs_2020, 2020)\n",
    "df_unp_2021 = create_unpacked_images_metatada_df(header_2021, df_imgs_2021, 2021)\n",
    "df_unp_2022 = create_unpacked_images_metatada_df(header_2022, df_imgs_2022, 2022)\n",
    "df_unp_2023 = create_unpacked_images_metatada_df(header_2023, df_imgs_2023, 2023)\n",
    "'''\n",
    "2019 (3363, 21)\n",
    "\n",
    "2020 (112808, 123)\n",
    "2021 (252134, 145)\n",
    "2022 (241828, 145)\n",
    "2023 (300456, 145)\n",
    "'''"
   ]
  },
  {
   "cell_type": "markdown",
   "metadata": {},
   "source": [
    "### Finished with creating metatadata"
   ]
  },
  {
   "cell_type": "code",
   "execution_count": 17,
   "metadata": {},
   "outputs": [],
   "source": [
    "def make_op_table(header_list, SiteIds_df):\n",
    "    RVCAT_OP = pd.DataFrame(columns=[\"OP_ID\", \"TARGET\", \"YEAR\", \"OP_DATE\", \"TIME\", \"SERIAL\", \"SAMPLE_TYPE\", \"LAKE\", \"CRUISE\", \"VESSEL\", \"SITE\", \"SURVEY\"])\n",
    "    for header in header_list:\n",
    "        Time_s = header.Time_s\n",
    "        VehicleID = header.VehicleID\n",
    "        datetime = pd.to_datetime(Time_s,unit='s', utc=True)\n",
    "        est_time = datetime.dt.tz_convert('US/Eastern')\n",
    "        col_lake = dict(SiteIds_df[[\"CollectID\", \"Lake\"]].values)\n",
    "        col_siteid = dict(SiteIds_df[[\"CollectID\", \"SiteID\"]].values)\n",
    "        col_surveytype = dict(SiteIds_df[[\"CollectID\", \"Survey_Type\"]].values)\n",
    "        df = pd.DataFrame(columns=[\"OP_ID\", \"TARGET\", \"YEAR\", \"OP_DATE\", \"TIME\", \"SERIAL\", \"SAMPLE_TYPE\", \"LAKE\", \"CRUISE\", \"VESSEL\", \"SITE\"])\n",
    "        df['YEAR'] = est_time.dt.year\n",
    "        df['OP_DATE'] = est_time.dt.date\n",
    "        df['TIME'] = est_time.dt.time\n",
    "        df['COLLECT_ID'] =  header.collect_id\n",
    "        df['VESSEL'] =  VehicleID\n",
    "        RVCAT_ = df.groupby(\"COLLECT_ID\").first().reset_index()\n",
    "        RVCAT_['SERIAL'] = np.arange(0,len(RVCAT_),1)\n",
    "        RVCAT_['CRUISE'] = np.arange(0,len(RVCAT_),1)\n",
    "        RVCAT_['SAMPLE_TYPE'] = \"AUV\"\n",
    "        RVCAT_[\"LAKE\"] = RVCAT_.COLLECT_ID.map(col_lake)\n",
    "        RVCAT_[\"SITE\"] = RVCAT_.COLLECT_ID.map(col_siteid)\n",
    "        RVCAT_[\"SURVEY\"] = RVCAT_.COLLECT_ID.map(col_surveytype)\n",
    "        RVCAT_OP = pd.concat([RVCAT_OP, RVCAT_])\n",
    "    return RVCAT_OP"
   ]
  },
  {
   "cell_type": "code",
   "execution_count": 18,
   "metadata": {},
   "outputs": [
    {
     "data": {
      "text/html": [
       "<div>\n",
       "<style scoped>\n",
       "    .dataframe tbody tr th:only-of-type {\n",
       "        vertical-align: middle;\n",
       "    }\n",
       "\n",
       "    .dataframe tbody tr th {\n",
       "        vertical-align: top;\n",
       "    }\n",
       "\n",
       "    .dataframe thead th {\n",
       "        text-align: right;\n",
       "    }\n",
       "</style>\n",
       "<table border=\"1\" class=\"dataframe\">\n",
       "  <thead>\n",
       "    <tr style=\"text-align: right;\">\n",
       "      <th></th>\n",
       "      <th>OP_ID</th>\n",
       "      <th>TARGET</th>\n",
       "      <th>YEAR</th>\n",
       "      <th>OP_DATE</th>\n",
       "      <th>TIME</th>\n",
       "      <th>SERIAL</th>\n",
       "      <th>SAMPLE_TYPE</th>\n",
       "      <th>LAKE</th>\n",
       "      <th>CRUISE</th>\n",
       "      <th>VESSEL</th>\n",
       "      <th>SITE</th>\n",
       "      <th>SURVEY</th>\n",
       "      <th>COLLECT_ID</th>\n",
       "    </tr>\n",
       "  </thead>\n",
       "  <tbody>\n",
       "    <tr>\n",
       "      <th>0</th>\n",
       "      <td>None</td>\n",
       "      <td>None</td>\n",
       "      <td>2020</td>\n",
       "      <td>2020-08-05</td>\n",
       "      <td>12:45:54.893936</td>\n",
       "      <td>0</td>\n",
       "      <td>AUV</td>\n",
       "      <td>Michigan</td>\n",
       "      <td>0</td>\n",
       "      <td>IVER3-3069</td>\n",
       "      <td>LM_20_08</td>\n",
       "      <td>GOBY</td>\n",
       "      <td>20200805_001_Iver3069_ABS1</td>\n",
       "    </tr>\n",
       "    <tr>\n",
       "      <th>1</th>\n",
       "      <td>None</td>\n",
       "      <td>None</td>\n",
       "      <td>2020</td>\n",
       "      <td>2020-08-06</td>\n",
       "      <td>06:26:38</td>\n",
       "      <td>1</td>\n",
       "      <td>AUV</td>\n",
       "      <td>Michigan</td>\n",
       "      <td>1</td>\n",
       "      <td>IVER3-3069</td>\n",
       "      <td>LM_20_06</td>\n",
       "      <td>GOBY</td>\n",
       "      <td>20200806_001_Iver3069_ABS1</td>\n",
       "    </tr>\n",
       "    <tr>\n",
       "      <th>2</th>\n",
       "      <td>None</td>\n",
       "      <td>None</td>\n",
       "      <td>2020</td>\n",
       "      <td>2020-08-07</td>\n",
       "      <td>06:03:56</td>\n",
       "      <td>2</td>\n",
       "      <td>AUV</td>\n",
       "      <td>Michigan</td>\n",
       "      <td>2</td>\n",
       "      <td>IVER3-3069</td>\n",
       "      <td>LM_20_05</td>\n",
       "      <td>GOBY</td>\n",
       "      <td>20200807_001_Iver3069_ABS1</td>\n",
       "    </tr>\n",
       "    <tr>\n",
       "      <th>3</th>\n",
       "      <td>None</td>\n",
       "      <td>None</td>\n",
       "      <td>2020</td>\n",
       "      <td>2020-08-09</td>\n",
       "      <td>06:32:24</td>\n",
       "      <td>3</td>\n",
       "      <td>AUV</td>\n",
       "      <td>Michigan</td>\n",
       "      <td>3</td>\n",
       "      <td>IVER3-3069</td>\n",
       "      <td>LM_20_04</td>\n",
       "      <td>GOBY</td>\n",
       "      <td>20200809_001_Iver3069_ABS1</td>\n",
       "    </tr>\n",
       "    <tr>\n",
       "      <th>4</th>\n",
       "      <td>None</td>\n",
       "      <td>None</td>\n",
       "      <td>2020</td>\n",
       "      <td>2020-08-11</td>\n",
       "      <td>07:24:56.668066</td>\n",
       "      <td>4</td>\n",
       "      <td>AUV</td>\n",
       "      <td>Michigan</td>\n",
       "      <td>4</td>\n",
       "      <td>IVER3-3069</td>\n",
       "      <td>LM_20_03</td>\n",
       "      <td>GOBY</td>\n",
       "      <td>20200811_001_Iver3069_ABS1</td>\n",
       "    </tr>\n",
       "    <tr>\n",
       "      <th>...</th>\n",
       "      <td>...</td>\n",
       "      <td>...</td>\n",
       "      <td>...</td>\n",
       "      <td>...</td>\n",
       "      <td>...</td>\n",
       "      <td>...</td>\n",
       "      <td>...</td>\n",
       "      <td>...</td>\n",
       "      <td>...</td>\n",
       "      <td>...</td>\n",
       "      <td>...</td>\n",
       "      <td>...</td>\n",
       "      <td>...</td>\n",
       "    </tr>\n",
       "    <tr>\n",
       "      <th>152</th>\n",
       "      <td>None</td>\n",
       "      <td>None</td>\n",
       "      <td>2023</td>\n",
       "      <td>2023-11-15</td>\n",
       "      <td>12:07:17.001150</td>\n",
       "      <td>152</td>\n",
       "      <td>AUV</td>\n",
       "      <td>Ontario</td>\n",
       "      <td>152</td>\n",
       "      <td>IVER3-3069</td>\n",
       "      <td>Trubbles Recovery 11/15</td>\n",
       "      <td>Trubbles Recovery 11/15</td>\n",
       "      <td>20231115_001_Iver3069_ABS2</td>\n",
       "    </tr>\n",
       "    <tr>\n",
       "      <th>153</th>\n",
       "      <td>None</td>\n",
       "      <td>None</td>\n",
       "      <td>2023</td>\n",
       "      <td>2023-11-17</td>\n",
       "      <td>13:34:36.606663</td>\n",
       "      <td>153</td>\n",
       "      <td>AUV</td>\n",
       "      <td>Ontario</td>\n",
       "      <td>153</td>\n",
       "      <td>IVER3-3069</td>\n",
       "      <td>Trubbles Recovery 11/17</td>\n",
       "      <td>Trubbles Recovery 11/17</td>\n",
       "      <td>20231117_001_Iver3069_ABS2</td>\n",
       "    </tr>\n",
       "    <tr>\n",
       "      <th>154</th>\n",
       "      <td>None</td>\n",
       "      <td>None</td>\n",
       "      <td>2023</td>\n",
       "      <td>2023-11-18</td>\n",
       "      <td>11:35:36.072310</td>\n",
       "      <td>154</td>\n",
       "      <td>AUV</td>\n",
       "      <td>Ontario</td>\n",
       "      <td>154</td>\n",
       "      <td>IVER3-3069</td>\n",
       "      <td>Trubbles Recovery 11/18</td>\n",
       "      <td>Trubbles Recovery 11/18</td>\n",
       "      <td>20231118_001_Iver3069_ABS2</td>\n",
       "    </tr>\n",
       "    <tr>\n",
       "      <th>155</th>\n",
       "      <td>None</td>\n",
       "      <td>None</td>\n",
       "      <td>2023</td>\n",
       "      <td>2023-11-19</td>\n",
       "      <td>11:23:50.483891</td>\n",
       "      <td>155</td>\n",
       "      <td>AUV</td>\n",
       "      <td>Ontario</td>\n",
       "      <td>155</td>\n",
       "      <td>IVER3-3069</td>\n",
       "      <td>Trubbles Recovery 11/19</td>\n",
       "      <td>Trubbles Recovery 11/19</td>\n",
       "      <td>20231119_001_Iver3069_ABS2</td>\n",
       "    </tr>\n",
       "    <tr>\n",
       "      <th>156</th>\n",
       "      <td>None</td>\n",
       "      <td>None</td>\n",
       "      <td>2023</td>\n",
       "      <td>2023-11-20</td>\n",
       "      <td>11:56:20.099121</td>\n",
       "      <td>156</td>\n",
       "      <td>AUV</td>\n",
       "      <td>Ontario</td>\n",
       "      <td>156</td>\n",
       "      <td>IVER3-3069</td>\n",
       "      <td>Trubbles Recovery 11/20</td>\n",
       "      <td>Trubbles Recovery 11/20</td>\n",
       "      <td>20231120_001_Iver3069_ABS2</td>\n",
       "    </tr>\n",
       "  </tbody>\n",
       "</table>\n",
       "<p>493 rows × 13 columns</p>\n",
       "</div>"
      ],
      "text/plain": [
       "    OP_ID TARGET  YEAR     OP_DATE             TIME SERIAL SAMPLE_TYPE  \\\n",
       "0    None   None  2020  2020-08-05  12:45:54.893936      0         AUV   \n",
       "1    None   None  2020  2020-08-06         06:26:38      1         AUV   \n",
       "2    None   None  2020  2020-08-07         06:03:56      2         AUV   \n",
       "3    None   None  2020  2020-08-09         06:32:24      3         AUV   \n",
       "4    None   None  2020  2020-08-11  07:24:56.668066      4         AUV   \n",
       "..    ...    ...   ...         ...              ...    ...         ...   \n",
       "152  None   None  2023  2023-11-15  12:07:17.001150    152         AUV   \n",
       "153  None   None  2023  2023-11-17  13:34:36.606663    153         AUV   \n",
       "154  None   None  2023  2023-11-18  11:35:36.072310    154         AUV   \n",
       "155  None   None  2023  2023-11-19  11:23:50.483891    155         AUV   \n",
       "156  None   None  2023  2023-11-20  11:56:20.099121    156         AUV   \n",
       "\n",
       "         LAKE CRUISE      VESSEL                     SITE  \\\n",
       "0    Michigan      0  IVER3-3069                 LM_20_08   \n",
       "1    Michigan      1  IVER3-3069                 LM_20_06   \n",
       "2    Michigan      2  IVER3-3069                 LM_20_05   \n",
       "3    Michigan      3  IVER3-3069                 LM_20_04   \n",
       "4    Michigan      4  IVER3-3069                 LM_20_03   \n",
       "..        ...    ...         ...                      ...   \n",
       "152   Ontario    152  IVER3-3069  Trubbles Recovery 11/15   \n",
       "153   Ontario    153  IVER3-3069  Trubbles Recovery 11/17   \n",
       "154   Ontario    154  IVER3-3069  Trubbles Recovery 11/18   \n",
       "155   Ontario    155  IVER3-3069  Trubbles Recovery 11/19   \n",
       "156   Ontario    156  IVER3-3069  Trubbles Recovery 11/20   \n",
       "\n",
       "                      SURVEY                  COLLECT_ID  \n",
       "0                       GOBY  20200805_001_Iver3069_ABS1  \n",
       "1                       GOBY  20200806_001_Iver3069_ABS1  \n",
       "2                       GOBY  20200807_001_Iver3069_ABS1  \n",
       "3                       GOBY  20200809_001_Iver3069_ABS1  \n",
       "4                       GOBY  20200811_001_Iver3069_ABS1  \n",
       "..                       ...                         ...  \n",
       "152  Trubbles Recovery 11/15  20231115_001_Iver3069_ABS2  \n",
       "153  Trubbles Recovery 11/17  20231117_001_Iver3069_ABS2  \n",
       "154  Trubbles Recovery 11/18  20231118_001_Iver3069_ABS2  \n",
       "155  Trubbles Recovery 11/19  20231119_001_Iver3069_ABS2  \n",
       "156  Trubbles Recovery 11/20  20231120_001_Iver3069_ABS2  \n",
       "\n",
       "[493 rows x 13 columns]"
      ]
     },
     "execution_count": 18,
     "metadata": {},
     "output_type": "execute_result"
    }
   ],
   "source": [
    "SiteIds_df = pd.read_csv(\"Z:\\HeadersCombined\\SiteIDs_Master.csv\")\n",
    "header_list = [header_2020, header_2021, header_2022, header_2023]\n",
    "df_OP = make_op_table(header_list, SiteIds_df)\n",
    "df_OP.to_csv(\"op_table.csv\")\n",
    "df_OP"
   ]
  }
 ],
 "metadata": {
  "kernelspec": {
   "display_name": "bubbler-lite",
   "language": "python",
   "name": "python3"
  },
  "language_info": {
   "codemirror_mode": {
    "name": "ipython",
    "version": 3
   },
   "file_extension": ".py",
   "mimetype": "text/x-python",
   "name": "python",
   "nbconvert_exporter": "python",
   "pygments_lexer": "ipython3",
   "version": "3.11.4"
  },
  "orig_nbformat": 4
 },
 "nbformat": 4,
 "nbformat_minor": 2
}
