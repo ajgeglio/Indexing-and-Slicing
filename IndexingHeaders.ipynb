{
 "cells": [
  {
   "cell_type": "code",
   "execution_count": 8,
   "metadata": {},
   "outputs": [],
   "source": [
    "import pandas as pd\n",
    "import os\n",
    "import numpy as np\n",
    "import datetime as dt\n",
    "import pickle\n",
    "from src import *\n",
    "from mapping_reef_classes import get_coordinates\n",
    "import glob"
   ]
  },
  {
   "cell_type": "code",
   "execution_count": 9,
   "metadata": {},
   "outputs": [],
   "source": [
    "# out_folder, Ymmdd = make_datetime_folder()\n",
    "# out_folder = '2019-2023-20240918'\n",
    "out_folder = \"2019-2023-20241029\" # choose most recent folder unless a major channge is added\n",
    "years = [\n",
    "    \"2019\",\n",
    "    \"2020\", \n",
    "    \"2021\", \n",
    "    \"2022\", \n",
    "    \"2023\",\n",
    "    \"2024\"\n",
    "    ] # which years to update\n",
    "all_years = [\"2019\", \"2020\", \"2021\", \"2022\", \"2023\", \"2024\"]"
   ]
  },
  {
   "cell_type": "markdown",
   "metadata": {},
   "source": [
    "## Colects Lists"
   ]
  },
  {
   "cell_type": "code",
   "execution_count": null,
   "metadata": {},
   "outputs": [],
   "source": [
    "# # Collects lists\n",
    "def update_collect_lists(years):\n",
    "    collects_txt_pth = os.path.join(out_folder,f\"all_collects.txt\")\n",
    "    collects_init = load_pickle(collects_txt_pth)\n",
    "    collects = []\n",
    "    for year in years:\n",
    "        if year == \"2019\":\n",
    "            collects = list_collects(f\"M:\\\\AUV_Collects\\\\{year}\") \n",
    "        if year in (\"2020\",\"2021\") :\n",
    "            collects+= list_collects(f\"W:\\\\AUV_Collects\\\\{year}\")\n",
    "        if year == \"2022\":\n",
    "            collects+= list_collects(f\"Z:\\\\AUV_Collects\\\\{year}\")\n",
    "        if year == \"2023\":\n",
    "            collects+= list_collects(f\"X:\\\\AUV_Collects\\\\{year}\")\n",
    "        if year == \"2024\":\n",
    "            collects+= list_collects(f\"X:\\\\AUV_Collects\\\\{year}\")\n",
    "            collects+= list_collects(f\"W:\\\\AUV_Collects\\\\{year}\")\n",
    "    collects_final = list(set(collects+collects_init))\n",
    "    new = list(set(collects_final).difference(collects_init))\n",
    "    print(\"found\", len(new), \"new collects\")\n",
    "    if len(new) > 0 : \n",
    "        dump_pickle(collects_txt_pth, collects_final)\n",
    "    return collects_final\n",
    "    \n",
    "collects = update_collect_lists(years)\n",
    "# ## Load Collects Lists\n",
    "print(len(collects)) # 508 642 954"
   ]
  },
  {
   "cell_type": "markdown",
   "metadata": {},
   "source": [
    "## Unpacked image paths"
   ]
  },
  {
   "cell_type": "code",
   "execution_count": 4,
   "metadata": {},
   "outputs": [
    {
     "name": "stdout",
     "output_type": "stream",
     "text": [
      "1201592\n"
     ]
    }
   ],
   "source": [
    "# ## creating lists of unpacked image names and paths\n",
    "def update_img_pth_lsts(years):\n",
    "    for year in years:\n",
    "        images_lst =  glob.glob(f\"Z:\\\\__Organized_Directories_InProgress\\\\{year}_UnpackedCollects\\\\*\\\\*image_raw\\\\*.png\")\\\n",
    "                        + glob.glob(f\"Z:\\\\__Organized_Directories_InProgress\\\\{year}_UnpackedCollects\\\\*REMUS*\\\\*.tif\")\n",
    "        dump_pickle(os.path.join(out_folder,f\"images_{year}.txt\"), images_lst)\n",
    "\n",
    "# update_img_pth_lsts(years)\n",
    "## Loading Images Lists\n",
    "images_2019 = load_pickle(os.path.join(out_folder,\"images_2019.txt\"))\n",
    "images_2020 = load_pickle(os.path.join(out_folder,\"images_2020.txt\"))\n",
    "images_2021 = load_pickle(os.path.join(out_folder,\"images_2021.txt\"))\n",
    "images_2022 = load_pickle(os.path.join(out_folder,\"images_2022.txt\"))\n",
    "images_2023 = load_pickle(os.path.join(out_folder,\"images_2023.txt\"))\n",
    "images_2024 = load_pickle(os.path.join(out_folder,\"images_2024.txt\"))\n",
    "image_list = images_2019 + images_2020 + images_2021 + images_2022 + images_2023 + images_2024\n",
    "print(len(image_list)) # 2035662 2041537 2300780 1678865 1600235 976615 974668 1174788 1175786 1223392 1223336 1201592"
   ]
  },
  {
   "cell_type": "code",
   "execution_count": 5,
   "metadata": {},
   "outputs": [
    {
     "name": "stdout",
     "output_type": "stream",
     "text": [
      "2019 (56310, 3)\n",
      "2020 (112808, 3)\n",
      "2021 (279385, 3)\n",
      "2022 (271183, 3)\n",
      "2023 (280818, 3)\n",
      "2024 (201088, 3)\n",
      "Total imgs:  1201592\n"
     ]
    }
   ],
   "source": [
    "## Dataframe of all unpacked images and their paths based on a list of paths\n",
    "df_imgs_2019 = create_image_df_save_csv(image_list=images_2019, out_folder=out_folder, year=2019)\n",
    "df_imgs_2020 = create_image_df_save_csv(image_list=images_2020, out_folder=out_folder, year=2020)\n",
    "df_imgs_2021 = create_image_df_save_csv(image_list=images_2021, out_folder=out_folder, year=2021)\n",
    "df_imgs_2022 = create_image_df_save_csv(image_list=images_2022, out_folder=out_folder, year=2022)\n",
    "df_imgs_2023 = create_image_df_save_csv(image_list=images_2023, out_folder=out_folder, year=2023)\n",
    "df_imgs_2024 = create_image_df_save_csv(image_list=images_2024, out_folder=out_folder, year=2024)\n",
    "'''\n",
    "2018 (0, 2)\n",
    "2019 (56310, 3)\n",
    "2020 (112808, 3)\n",
    "2021 (279385, 3)\n",
    "2022 (271183, 3)\n",
    "2023 (280818, 3)\n",
    "2024 (201088, 3)\n",
    "Total imgs:  1223336\n",
    "'''\n",
    "print(\"Total imgs: \", len(df_imgs_2019)+len(df_imgs_2020)+len(df_imgs_2021)+len(df_imgs_2022)+len(df_imgs_2023) + len(df_imgs_2024))\n"
   ]
  },
  {
   "cell_type": "markdown",
   "metadata": {},
   "source": [
    "## Metadata"
   ]
  },
  {
   "cell_type": "markdown",
   "metadata": {},
   "source": [
    "### Reading and combining All metadata by year and cleaning"
   ]
  },
  {
   "cell_type": "code",
   "execution_count": 6,
   "metadata": {},
   "outputs": [
    {
     "name": "stdout",
     "output_type": "stream",
     "text": [
      "2019 (168379, 149)\n",
      "2020 (220032, 127)\n",
      "2021 (407575, 149)\n",
      "2022 (437992, 151)\n",
      "2023 (449811, 151)\n",
      "2024 (357937, 149)\n"
     ]
    }
   ],
   "source": [
    "def update_headers_combined(years): #saves a csv header_{year}_combined\n",
    "    headers = pd.Series(glob.glob(r\"Z:\\CollectMetadata\\*\\*Primary_Image_Metadata*.csv\"))\n",
    "    for year in years:\n",
    "        header_pth = list(headers[headers.str.contains(year+r\"\\d{4}_\")])\n",
    "        header_comb = combine_headers(header_pth)\n",
    "        header_comb = header_comb.drop_duplicates(subset=['Time_s', 'filename', 'collect_id'])\n",
    "        header_comb.to_csv(os.path.join(out_folder, f\"header_{year}_combined.csv\"))\n",
    "        header_comb[[\"collect_id\", \"Latitude\", \"Longitude\"]].groupby(by=\"collect_id\").median().to_csv(os.path.join(out_folder,f\"median_latlon_{year}.csv\"))\n",
    "# update_headers_combined(years)\n",
    "header_2019 = pd.read_csv(os.path.join(out_folder, \"header_2019_combined.csv\"), index_col=0, low_memory=False)\n",
    "header_2020 = pd.read_csv(os.path.join(out_folder, \"header_2020_combined.csv\"), index_col=0, low_memory=False)\n",
    "header_2021 = pd.read_csv(os.path.join(out_folder, \"header_2021_combined.csv\"), index_col=0, low_memory=False)\n",
    "header_2022 = pd.read_csv(os.path.join(out_folder, \"header_2022_combined.csv\"), index_col=0, low_memory=False)\n",
    "header_2023 = pd.read_csv(os.path.join(out_folder, \"header_2023_combined.csv\"), index_col=0, low_memory=False)\n",
    "header_2024 = pd.read_csv(os.path.join(out_folder, \"header_2024_combined.csv\"), index_col=0, low_memory=False)\n",
    "all_headers = pd.concat([header_2019, header_2020, header_2021, header_2022, header_2023, header_2024])\n",
    "all_headers.to_pickle(os.path.join(out_folder,\"all_headers.pickle\"))\n",
    "\n",
    "''' \n",
    "2019 (168379, 149)\n",
    "2020 (220032, 127)\n",
    "2021 (407575, 149)\n",
    "2022 (437992, 151)\n",
    "2023 (449811, 151)\n",
    "2024 (357937, 149)\n",
    "'''\n",
    "print(\"2019\", header_2019.shape)\n",
    "print(\"2020\", header_2020.shape)\n",
    "print(\"2021\", header_2021.shape)\n",
    "print(\"2022\", header_2022.shape)\n",
    "print(\"2023\", header_2023.shape)\n",
    "print(\"2024\", header_2024.shape)"
   ]
  },
  {
   "cell_type": "markdown",
   "metadata": {},
   "source": [
    "### Unpacked Images Metadata"
   ]
  },
  {
   "cell_type": "code",
   "execution_count": 7,
   "metadata": {},
   "outputs": [
    {
     "name": "stdout",
     "output_type": "stream",
     "text": [
      "2019 (4992, 157)\n",
      "2020 (112808, 134)\n",
      "2021 (275149, 156)\n",
      "2022 (240339, 158)\n",
      "2023 (278703, 158)\n",
      "2024 (195504, 156)\n"
     ]
    }
   ],
   "source": [
    "'''\n",
    "2019 (4992, 154)\n",
    "2020 (112808, 132)\n",
    "2021 (276134, 153)\n",
    "2022 (240196, 154)\n",
    "2023 (277800, 157)\n",
    "2024 (195504, 154)\n",
    "'''\n",
    "\n",
    "def update_unpacked_imgs_db(years):\n",
    "    for year in years:\n",
    "        if year == \"2019\":\n",
    "            create_unpacked_images_metatada_df_old_imn(header_2019, df_imgs_2019, ext = \".png\", year = 2019) # 2019 (4992, 157)\n",
    "        if year == \"2020\":\n",
    "            create_unpacked_images_metatada_df(header_2020, df_imgs_2020, ext = \".png\", year = 2020) # 2020 (112808, 134)\n",
    "        if year == \"2021\":\n",
    "            create_unpacked_images_metatada_df(header_2021, df_imgs_2021, ext = \".png\", year = 2021) # 2021 (275149, 156)\n",
    "        if year == \"2022\":\n",
    "            create_unpacked_images_metatada_df(header_2022, df_imgs_2022, ext = \".png\", year = 2022) # 2022 (240339, 158)\n",
    "        if year == \"2023\":\n",
    "            create_unpacked_images_metatada_df(header_2023, df_imgs_2023, ext = \".png\", year = 2023) # 2023 (278703, 158)\n",
    "        if year == \"2024\":\n",
    "            create_unpacked_images_metatada_df(header_2024, df_imgs_2024, ext = \".png\", year = 2024) # 2024 (195504, 156)\n",
    "update_unpacked_imgs_db(years)\n",
    "df_unp_2019 = pd.read_csv(r\"all_unpacked_images_metadata_2019.csv\", index_col=0, low_memory=False)\n",
    "df_unp_2020 = pd.read_csv(r\"all_unpacked_images_metadata_2020.csv\", index_col=0, low_memory=False)\n",
    "df_unp_2021 = pd.read_csv(r\"all_unpacked_images_metadata_2021.csv\", index_col=0, low_memory=False)\n",
    "df_unp_2022 = pd.read_csv(r\"all_unpacked_images_metadata_2022.csv\", index_col=0, low_memory=False)\n",
    "df_unp_2023 = pd.read_csv(r\"all_unpacked_images_metadata_2023.csv\", index_col=0, low_memory=False)\n",
    "df_unp_2024 = pd.read_csv(r\"all_unpacked_images_metadata_2024.csv\", index_col=0, low_memory=False)"
   ]
  },
  {
   "cell_type": "markdown",
   "metadata": {},
   "source": [
    "### Finished with creating metatadata"
   ]
  },
  {
   "cell_type": "code",
   "execution_count": 10,
   "metadata": {},
   "outputs": [],
   "source": [
    "# header_times = pd.concat([header_2019.Time_s, header_2020.Time_s, header_2021.Time_s, header_2022.Time_s, header_2023.Time_s, header_2024.Time_s])\n",
    "# plot_epoch_time(df1=header_times, df2=pd.DataFrame(),title=None, lbl1=None, lbl2=None)"
   ]
  },
  {
   "attachments": {
    "image.png": {
     "image/png": "[encoded data removed]"
    }
   },
   "cell_type": "markdown",
   "metadata": {},
   "source": [
    "![image.png](attachment:image.png)"
   ]
  },
  {
   "cell_type": "code",
   "execution_count": 13,
   "metadata": {},
   "outputs": [
    {
     "name": "stderr",
     "output_type": "stream",
     "text": [
      "No artists with labels found to put in legend.  Note that artists whose label start with an underscore are ignored when legend() is called with no argument.\n"
     ]
    },
    {
     "data": {
      "image/png": "[encoded data removed]",
      "text/plain": [
       "<Figure size 600x300 with 1 Axes>"
      ]
     },
     "metadata": {},
     "output_type": "display_data"
    }
   ],
   "source": [
    "plot_epoch_time(df1=df_unp_2023.Time_s, df2=pd.DataFrame(),title=None, lbl1=None, lbl2=None)"
   ]
  }
 ],
 "metadata": {
  "kernelspec": {
   "display_name": "img_processing",
   "language": "python",
   "name": "python3"
  },
  "language_info": {
   "codemirror_mode": {
    "name": "ipython",
    "version": 3
   },
   "file_extension": ".py",
   "mimetype": "text/x-python",
   "name": "python",
   "nbconvert_exporter": "python",
   "pygments_lexer": "ipython3",
   "version": "3.11.4"
  },
  "orig_nbformat": 4
 },
 "nbformat": 4,
 "nbformat_minor": 2
}
