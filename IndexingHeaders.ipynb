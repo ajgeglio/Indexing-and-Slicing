{
 "cells": [
  {
   "cell_type": "code",
   "execution_count": 1,
   "metadata": {},
   "outputs": [],
   "source": [
    "import pandas as pd\n",
    "import os\n",
    "import numpy as np\n",
    "import datetime\n",
    "import pickle"
   ]
  },
  {
   "cell_type": "code",
   "execution_count": 2,
   "metadata": {},
   "outputs": [],
   "source": [
    "def list_files(filepath, filetype):\n",
    "   paths = []\n",
    "   for root, dirs, files in os.walk(filepath):\n",
    "      for file in files:\n",
    "         if file.lower().endswith(filetype.lower()):\n",
    "            paths.append(os.path.join(root, file))\n",
    "   return(paths)\n",
    "\n",
    "## Check these paths\n",
    "# headers_2019 = list_files(r\"Z:\\__Organized_Directories_InProgress\\2019_UnpackedCollects\",'raw_image_headers.csv')\n",
    "# headers_2020 = list_files(r\"Z:\\Headers2020\",'raw_image_headers.csv')\n",
    "# headers_2021 = list_files(r\"Z:\\Headers2021\",'raw_image_headers.csv')\n",
    "# headers_2022 = list_files(r\"Z:\\Headers2022\",'raw_image_headers.csv')\n",
    "# headers_2023 = list_files(r\"Z:\\__Organized_Directories_InProgress\\2023_UnpackedCollects\",'raw_image_headers.csv')\n",
    "# headers = headers_2019 + headers_2020 + headers_2021 + headers_2022 + headers_2023\n",
    "# with open(\"headers.txt\", \"wb\") as fp:   #Pickling\n",
    "#     pickle.dump(headers, fp)\n",
    "# print(len(headers))"
   ]
  },
  {
   "cell_type": "code",
   "execution_count": 3,
   "metadata": {},
   "outputs": [
    {
     "data": {
      "text/plain": [
       "693"
      ]
     },
     "execution_count": 3,
     "metadata": {},
     "output_type": "execute_result"
    }
   ],
   "source": [
    "## Headers list\n",
    "\n",
    "with open(\"headers.txt\", \"rb\") as fp:   # Unpickling\n",
    "    headers = pickle.load(fp)\n",
    "len(headers)"
   ]
  },
  {
   "cell_type": "code",
   "execution_count": 69,
   "metadata": {},
   "outputs": [
    {
     "name": "stdout",
     "output_type": "stream",
     "text": [
      "1981816\n"
     ]
    }
   ],
   "source": [
    "## creating a list of unpacked image names and paths\n",
    "\n",
    "# images_2019 = list_files(r\"Z:\\__Organized_Directories_InProgress\\2019_UnpackedCollects\",'.png') + list_files(r\"Z:\\__Organized_Directories_InProgress\\2019_UnpackedCollects\",'.png')\n",
    "# images_2020 = list_files(r\"Z:\\__Organized_Directories_InProgress\\2020_UnpackedCollects\",'.png')\n",
    "# images_2021 = list_files(r\"Z:\\__Organized_Directories_InProgress\\2021_UnpackedCollects\",'.png')\n",
    "# images_2022 = list_files(r\"Z:\\__Organized_Directories_InProgress\\2022_UnpackedCollects\",'.png')\n",
    "# images_2023 = list_files(r\"Z:\\__Organized_Directories_InProgress\\2023_UnpackedCollects\",'.png')\n",
    "# image_list = images_2019 + images_2020 + images_2021 + images_2022+ images_2023\n",
    "# print(len(image_list)) # 1981816\n",
    "# with open(\"image_list.txt\", \"wb\") as fp:   #Pickling\n",
    "#     pickle.dump(image_list, fp)\n"
   ]
  },
  {
   "cell_type": "code",
   "execution_count": 70,
   "metadata": {},
   "outputs": [
    {
     "data": {
      "text/plain": [
       "1981816"
      ]
     },
     "execution_count": 70,
     "metadata": {},
     "output_type": "execute_result"
    }
   ],
   "source": [
    "## Images List\n",
    "\n",
    "with open(\"image_list.txt\", \"rb\") as fp:   # Unpickling\n",
    "    image_list = pickle.load(fp)\n",
    "len(image_list) # 1981816"
   ]
  },
  {
   "cell_type": "code",
   "execution_count": 82,
   "metadata": {},
   "outputs": [
    {
     "name": "stdout",
     "output_type": "stream",
     "text": [
      "(1948911, 2)\n"
     ]
    },
    {
     "data": {
      "text/html": [
       "<div>\n",
       "<style scoped>\n",
       "    .dataframe tbody tr th:only-of-type {\n",
       "        vertical-align: middle;\n",
       "    }\n",
       "\n",
       "    .dataframe tbody tr th {\n",
       "        vertical-align: top;\n",
       "    }\n",
       "\n",
       "    .dataframe thead th {\n",
       "        text-align: right;\n",
       "    }\n",
       "</style>\n",
       "<table border=\"1\" class=\"dataframe\">\n",
       "  <thead>\n",
       "    <tr style=\"text-align: right;\">\n",
       "      <th></th>\n",
       "      <th>image_path</th>\n",
       "      <th>image_name</th>\n",
       "    </tr>\n",
       "  </thead>\n",
       "  <tbody>\n",
       "    <tr>\n",
       "      <th>0</th>\n",
       "      <td>Z:\\__Organized_Directories_InProgress\\2019_Unp...</td>\n",
       "      <td>charts.png</td>\n",
       "    </tr>\n",
       "    <tr>\n",
       "      <th>1</th>\n",
       "      <td>Z:\\__Organized_Directories_InProgress\\2019_Unp...</td>\n",
       "      <td>prescreen_charts.png</td>\n",
       "    </tr>\n",
       "    <tr>\n",
       "      <th>2</th>\n",
       "      <td>Z:\\__Organized_Directories_InProgress\\2019_Unp...</td>\n",
       "      <td>image_raw_00001536.png</td>\n",
       "    </tr>\n",
       "    <tr>\n",
       "      <th>3</th>\n",
       "      <td>Z:\\__Organized_Directories_InProgress\\2019_Unp...</td>\n",
       "      <td>image_raw_00003144.png</td>\n",
       "    </tr>\n",
       "    <tr>\n",
       "      <th>4</th>\n",
       "      <td>Z:\\__Organized_Directories_InProgress\\2019_Unp...</td>\n",
       "      <td>image_raw_00004751.png</td>\n",
       "    </tr>\n",
       "  </tbody>\n",
       "</table>\n",
       "</div>"
      ],
      "text/plain": [
       "                                          image_path              image_name\n",
       "0  Z:\\__Organized_Directories_InProgress\\2019_Unp...              charts.png\n",
       "1  Z:\\__Organized_Directories_InProgress\\2019_Unp...    prescreen_charts.png\n",
       "2  Z:\\__Organized_Directories_InProgress\\2019_Unp...  image_raw_00001536.png\n",
       "3  Z:\\__Organized_Directories_InProgress\\2019_Unp...  image_raw_00003144.png\n",
       "4  Z:\\__Organized_Directories_InProgress\\2019_Unp...  image_raw_00004751.png"
      ]
     },
     "execution_count": 82,
     "metadata": {},
     "output_type": "execute_result"
    }
   ],
   "source": [
    "## Dataframe of all unpacked images and their paths\n",
    "# df_imgs = pd.DataFrame(image_list, columns=[\"image_path\"])\n",
    "# im = lambda x: os.path.basename(x)\n",
    "# df_imgs[\"image_name\"] = df_imgs.image_path.map(im)\n",
    "# df_imgs[\"image_name\"] = df_imgs.image_path.map(im)\n",
    "# df_imgs = df_imgs.drop_duplicates(subset=\"image_name\")\n",
    "# df_imgs.to_pickle(\"2019-2023/2019-2023_imgs.pickle\")\n",
    "\n",
    "df_imgs = pd.read_pickle(\"2019-2023/2019-2023_imgs.pickle\")\n",
    "print(df_imgs.shape) # (1948911, 2)\n",
    "df_imgs.head()"
   ]
  },
  {
   "cell_type": "code",
   "execution_count": 83,
   "metadata": {},
   "outputs": [
    {
     "data": {
      "text/html": [
       "<div>\n",
       "<style scoped>\n",
       "    .dataframe tbody tr th:only-of-type {\n",
       "        vertical-align: middle;\n",
       "    }\n",
       "\n",
       "    .dataframe tbody tr th {\n",
       "        vertical-align: top;\n",
       "    }\n",
       "\n",
       "    .dataframe thead th {\n",
       "        text-align: right;\n",
       "    }\n",
       "</style>\n",
       "<table border=\"1\" class=\"dataframe\">\n",
       "  <thead>\n",
       "    <tr style=\"text-align: right;\">\n",
       "      <th></th>\n",
       "      <th>image_path</th>\n",
       "      <th>image_name</th>\n",
       "    </tr>\n",
       "  </thead>\n",
       "  <tbody>\n",
       "  </tbody>\n",
       "</table>\n",
       "</div>"
      ],
      "text/plain": [
       "Empty DataFrame\n",
       "Columns: [image_path, image_name]\n",
       "Index: []"
      ]
     },
     "execution_count": 83,
     "metadata": {},
     "output_type": "execute_result"
    }
   ],
   "source": [
    "df_imgs[df_imgs['image_path'].str.contains('.jpg')]"
   ]
  },
  {
   "cell_type": "code",
   "execution_count": 8,
   "metadata": {},
   "outputs": [],
   "source": [
    "def print_col_len(headers_paths):\n",
    "    col_lens = []\n",
    "    for path in headers_paths:\n",
    "        length = len(pd.read_csv(path, header=0).columns)\n",
    "        col_lens.append(length)\n",
    "    return np.unique(np.array(col_lens), return_counts=True)\n",
    "# print_col_len(headers)"
   ]
  },
  {
   "cell_type": "code",
   "execution_count": 88,
   "metadata": {},
   "outputs": [],
   "source": [
    "columns_ = [\"image_name\", \"Heading_D\", \"Pitch_D\", \"Roll_D\", \"Temp_C\", \"AUV_depth_m\", \"Alt_m\", \"Salinity_ppt\", \"Speed_kn\", \"Lat_DD\", \"Long_DD\", \"CreationTime\", \"EpochTime\"]\n",
    "# Created this dictionary to force similar column names into the same name, ie 'Latitude (decimal degrees)' --> 'Lat_DD'\n",
    "header_dict = {'image_name': 'image_name', 'Unnamed: 0':'image_name','image_filename':'image_name',\n",
    "                'Heading_D':'Heading_D' ,'Heading (degrees)':'Heading_D','INS Heading':'Heading_D',\n",
    "                'Pitch_D':'Pitch_D','Pitch (degrees)':'Pitch_D', 'Pitch Angle':'Pitch_D',\n",
    "                'Roll_D': 'Roll_D', 'Roll (degrees)': 'Roll_D','Roll Angle':'Roll_D',\n",
    "                'Temp_C': 'Temp_C', 'Temperature (C)': 'Temp_C','Temperature (c)':'Temp_C',\n",
    "                'AUV_depth_m':'AUV_depth_m', 'Depth (m)':'AUV_depth_m','DFS Depth(m)':'AUV_depth_m',\n",
    "                'Alt_m' : 'Alt_m', 'Altitude (m)':'Alt_m','DTB Height(m)':'Alt_m',\n",
    "                'Salinity_ppt': 'Salinity_ppt', 'Salinity (ppt)':'Salinity_ppt','Salinity (ppt)':'Salinity_ppt',\n",
    "                'CreationTime':'CreationTime', 'Creation Time':'CreationTime',\n",
    "                'EpochTime':'EpochTime',\n",
    "                'Speed_kn':'Speed_kn', 'Speed (knots)':'Speed_kn','INS X Speed (m/s)':'Speed_mps',\n",
    "                'Lat_DD': 'Lat_DD', 'Latitude':'Lat_DD', 'Latitude (decimal degrees)':'Lat_DD',       \n",
    "                'Long_DD': 'Long_DD', 'Longitude':'Long_DD','Longitude (decimal degrees)':'Long_DD'\n",
    "                }\n",
    "\n",
    "# 'Latitude (decimal degrees)': 'Lat_DD'\n",
    "# 'Longitude (decimal degrees)': 'Long_DD',\n"
   ]
  },
  {
   "cell_type": "code",
   "execution_count": 89,
   "metadata": {},
   "outputs": [
    {
     "data": {
      "text/plain": [
       "(4016468, 87)"
      ]
     },
     "execution_count": 89,
     "metadata": {},
     "output_type": "execute_result"
    }
   ],
   "source": [
    "def combine_headers(headers_paths):\n",
    "    dfs = []\n",
    "    for path in headers_paths:\n",
    "        try: \n",
    "            df = pd.read_csv(path, header=0)\n",
    "            df.rename(columns=header_dict, inplace=True)\n",
    "            dfs.append(df)\n",
    "        except: pass\n",
    "\n",
    "    df = pd.concat(dfs, axis=0, ignore_index=True)\n",
    "    df = df.drop_duplicates()\n",
    "    df = df.dropna(axis=1, how='all')\n",
    "    df = df.dropna(subset=\"EpochTime\")\n",
    "    df = df.sort_values(by=\"Usability\")\n",
    "    df = df.drop_duplicates(subset=\"image_name\")\n",
    "    im = lambda x: os.path.basename(x)\n",
    "    df[\"image_name\"] = df.image_name.map(im)\n",
    "    df = df.sort_values(by=\"EpochTime\")\n",
    "    dt = lambda x : datetime.datetime.fromtimestamp(x)\n",
    "    df['Datetime'] = df['EpochTime'].map(dt)\n",
    "\n",
    "    return df\n",
    "\n",
    "# original shape with 2023 after dict update (4016468, 89)\n",
    "# df = combine_headers(headers)\n",
    "# df.to_pickle(\"2019-2023/2019-2023_headers_combined2.pickle\")\n",
    "# df.shape"
   ]
  },
  {
   "cell_type": "code",
   "execution_count": 91,
   "metadata": {},
   "outputs": [
    {
     "data": {
      "text/plain": [
       "(2418247, 87)"
      ]
     },
     "execution_count": 91,
     "metadata": {},
     "output_type": "execute_result"
    }
   ],
   "source": [
    "\n",
    "## filtering the dataframe for altitude and depth\n",
    "# df = df[(df.Alt_m<4) & (df.AUV_depth_m > 1)]\n",
    "# df.to_pickle(\"2019-2023/2019-2023_headers_combined_filtered.pickle\")\n",
    "# print(df.shape) # (2416264, 86) (2417064, 86) (2418247, 89)\n",
    "\n",
    "df = pd.read_pickle(\"2019-2023/2019-2023_headers_combined_filtered.pickle\")\n",
    "df.shape"
   ]
  },
  {
   "cell_type": "code",
   "execution_count": 92,
   "metadata": {},
   "outputs": [
    {
     "data": {
      "text/plain": [
       "array([[<Axes: title={'center': 'Datetime'}>]], dtype=object)"
      ]
     },
     "execution_count": 92,
     "metadata": {},
     "output_type": "execute_result"
    },
    {
     "data": {
      "image/png": "[encoded data removed]",
      "text/plain": [
       "<Figure size 640x480 with 1 Axes>"
      ]
     },
     "metadata": {},
     "output_type": "display_data"
    }
   ],
   "source": [
    "df.hist(column='Datetime', bins=100, xrot=90)"
   ]
  },
  {
   "cell_type": "code",
   "execution_count": 186,
   "metadata": {},
   "outputs": [
    {
     "name": "stdout",
     "output_type": "stream",
     "text": [
      "Index(['image_name', 'Heading_D', 'Pitch_D', 'Roll_D', 'Temp_C', 'AUV_depth_m',\n",
      "       'Alt_m', 'Salinity_ppt', 'Speed_kn', 'Lat_DD', 'Long_DD',\n",
      "       'CreationTime', 'EpochTime', 'F Stop', 'Shutter Speed', 'Depth (ft)',\n",
      "       'Altitude (ft)', 'Epoch Time (s)', 'Upper 5 Intensity',\n",
      "       'Upper 6 Intensity', 'Upper 7 Intensity', 'Upper 8 Intensity',\n",
      "       'Upper 9 Intensity', 'Upper 10 Intensity', 'Upper 11 Intensity',\n",
      "       'Upper 12 Intensity', 'Upper 13 Intensity', 'Upper 14 Intensity',\n",
      "       'Upper 15 Intensity', 'Lower 4 Intensity', 'Lower 5 Intensity',\n",
      "       'Lower 6 Intensity', 'Upper 5 Blue-Green Intensity',\n",
      "       'Upper 6 Blue-Green Intensity', 'Upper 7 Blue-Green Intensity',\n",
      "       'Upper 8 Blue-Green Intensity', 'Upper 9 Blue-Green Intensity',\n",
      "       'Upper 10 Blue-Green Intensity', 'Upper 11 Blue-Green Intensity',\n",
      "       'Upper 12 Blue-Green Intensity', 'Upper 13 Blue-Green Intensity',\n",
      "       'Upper 14 Blue-Green Intensity', 'Upper 15 Blue-Green Intensity',\n",
      "       'Laplace Max', 'Laplace Variance', 'Laplace Focal Measure', 'Sobel Max',\n",
      "       'Sobel Variance', 'Roberts Max', 'Roberts Variance', 'FFT Mean',\n",
      "       'Intensity Variance', 'Edgeness', 'Contrast', 'Dissimilarity',\n",
      "       'Homogeneity', 'ASM', 'Energy', 'Correlation', 'LBP 1', 'LBP 2',\n",
      "       'LBP 3', 'LBP 4', 'LBP 5', 'LBP 6', 'LBP 7', 'LBP 8', 'LBP 9', 'LBP 10',\n",
      "       'LBP 11', 'LBP 12', 'LBP 13', 'LBP 14', 'LBP 15', 'LBP 16', 'FFT Norm',\n",
      "       '0-5 FFT Annulus', '5-10 FFT Annulus', '10-20 FFT Annulus',\n",
      "       'Metadata Thresholds', 'Overexposure Threshold',\n",
      "       'Blue-Green Overexposure Threshold', 'Usability Random Forest',\n",
      "       'Usability', 'INS - Altitude', 'Speed_mps', 'Datetime', 'image_path'],\n",
      "      dtype='object')\n",
      "(599180, 88)\n"
     ]
    }
   ],
   "source": [
    "# merging and keeping only image names that are unpacked\n",
    "# df_unp = df[df.image_name.isin(df_imgs.image_name)]\n",
    "# df_unp = pd.merge(df, df_imgs, on=\"image_name\")\n",
    "# df_unp.to_pickle(\"2019-2023\\\\2019-2023_unpacked_imgs_headers.pickle\")\n",
    "# print(df_unp.shape) # (597986, 87) (598786, 87) (599180, 90)\n",
    "\n",
    "df_unp = pd.read_pickle(\"2019-2023\\\\2019-2023_unpacked_imgs_headers.pickle\")\n",
    "print(df_unp.columns)\n",
    "print(df_unp.shape) # (599180, 90)"
   ]
  },
  {
   "cell_type": "code",
   "execution_count": 183,
   "metadata": {},
   "outputs": [
    {
     "data": {
      "text/plain": [
       "array([[<Axes: title={'center': 'Datetime'}>]], dtype=object)"
      ]
     },
     "execution_count": 183,
     "metadata": {},
     "output_type": "execute_result"
    },
    {
     "data": {
      "image/png": "[encoded data removed]",
      "text/plain": [
       "<Figure size 640x480 with 1 Axes>"
      ]
     },
     "metadata": {},
     "output_type": "display_data"
    }
   ],
   "source": [
    "df_unp.hist(column='Datetime', bins=50, xrot=90)"
   ]
  },
  {
   "cell_type": "code",
   "execution_count": 187,
   "metadata": {},
   "outputs": [
    {
     "name": "stdout",
     "output_type": "stream",
     "text": [
      "Index(['image_name', 'Heading_D', 'Pitch_D', 'Roll_D', 'Temp_C', 'AUV_depth_m',\n",
      "       'Alt_m', 'Salinity_ppt', 'Speed_kn', 'Lat_DD', 'Long_DD', 'EpochTime',\n",
      "       'INS - Altitude', 'Speed_mps', 'Datetime', 'image_path'],\n",
      "      dtype='object')\n",
      "(599180, 16)\n"
     ]
    }
   ],
   "source": [
    "## Removing unused columns\n",
    "\n",
    "df_unp = df_unp[['image_name', 'Heading_D', 'Pitch_D', 'Roll_D', 'Temp_C', 'AUV_depth_m',\n",
    "       'Alt_m', 'Salinity_ppt', 'Speed_kn', 'Lat_DD', 'Long_DD','EpochTime', 'INS - Altitude', \n",
    "       'Speed_mps','Datetime', 'image_path']]\n",
    "df_unp = df_unp.sort_values(by=\"Datetime\")\n",
    "\n",
    "## Cleaning lat lon columns\n",
    "idx_bad_lat = df_unp[(df_unp['Lat_DD'] < 41) | (df_unp['Lat_DD'] > 50)].index\n",
    "idx_bad_lon = df_unp[(df_unp['Long_DD'] < -92.5) | (df_unp['Long_DD'] > -75.5)].index\n",
    "df_unp.loc[idx_bad_lat, 'Lat_DD'] = np.nan\n",
    "df_unp.loc[idx_bad_lon, 'Long_DD'] = np.nan\n",
    "\n",
    "print(df_unp.columns)\n",
    "print(df_unp.shape) # (598786, 18) (599180, 18)\n"
   ]
  },
  {
   "cell_type": "code",
   "execution_count": 196,
   "metadata": {},
   "outputs": [
    {
     "data": {
      "text/plain": [
       "3714"
      ]
     },
     "execution_count": 196,
     "metadata": {},
     "output_type": "execute_result"
    }
   ],
   "source": [
    "# df_unp[df_unp.Long_DD.isna()].to_csv('bat_latlon.csv')\n",
    "df_unp.Long_DD.describe()\n",
    "df_unp.Lat_DD.describe()\n",
    "df_unp.Long_DD.isna().sum()\n",
    "df_unp.Lat_DD.isna().sum()"
   ]
  },
  {
   "cell_type": "code",
   "execution_count": 203,
   "metadata": {},
   "outputs": [
    {
     "name": "stdout",
     "output_type": "stream",
     "text": [
      "(599180, 19)\n"
     ]
    }
   ],
   "source": [
    "## Here I add collect ID, AUV ID, and camera system columns\n",
    "\n",
    "df_unp['collect_id'] = df_unp[\"image_path\"].str.extract(r'([0-9]{8}_[0-9]{3}_[a-z,A-Z]+[0-9][0-9][0-9][0-9]_[a-z,A-Z]+[0-2])')\n",
    "df_unp['AUV'] = df_unp[\"image_path\"].str.extract(       r'[0-9]{8}_[0-9]{3}_([a-z,A-Z]+[0-9][0-9][0-9][0-9])_[a-z,A-Z]+[0-2]')\n",
    "df_unp['cam_sys'] = df_unp[\"image_path\"].str.extract(    r'[0-9]{8}_[0-9]{3}_[a-z,A-Z]+[0-9][0-9][0-9][0-9]_([a-z,A-Z]+[0-2])')\n",
    "index_2019_2021 = df_unp[(df_unp.Datetime > \"01-01-2019\") & (df_unp.Datetime < \"12-25-2021\")].index\n",
    "df_unp.loc[index_2019_2021,'AUV'] = \"Iver3069\"\n",
    "df_unp.loc[index_2019_2021,'cam_sys'] = \"ABS1\"\n",
    "print(df_unp.shape) # (599180, 19)\n",
    "\n",
    "df_unp.to_csv(\"all_unpacked_images.csv\")"
   ]
  },
  {
   "cell_type": "code",
   "execution_count": 50,
   "metadata": {},
   "outputs": [],
   "source": [
    "## Experimental: Combining with all collects dataframe if we want collect paths\n",
    "\n",
    "# df_collects = pd.read_csv('collects_lat_lon.csv')[['collect_path', 'collect_id', 'date', 'collect', 'Iver_num',\t'cam_sys']]\n",
    "# dtf = lambda d: datetime.datetime.strptime(d, \"%Y%m%d\")\n",
    "# df_collects['date'] = df_collects['date'].astype('str')\n",
    "# df_collects['date'] = df_collects['date'].map(dtf)\n",
    "# df_collects = df_collects.sort_values(by=\"date\")\n",
    "# df_all = pd.merge_asof(df_unp,df_collects, left_on=\"Datetime\", right_on=\"date\")\n",
    "# print(df_all.shape) # (598786, 24) (599180, 24)\n",
    "# # df_all.head()\n",
    "# df_all[(df_all.Datetime > \"01-01-2019\") & (df_all.Datetime < \"12-25-2019\")].to_csv(\"test2019.csv\")"
   ]
  },
  {
   "cell_type": "code",
   "execution_count": 204,
   "metadata": {},
   "outputs": [
    {
     "name": "stderr",
     "output_type": "stream",
     "text": [
      "C:\\Users\\ageglio\\AppData\\Local\\Temp\\3\\ipykernel_20124\\2861365695.py:1: DtypeWarning: Columns (17) have mixed types. Specify dtype option on import or set low_memory=False.\n",
      "  df_unp = pd.read_csv('all_unpacked_images.csv')\n"
     ]
    }
   ],
   "source": [
    "df_unp = pd.read_csv('all_unpacked_images.csv')\n",
    "## Getting indexes of Camera system, lens, etc\n",
    "is2019 = (df_unp['Datetime'] > \"2018-12-31\") & (df_unp['Datetime'] <= \"2019-12-31\")\n",
    "is2020 = (df_unp['Datetime'] > \"2019-12-31\") & (df_unp['Datetime'] <= \"2020-12-31\")\n",
    "is2021 = (df_unp['Datetime'] > \"2020-12-31\") & (df_unp['Datetime'] <= \"2021-12-31\")\n",
    "is2022 = (df_unp['Datetime'] > \"2021-12-31\") & (df_unp['Datetime'] <= \"2022-12-31\")\n",
    "is2023 = (df_unp['Datetime'] > \"2022-12-31\") & (df_unp['Datetime'] <= \"2023-12-31\")\n",
    "\n",
    "## for Iver3069\n",
    "is2021_after0512 = (df_unp['Datetime'] > \"2021-05-12\") & (df_unp['Datetime'] <= \"2021-12-31\")\n",
    "is2022_prior0716 = (df_unp['Datetime'] > \"2021-12-31\") & (df_unp['Datetime'] <= \"2022-07-15\")\n",
    "is2022_0720t0809 = (df_unp['Datetime'] > \"2022-07-19\") & (df_unp['Datetime'] <= \"2022-08-09\")\n",
    "is2022_0810t0814 = (df_unp['Datetime'] > \"2022-08-09\") & (df_unp['Datetime'] <= \"2022-08-14\")\n",
    "is2022_0815t0818 = (df_unp['Datetime'] > \"2022-08-14\") & (df_unp['Datetime'] <= \"2022-08-18\")\n",
    "is2022_0819t0822 = (df_unp['Datetime'] > \"2022-08-18\") & (df_unp['Datetime'] <= \"2022-08-22\")\n",
    "is2022_after0822 = (df_unp['Datetime'] > \"2022-08-22\") & (df_unp['Datetime'] <= \"2022-08-18\")\n",
    "\n",
    "is2023_after0809 = (df_unp['Datetime'] > \"2023-08-08\") & (df_unp['Datetime'] <= \"2022-12-31\")\n",
    "\n",
    "## for Iver3098\n",
    "is2022_0705t0810 = (df_unp['Datetime'] > \"2022-07-05\") & (df_unp['Datetime'] <= \"2022-08-10\")\n",
    "is2022_0811t0819 = (df_unp['Datetime'] > \"2022-08-10\") & (df_unp['Datetime'] <= \"2022-08-19\")\n",
    "is2022_after0819 = (df_unp['Datetime'] > \"2022-08-19\") & (df_unp['Datetime'] <= \"2022-12-31\")\n",
    "\n",
    "is2023_0427t0522 = (df_unp['Datetime'] > \"2023-04-27\") & (df_unp['Datetime'] <= \"2023-05-22\")\n",
    "is2023_0523t0711 = (df_unp['Datetime'] > \"2023-05-22\") & (df_unp['Datetime'] <= \"2023-07-11\")\n",
    "is2023_0712t0808 = (df_unp['Datetime'] > \"2023-07-11\") & (df_unp['Datetime'] <= \"2023-08-08\")\n",
    "is2023_after0808 = (df_unp['Datetime'] > \"2023-08-08\") & (df_unp['Datetime'] <= \"2023-12-31\")\n",
    "\n",
    "is3069 = (df_unp['AUV']==\"Iver3069\")\n",
    "is3098 = (df_unp['AUV']==\"Iver3098\")\n",
    "isABS1 = (df_unp['cam_sys']==\"ABS1\")\n",
    "isABS2 = (df_unp['cam_sys']==\"ABS2\")\n",
    "\n",
    "group_01  = df_unp[is2019 & isABS1 & is3069].index\n",
    "group_02 =  df_unp[is2020 & isABS1 & is3069].index\n",
    "group_03 =  df_unp[is2021_after0512 & isABS1 & is3069].index\n",
    "group_04 =  df_unp[is2022_prior0716 & isABS1 & is3069].index\n",
    "group_05 =  df_unp[is2022_0705t0810 & isABS2 & is3098].index\n",
    "group_06 =  df_unp[is2022_0720t0809 & isABS2 & is3069].index\n",
    "group_07 =  df_unp[is2022_0810t0814 & is2022_0819t0822 & isABS2 & is3069].index\n",
    "group_08 =  df_unp[is2022_0811t0819 & isABS2 & is3098].index\n",
    "group_09 =  df_unp[is2022_0815t0818 & isABS2 & is3069].index\n",
    "group_10 =  df_unp[is2022_after0819 & isABS2 & is3098].index\n",
    "group_11 =  df_unp[is2022_after0822 & isABS2 & is3069].index\n",
    "group_12 =  df_unp[is2023_0427t0522 & isABS2 & is3098].index\n",
    "group_13 =  df_unp[is2023_0523t0711 & isABS2 & is3098].index\n",
    "group_14 =  df_unp[is2023_0712t0808 & isABS2 & is3098].index\n",
    "group_15 =  df_unp[is2023_after0808 & isABS2 & is3069].index\n",
    "\n"
   ]
  },
  {
   "cell_type": "code",
   "execution_count": 202,
   "metadata": {},
   "outputs": [
    {
     "name": "stdout",
     "output_type": "stream",
     "text": [
      "3363\n",
      "193971\n",
      "174036\n",
      "74222\n",
      "27144\n",
      "10446\n",
      "0\n",
      "9417\n",
      "769\n",
      "17852\n",
      "0\n",
      "1785\n",
      "19168\n",
      "21031\n",
      "0\n"
     ]
    }
   ],
   "source": [
    "groups = [group_01, group_02, group_03, group_04, group_05, \n",
    "          group_06, group_07, group_08, group_09, group_10, \n",
    "          group_11, group_12, group_13, group_14, group_15]\n",
    "for group in groups:\n",
    "    print(len(group))"
   ]
  },
  {
   "cell_type": "code",
   "execution_count": 205,
   "metadata": {},
   "outputs": [
    {
     "name": "stdout",
     "output_type": "stream",
     "text": [
      "3363\n",
      "193971\n",
      "174036\n",
      "74222\n",
      "27144\n",
      "10446\n",
      "0\n",
      "9417\n",
      "769\n",
      "17852\n",
      "0\n",
      "1785\n",
      "19168\n",
      "21031\n",
      "0\n"
     ]
    }
   ],
   "source": [
    "groups = [group_01, group_02, group_03, group_04, group_05, \n",
    "          group_06, group_07, group_08, group_09, group_10, \n",
    "          group_11, group_12, group_13, group_14, group_15]\n",
    "for group in groups:\n",
    "    print(len(group))"
   ]
  }
 ],
 "metadata": {
  "kernelspec": {
   "display_name": "bubbler-lite",
   "language": "python",
   "name": "python3"
  },
  "language_info": {
   "codemirror_mode": {
    "name": "ipython",
    "version": 3
   },
   "file_extension": ".py",
   "mimetype": "text/x-python",
   "name": "python",
   "nbconvert_exporter": "python",
   "pygments_lexer": "ipython3",
   "version": "3.9.16"
  },
  "orig_nbformat": 4
 },
 "nbformat": 4,
 "nbformat_minor": 2
}
