{
 "cells": [
  {
   "cell_type": "code",
   "execution_count": 22,
   "metadata": {},
   "outputs": [],
   "source": [
    "import pandas as pd\n",
    "import os\n",
    "import numpy as np\n",
    "import datetime\n",
    "import pickle\n",
    "import shutil\n",
    "import glob\n",
    "import re\n",
    "from mapping_reef_classes import get_coordinates\n",
    "def list_files_w_pattern(filepath, filetype):\n",
    "   paths = []\n",
    "   pat1 = r\"[o,O]ld\"\n",
    "   pat2 = r\"[o,O]ld\"\n",
    "   for root, dirs, files in os.walk(filepath):\n",
    "      if re.search(pat1, root):\n",
    "         pass\n",
    "      else:\n",
    "         for file in files:\n",
    "            if file.lower().endswith(filetype.lower()):\n",
    "               paths.append(os.path.join(root, file))\n",
    "   return(paths)\n",
    "\n",
    "def list_collects(filepath):\n",
    "   paths = []\n",
    "   for root, dirs, files in os.walk(filepath):\n",
    "      for dir in dirs:\n",
    "        paths.append(os.path.join(root, dir))\n",
    "   collects = [re.findall('.*\\d+_\\d+_\\w+_\\w{4}\\Z', i) for i in paths]\n",
    "   collects = list(set([item for sublist in collects for item in sublist]))\n",
    "   collects.sort()\n",
    "   return(collects)\n",
    "\n",
    "def list_files(filepath, filetype):\n",
    "   paths = []\n",
    "   for root, dirs, files in os.walk(filepath):\n",
    "      for file in files:\n",
    "         if file.lower().endswith(filetype.lower()):\n",
    "            paths.append(os.path.join(root, file))\n",
    "   return(paths)"
   ]
  },
  {
   "cell_type": "code",
   "execution_count": 23,
   "metadata": {},
   "outputs": [
    {
     "name": "stdout",
     "output_type": "stream",
     "text": [
      "20231026-143151\n"
     ]
    }
   ],
   "source": [
    "t = datetime.datetime.now()\n",
    "timestring = f\"{t.year:02d}{t.month:02d}{t.day:02d}-{t.hour:02d}{t.minute:02d}{t.second:02d}\"\n",
    "print(timestring)\n",
    "yyymmmdd = timestring.split(\"-\")[0]\n",
    "out_folder = f\"2019-2023-{yyymmmdd}\"\n",
    "if not os.path.exists(out_folder):\n",
    "    os.mkdir(out_folder)"
   ]
  },
  {
   "cell_type": "markdown",
   "metadata": {},
   "source": [
    "## Headers Lists"
   ]
  },
  {
   "cell_type": "code",
   "execution_count": 24,
   "metadata": {},
   "outputs": [],
   "source": [
    "# Create Headers lists\n",
    "# headers_2019 = list_files_w_pattern(r\"Z:\\__Organized_Directories_InProgress\\2019_UnpackedCollects\",'raw_image_headers.csv')\n",
    "# with open(os.path.join(out_folder,\"headers_2019.txt\"), \"wb\") as fp:   #Pickling\n",
    "#     pickle.dump(headers_2019, fp)\n",
    "# headers_2020 = list_files_w_pattern(r\"Z:\\Headers2020\",'raw_image_headers.csv')\n",
    "# with open(os.path.join(out_folder,\"headers_2020.txt\"), \"wb\") as fp:   #Pickling\n",
    "#     pickle.dump(headers_2020, fp)\n",
    "# headers_2021 = list_files_w_pattern(r\"Z:\\Headers2021\",'raw_image_headers.csv')\n",
    "# with open(os.path.join(out_folder,\"headers_2021.txt\"), \"wb\") as fp:   #Pickling\n",
    "#     pickle.dump(headers_2021, fp)\n",
    "# headers_2022 = list_files_w_pattern(r\"Z:\\Headers2022\",'raw_image_headers.csv')\n",
    "# with open(os.path.join(out_folder,\"headers_2022.txt\"), \"wb\") as fp:   #Pickling\n",
    "#     pickle.dump(headers_2022, fp)\n",
    "# headers_2023 = list_files_w_pattern(r\"Z:\\Headers2023\",'raw_image_headers.csv')\n",
    "# with open(os.path.join(out_folder,\"headers_2023.txt\"), \"wb\") as fp:   #Pickling\n",
    "#     pickle.dump(headers_2023, fp)\n",
    "# miss_log_headers = list_files_w_pattern(r\"Z:\\HeadersCombined\\mission_log_headers\", 'raw_image_headers.csv')\n",
    "# with open(os.path.join(out_folder,\"headers_miss_log.txt\"), \"wb\") as fp:   #Pickling\n",
    "#     pickle.dump(miss_log_headers, fp)"
   ]
  },
  {
   "cell_type": "code",
   "execution_count": 25,
   "metadata": {},
   "outputs": [
    {
     "name": "stdout",
     "output_type": "stream",
     "text": [
      "827\n"
     ]
    }
   ],
   "source": [
    "## Load Headers Lists\n",
    "with open(os.path.join(out_folder,\"headers_2019.txt\"), \"rb\") as fp:   #unpickling\n",
    "    headers_2019 = pickle.load(fp)\n",
    "with open(os.path.join(out_folder,\"headers_2020.txt\"), \"rb\") as fp:   \n",
    "    headers_2020 = pickle.load(fp)\n",
    "with open(os.path.join(out_folder,\"headers_2021.txt\"), \"rb\") as fp:   \n",
    "    headers_2021 = pickle.load(fp)\n",
    "with open(os.path.join(out_folder,\"headers_2022.txt\"), \"rb\") as fp:  \n",
    "    headers_2022 = pickle.load(fp)\n",
    "with open(os.path.join(out_folder,\"headers_2023.txt\"), \"rb\") as fp:   \n",
    "    headers_2023 = pickle.load(fp)\n",
    "with open(os.path.join(out_folder,\"headers_miss_log.txt\"), \"rb\") as fp:   \n",
    "    headers_miss_log = pickle.load(fp)\n",
    "headers = headers_2019 + headers_2020 + headers_2021 + headers_2022 + headers_2023 + headers_miss_log\n",
    "print(len(headers)) # 551"
   ]
  },
  {
   "cell_type": "markdown",
   "metadata": {},
   "source": [
    "## Colects Lists"
   ]
  },
  {
   "cell_type": "code",
   "execution_count": 26,
   "metadata": {},
   "outputs": [],
   "source": [
    "# Collects lists\n",
    "collects2019 = list_collects(r\"M:\\2019\")\n",
    "with open(os.path.join(out_folder,\"collects2019.txt\"), \"wb\") as fp:   #Pickling\n",
    "    pickle.dump(collects2019, fp)\n",
    "collects2020 = list_collects(r\"W:\\2020\")\n",
    "with open(os.path.join(out_folder,\"collects2020.txt\"), \"wb\") as fp:   #Pickling\n",
    "    pickle.dump(collects2020, fp)\n",
    "collects2021 = list_collects(r\"W:\\2021\")\n",
    "with open(os.path.join(out_folder,\"collects2021.txt\"), \"wb\") as fp:   #Pickling\n",
    "    pickle.dump(collects2021, fp)\n",
    "collects2022 = list_collects(r\"Z:\\NewestCollects\\2022\")\n",
    "with open(os.path.join(out_folder,\"collects2022.txt\"), \"wb\") as fp:   #Pickling\n",
    "    pickle.dump(collects2022, fp)\n",
    "collects2023 = list_collects(r\"Z:\\NewestCollects\\2023\") + list_collects(r\"X:\\AUV Collects\\2023\")\n",
    "with open(os.path.join(out_folder,\"collects2023.txt\"), \"wb\") as fp:   #Pickling\n",
    "    pickle.dump(collects2023, fp)"
   ]
  },
  {
   "cell_type": "code",
   "execution_count": 27,
   "metadata": {},
   "outputs": [
    {
     "name": "stdout",
     "output_type": "stream",
     "text": [
      "655\n"
     ]
    }
   ],
   "source": [
    "## Load Collects Lists\n",
    "with open(os.path.join(out_folder,\"collects2019.txt\"), \"rb\") as fp:   #unpickling\n",
    "    collects2019 = pickle.load(fp)\n",
    "with open(os.path.join(out_folder,\"collects2020.txt\"), \"rb\") as fp:   \n",
    "    collects2020 = pickle.load(fp)\n",
    "with open(os.path.join(out_folder,\"collects2021.txt\"), \"rb\") as fp:   \n",
    "    collects2021 = pickle.load(fp)\n",
    "with open(os.path.join(out_folder,\"collects2022.txt\"), \"rb\") as fp:  \n",
    "    collects2022 = pickle.load(fp)\n",
    "with open(os.path.join(out_folder,\"collects2023.txt\"), \"rb\") as fp:   \n",
    "    collects2023 = pickle.load(fp)\n",
    "all_collects = collects2019 + collects2020 + collects2021 + collects2022 + collects2023\n",
    "print(len(all_collects)) # 1981816\n",
    "df_collects_latlon = get_coordinates().return_MissionLog_min_max_df(all_collects)\n",
    "df_collects_latlon.to_csv(\"collects_lat_lon.csv\")\n"
   ]
  },
  {
   "cell_type": "markdown",
   "metadata": {},
   "source": [
    "## Images Lists"
   ]
  },
  {
   "cell_type": "code",
   "execution_count": 28,
   "metadata": {},
   "outputs": [],
   "source": [
    "## creating lists of unpacked image names and paths\n",
    "\n",
    "images_2019 = list_files(r\"Z:\\__Organized_Directories_InProgress\\2019_UnpackedCollects\",'.png')\n",
    "with open(os.path.join(out_folder,\"images_2019.txt\"), \"wb\") as fp:   #Pickling\n",
    "    pickle.dump(images_2019, fp)\n",
    "images_2020 = list_files(r\"Z:\\__Organized_Directories_InProgress\\2020_UnpackedCollects\",'.png')\n",
    "glob_2020 =  glob.glob(r\"Z:\\__Organized_Directories_InProgress\\2020_UnpackedCollects\\*\\image_raw\\*.png\")\n",
    "images_2020 = list(set(images_2020 + glob_2020))\n",
    "with open(os.path.join(out_folder,\"images_2020.txt\"), \"wb\") as fp:   #Pickling\n",
    "    pickle.dump(images_2020, fp)\n",
    "images_2021 = list_files(r\"Z:\\__Organized_Directories_InProgress\\2021_UnpackedCollects\",'.png') \n",
    "glob_2021 =  glob.glob(r\"Z:\\__Organized_Directories_InProgress\\2021_UnpackedCollects\\*\\image_raw\\*.png\")\n",
    "images_2021 = list(set(images_2021 + glob_2021))\n",
    "with open(os.path.join(out_folder,\"images_2021.txt\"), \"wb\") as fp:   #Pickling\n",
    "    pickle.dump(images_2021, fp)\n",
    "images_2022 = list_files(r\"Z:\\__Organized_Directories_InProgress\\2022_UnpackedCollects\",'.png')\n",
    "glob_2022 =  glob.glob(r\"Z:\\__Organized_Directories_InProgress\\2022_UnpackedCollects\\*\\image_raw\\*.png\")\n",
    "images_2022 = list(set(images_2022 + glob_2022))\n",
    "with open(os.path.join(out_folder,\"images_2022.txt\"), \"wb\") as fp:   #Pickling\n",
    "    pickle.dump(images_2022, fp)\n",
    "images_2023 = list_files(r\"Z:\\__Organized_Directories_InProgress\\2023_UnpackedCollects\",'.png')\n",
    "glob_2023 =  glob.glob(r\"Z:\\__Organized_Directories_InProgress\\2023_UnpackedCollects\\*\\image_raw\\*.png\")\n",
    "images_2023 = list(set(images_2023 + glob_2023))\n",
    "with open(os.path.join(out_folder,\"images_2023.txt\"), \"wb\") as fp:   #Pickling\n",
    "    pickle.dump(images_2023, fp)\n",
    "\n"
   ]
  },
  {
   "cell_type": "code",
   "execution_count": 29,
   "metadata": {},
   "outputs": [
    {
     "name": "stdout",
     "output_type": "stream",
     "text": [
      "2155261\n"
     ]
    }
   ],
   "source": [
    "## Loading Images Lists\n",
    "with open(os.path.join(out_folder,\"images_2019.txt\"), \"rb\") as fp:   #unpickling\n",
    "    images_2019 = pickle.load(fp)\n",
    "with open(os.path.join(out_folder,\"images_2020.txt\"), \"rb\") as fp:   \n",
    "    images_2020 = pickle.load(fp)\n",
    "with open(os.path.join(out_folder,\"images_2021.txt\"), \"rb\") as fp:   \n",
    "    images_2021 = pickle.load(fp)\n",
    "with open(os.path.join(out_folder,\"images_2022.txt\"), \"rb\") as fp:  \n",
    "    images_2022 = pickle.load(fp)\n",
    "with open(os.path.join(out_folder,\"images_2023.txt\"), \"rb\") as fp:   \n",
    "    images_2023 = pickle.load(fp)\n",
    "image_list = images_2019 + images_2020 + images_2021 + images_2022 + images_2023\n",
    "print(len(image_list)) # 2035662 2041537"
   ]
  },
  {
   "cell_type": "code",
   "execution_count": 30,
   "metadata": {},
   "outputs": [
    {
     "name": "stdout",
     "output_type": "stream",
     "text": [
      "(2111113, 2)\n"
     ]
    }
   ],
   "source": [
    "## Dataframe of all unpacked images and their paths\n",
    "df_imgs = pd.DataFrame(image_list, columns=[\"image_path\"])\n",
    "im = lambda x: os.path.basename(x)\n",
    "df_imgs[\"image_name\"] = df_imgs.image_path.map(im)\n",
    "df_imgs[\"image_name\"] = df_imgs.image_path.map(im)\n",
    "df_imgs = df_imgs.drop_duplicates(subset=\"image_name\")\n",
    "df_imgs.to_pickle(os.path.join(out_folder,\"2019-2023_imgs.pickle\"))\n",
    "print(df_imgs.shape) # (1993212, 2) (2009213, 2)"
   ]
  },
  {
   "cell_type": "code",
   "execution_count": 31,
   "metadata": {},
   "outputs": [
    {
     "name": "stdout",
     "output_type": "stream",
     "text": [
      "(2111113, 2)\n"
     ]
    }
   ],
   "source": [
    "df_imgs = pd.read_pickle(os.path.join(out_folder,\"2019-2023_imgs.pickle\"))\n",
    "print(df_imgs.shape) # (1948911, 2) (1993212, 2)"
   ]
  },
  {
   "cell_type": "code",
   "execution_count": 32,
   "metadata": {},
   "outputs": [],
   "source": [
    "def print_col_len(headers_paths):\n",
    "    col_lens = []\n",
    "    for path in headers_paths:\n",
    "        length = len(pd.read_csv(path, header=0).columns)\n",
    "        col_lens.append(length)\n",
    "    return np.unique(np.array(col_lens), return_counts=True)\n",
    "# print_col_len(headers)"
   ]
  },
  {
   "cell_type": "code",
   "execution_count": 33,
   "metadata": {},
   "outputs": [],
   "source": [
    "columns_ = [\"image_name\", \"Heading_D\", \"Pitch_D\", \"Roll_D\", \"Temp_C\", \"AUV_depth_m\", \"Alt_m\", \"INS - Altitude\",\t\"DTB Height(m)\", \"Salinity_ppt\", \"Speed_kn\", \"INS - Speed_mps\", \"Lat_DD\", \"Long_DD\", \"CreationTime\", \"EpochTime\",\"Usability\"]\n",
    "# Created this dictionary to force similar column names into the same name, ie 'Latitude (decimal degrees)' --> 'Lat_DD'\n",
    "header_dict = {'image_name': 'image_name', 'Unnamed: 0':'image_name','image_filename':'image_name',\n",
    "                'Heading_D':'Heading_D' ,'Heading (degrees)':'Heading_D','INS Heading':'Heading_D',\n",
    "                'Pitch_D':'Pitch_D','Pitch (degrees)':'Pitch_D', 'Pitch Angle':'Pitch_D',\n",
    "                'Roll_D': 'Roll_D', 'Roll (degrees)': 'Roll_D','Roll Angle':'Roll_D',\n",
    "                'Temp_C': 'Temp_C', 'Temperature (C)': 'Temp_C','Temperature (c)':'Temp_C',\n",
    "                'AUV_depth_m':'AUV_depth_m', 'Depth (m)':'AUV_depth_m','DFS Depth(m)':'AUV_depth_m',\n",
    "                'Alt_m' : 'Alt_m', 'Altitude (m)':'Alt_m',\n",
    "                'DTB Height(m)':'Alt_m',\n",
    "                'Salinity_ppt': 'Salinity_ppt', 'Salinity (ppt)':'Salinity_ppt','Salinity (ppt)':'Salinity_ppt',\n",
    "                'CreationTime':'CreationTime', 'Creation Time':'CreationTime',\n",
    "                'EpochTime':'EpochTime',\n",
    "                'Speed_kn':'Speed_kn', 'Speed (knots)':'Speed_kn','GPS Speed (Kn)': 'Speed_kn', 'INS X Speed (m/s)':'INS - Speed_mps',\n",
    "                'Lat_DD': 'Lat_DD', 'Latitude':'Lat_DD', 'Latitude (decimal degrees)':'Lat_DD',       \n",
    "                'Long_DD': 'Long_DD', 'Longitude':'Long_DD','Longitude (decimal degrees)':'Long_DD'\n",
    "                }\n"
   ]
  },
  {
   "cell_type": "code",
   "execution_count": 34,
   "metadata": {},
   "outputs": [],
   "source": [
    "def combine_headers(headers_paths, df_input = None):\n",
    "    dfs = []\n",
    "    if df_input is None:\n",
    "        df = pd.DataFrame(columns=columns_)\n",
    "    else:\n",
    "        df = df_input\n",
    "    for path in headers_paths:\n",
    "        tempdf = pd.read_csv(path, header=0)\n",
    "        tempdf.rename(columns=header_dict, inplace=True)\n",
    "        newcolumns = tempdf.columns[tempdf.columns.isin(columns_)]\n",
    "        dfs = [df, tempdf[newcolumns]]\n",
    "        df = pd.concat(dfs, axis=0, ignore_index=True)\n",
    "        df = df.dropna(subset=\"EpochTime\")\n",
    "        df = df.drop_duplicates()\n",
    "        \n",
    "\n",
    "    df = df.sort_values(by=\"EpochTime\")\n",
    "    # df = df.drop_duplicates(subset=\"image_name\")\n",
    "    im = lambda x: os.path.basename(x)\n",
    "    df[\"image_name\"] = df.image_name.apply(im)\n",
    "    dt = lambda x: datetime.datetime.fromtimestamp(x)\n",
    "    df['Datetime'] = df['EpochTime'].apply(dt)\n",
    "\n",
    "    return df.drop_duplicates()"
   ]
  },
  {
   "cell_type": "markdown",
   "metadata": {},
   "source": [
    "### Reading and combining All Header csvs into one"
   ]
  },
  {
   "cell_type": "code",
   "execution_count": 35,
   "metadata": {},
   "outputs": [
    {
     "name": "stdout",
     "output_type": "stream",
     "text": [
      "(4193332, 18)\n"
     ]
    }
   ],
   "source": [
    "# last_headers_file = glob.glob(os.path.join(prev_out_folder,\"all_headers.txt\"))\n",
    "# updated_headers = headers\n",
    "# ## read and add new header info\n",
    "# df = pd.read_pickle(os.path.join(prev_out_folder,\"2019-2023_headers_combined.pickle\"))\n",
    "# print(df.shape) # (4199718, 17)\n",
    "## inputing new headers that were added\n",
    "df = combine_headers(headers_paths=headers, df_input = None)\n",
    "df.to_pickle(os.path.join(out_folder,f\"2019-2023_headers_combined_{yyymmmdd}.pickle\"))\n",
    "print(df.shape) # (4088572, 17)"
   ]
  },
  {
   "cell_type": "markdown",
   "metadata": {},
   "source": [
    "### Combined DataFrame filtering and cleaning"
   ]
  },
  {
   "cell_type": "code",
   "execution_count": 36,
   "metadata": {},
   "outputs": [
    {
     "name": "stdout",
     "output_type": "stream",
     "text": [
      "(4193332, 18)\n"
     ]
    }
   ],
   "source": [
    "df = pd.read_pickle(os.path.join(out_folder,f\"2019-2023_headers_combined_{yyymmmdd}.pickle\"))\n",
    "print(df.shape) # (4088572, 17)"
   ]
  },
  {
   "cell_type": "code",
   "execution_count": 37,
   "metadata": {},
   "outputs": [
    {
     "name": "stdout",
     "output_type": "stream",
     "text": [
      "(2576937, 18)\n"
     ]
    }
   ],
   "source": [
    "## Cleaning for Altitude and depth\n",
    "df = df[(df.Alt_m<4) & (df.AUV_depth_m > 1)]\n",
    "## Cleaning lat lon columns\n",
    "idx_bad_lat = df[(df['Lat_DD'] < 41) | (df['Lat_DD'] > 50)].index\n",
    "idx_bad_lon = df[(df['Long_DD'] < -92.5) | (df['Long_DD'] > -75.5)].index\n",
    "df.loc[idx_bad_lat, 'Lat_DD'] = np.nan\n",
    "df.loc[idx_bad_lon, 'Long_DD'] = np.nan\n",
    "df.to_pickle(os.path.join(out_folder, f\"2019-2023_headers_combined_filtered_{yyymmmdd}.pickle\"))\n",
    "print(df.shape) # (2416264, 86) (2417064, 86) (2418247, 89) (2434252, 87) (2492433, 17) (2692480, 17)"
   ]
  },
  {
   "cell_type": "code",
   "execution_count": 38,
   "metadata": {},
   "outputs": [
    {
     "data": {
      "text/plain": [
       "(2576937, 18)"
      ]
     },
     "execution_count": 38,
     "metadata": {},
     "output_type": "execute_result"
    }
   ],
   "source": [
    "df = pd.read_pickle(os.path.join(out_folder, f\"2019-2023_headers_combined_filtered_{yyymmmdd}.pickle\"))\n",
    "df.shape # (2418247, 87) (2434252, 87) (2492433, 17) (2692480, 17)"
   ]
  },
  {
   "cell_type": "code",
   "execution_count": 39,
   "metadata": {},
   "outputs": [
    {
     "data": {
      "text/plain": [
       "array([[<Axes: title={'center': 'Datetime'}>]], dtype=object)"
      ]
     },
     "execution_count": 39,
     "metadata": {},
     "output_type": "execute_result"
    },
    {
     "data": {
      "image/png": "[encoded data removed]",
      "text/plain": [
       "<Figure size 640x480 with 1 Axes>"
      ]
     },
     "metadata": {},
     "output_type": "display_data"
    }
   ],
   "source": [
    "df.hist(column='Datetime', bins=100, xrot=90)"
   ]
  },
  {
   "cell_type": "markdown",
   "metadata": {},
   "source": [
    "### Unpacked Images Metadata"
   ]
  },
  {
   "cell_type": "code",
   "execution_count": 40,
   "metadata": {},
   "outputs": [],
   "source": [
    "# merging and keeping only image names that are unpacked\n",
    "df_unp = df[df.image_name.isin(df_imgs.image_name)]\n",
    "df_unp = pd.merge(df, df_imgs, on=\"image_name\")\n"
   ]
  },
  {
   "cell_type": "code",
   "execution_count": 41,
   "metadata": {},
   "outputs": [],
   "source": [
    "# Dataframe with all of collects on file. This created in Mapping_reefs\n",
    "df_collects = pd.read_csv(\"collects_lat_lon.csv\", index_col=0).sort_values(by=\"date\")\n",
    "df_collects.date = pd.to_datetime(df_collects.date, format=\"%Y-%m-%d\")"
   ]
  },
  {
   "cell_type": "code",
   "execution_count": 42,
   "metadata": {},
   "outputs": [
    {
     "name": "stdout",
     "output_type": "stream",
     "text": [
      "(732362, 22)\n"
     ]
    }
   ],
   "source": [
    "## Here I add collect ID, AUV ID, and camera system columns\n",
    "df_unp['Datetime'] = pd.to_datetime(df_unp.Datetime, format='mixed')\n",
    "df_unp = df_unp.sort_values(by='Datetime')\n",
    "## Extracting collect id from filepaths where possible\n",
    "df_unp['collect_id'] = df_unp[\"image_path\"].str.extract(r'([0-9]{8}_[0-9]{3}_[a-z,A-Z]+[0-9][0-9][0-9][0-9]_[a-z,A-Z]+[0-2])')\n",
    "## Where there are no collect id in filepaths use the date index\n",
    "tmp_idx = df_unp[df_unp.collect_id.isna()].index\n",
    "df_tmp = pd.merge_asof(df_unp.loc[tmp_idx,\"Datetime\"], df_collects.loc[:,[\"date\",\"collect_id\"]], left_on=\"Datetime\", right_on=\"date\")\n",
    "df_unp.loc[tmp_idx, \"collect_id\"] = df_tmp[\"collect_id\"]\n",
    "df_unp['AUV'] = df_unp[\"collect_id\"].str.extract(     r'[0-9]{8}_[0-9]{3}_([a-z,A-Z]+[0-9][0-9][0-9][0-9])_[a-z,A-Z]+[0-2]')\n",
    "df_unp['cam_sys'] = df_unp[\"collect_id\"].str.extract( r'[0-9]{8}_[0-9]{3}_[a-z,A-Z]+[0-9][0-9][0-9][0-9]_([a-z,A-Z]+[0-2])')\n",
    "## Where usability is blank\n",
    "nu_idx = df_unp[df_unp.Usability.isna()].index\n",
    "nu_idx_usability = df_unp.loc[nu_idx,\"image_path\"].str.extract(r'\\W+([a-z,A-Z]*sab[a-z,A-Z]+).*')\n",
    "df_unp.loc[nu_idx, \"Usability\"] = nu_idx_usability.values\n",
    "\n",
    "df_unp.to_csv(f\"all_unpacked_images_metadata_{yyymmmdd}.csv\")\n",
    "print(df_unp.shape) # (599180, 19) (588246, 19) (627826, 21) (636013, 21)"
   ]
  },
  {
   "cell_type": "markdown",
   "metadata": {},
   "source": [
    "### Finished with creating metatadata"
   ]
  },
  {
   "cell_type": "code",
   "execution_count": 46,
   "metadata": {},
   "outputs": [
    {
     "data": {
      "text/plain": [
       "array([[<Axes: title={'center': 'Datetime'}>]], dtype=object)"
      ]
     },
     "execution_count": 46,
     "metadata": {},
     "output_type": "execute_result"
    },
    {
     "data": {
      "image/png": "[encoded data removed]",
      "text/plain": [
       "<Figure size 640x480 with 1 Axes>"
      ]
     },
     "metadata": {},
     "output_type": "display_data"
    }
   ],
   "source": [
    "df_unp = pd.read_csv(f\"all_unpacked_images_metadata_{yyymmmdd}.csv\", index_col=0, low_memory=False)\n",
    "df_unp['Datetime'] = pd.to_datetime(df_unp.Datetime, format='mixed')\n",
    "# df_unp.head()\n",
    "df_unp.hist(column='Datetime', bins=50, xrot=90)"
   ]
  },
  {
   "cell_type": "code",
   "execution_count": 47,
   "metadata": {},
   "outputs": [
    {
     "data": {
      "text/plain": [
       "4024"
      ]
     },
     "execution_count": 47,
     "metadata": {},
     "output_type": "execute_result"
    }
   ],
   "source": [
    "df_unp.Long_DD.describe()\n",
    "df_unp.Lat_DD.describe()\n",
    "df_unp.Long_DD.isna().sum()\n",
    "df_unp.Lat_DD.isna().sum()"
   ]
  },
  {
   "cell_type": "markdown",
   "metadata": {},
   "source": [
    "### Interpolating bad Lat lon"
   ]
  },
  {
   "cell_type": "code",
   "execution_count": null,
   "metadata": {},
   "outputs": [
    {
     "name": "stdout",
     "output_type": "stream",
     "text": [
      "20210828_001_Iver3069_ABS1\n"
     ]
    },
    {
     "data": {
      "text/plain": [
       "<matplotlib.collections.PathCollection at 0x1ea27dc5250>"
      ]
     },
     "execution_count": 24,
     "metadata": {},
     "output_type": "execute_result"
    },
    {
     "data": {
      "image/png": "[encoded data removed]",
      "text/plain": [
       "<Figure size 640x480 with 1 Axes>"
      ]
     },
     "metadata": {},
     "output_type": "display_data"
    }
   ],
   "source": [
    "import matplotlib.pyplot as plt\n",
    "collects_bad_lat_lon = list(df_unp[df_unp.Lat_DD.isna() | df_unp.Long_DD.isna()].groupby(\"collect_id\").groups.keys())\n",
    "pd.DataFrame(collects_bad_lat_lon).to_csv(\"list_collects_bad_lat_lon.csv\")\n",
    "idx = 12\n",
    "file = collects_bad_lat_lon[idx]\n",
    "Lat = df_unp[df_unp.collect_id == collects_bad_lat_lon[idx]].Lat_DD\n",
    "Long = df_unp[df_unp.collect_id == collects_bad_lat_lon[idx]].Long_DD\n",
    "print(file)\n",
    "plt.scatter(Long, Lat)\n",
    "# 20210707_001_Iver3069_ABS1, 20210708_001_Iver3069_ABS1, 20210712_001_Iver3069_ABS1, 20210725_001_Iver3069_ABS1, 20210728_001_Iver3069_ABS1"
   ]
  }
 ],
 "metadata": {
  "kernelspec": {
   "display_name": "bubbler-lite",
   "language": "python",
   "name": "python3"
  },
  "language_info": {
   "codemirror_mode": {
    "name": "ipython",
    "version": 3
   },
   "file_extension": ".py",
   "mimetype": "text/x-python",
   "name": "python",
   "nbconvert_exporter": "python",
   "pygments_lexer": "ipython3",
   "version": "3.9.16"
  },
  "orig_nbformat": 4
 },
 "nbformat": 4,
 "nbformat_minor": 2
}
