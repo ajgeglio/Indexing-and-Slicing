{
 "cells": [
  {
   "cell_type": "code",
   "execution_count": 3,
   "metadata": {},
   "outputs": [],
   "source": [
    "import pandas as pd\n",
    "import os\n",
    "import numpy as np\n",
    "import datetime\n",
    "import pickle\n",
    "import shutil\n",
    "import glob\n",
    "import re\n",
    "def list_files_w_pattern(filepath, filetype):\n",
    "   paths = []\n",
    "   pat1 = r\"[o,O]ld\"\n",
    "   pat2 = r\"[o,O]ld\"\n",
    "   for root, dirs, files in os.walk(filepath):\n",
    "      if re.search(pat1, root):\n",
    "         pass\n",
    "      else:\n",
    "         for file in files:\n",
    "            if file.lower().endswith(filetype.lower()):\n",
    "               paths.append(os.path.join(root, file))\n",
    "   return(paths)\n",
    "\n",
    "def list_files(filepath, filetype):\n",
    "   paths = []\n",
    "   for root, dirs, files in os.walk(filepath):\n",
    "      for file in files:\n",
    "         if file.lower().endswith(filetype.lower()):\n",
    "            paths.append(os.path.join(root, file))\n",
    "   return(paths)\n",
    "\n",
    "out_folder = \"2019-2023-updated\""
   ]
  },
  {
   "cell_type": "code",
   "execution_count": 2,
   "metadata": {},
   "outputs": [
    {
     "name": "stdout",
     "output_type": "stream",
     "text": [
      "20231013-091853\n"
     ]
    }
   ],
   "source": [
    "t = datetime.datetime.now()\n",
    "timestring = f\"{t.year:02d}{t.month:02d}{t.day:02d}-{t.hour:02d}{t.minute:02d}{t.second:02d}\"\n",
    "print(timestring)"
   ]
  },
  {
   "cell_type": "code",
   "execution_count": 83,
   "metadata": {},
   "outputs": [],
   "source": [
    "# Create Headers lists\n",
    "# headers_2019 = list_files(r\"Z:\\__Organized_Directories_InProgress\\2019_UnpackedCollects\",'raw_image_headers.csv')\n",
    "# with open(os.path.join(out_folder,\"headers_2019.txt\"), \"wb\") as fp:   #Pickling\n",
    "#     pickle.dump(headers_2019, fp)\n",
    "# headers_2020 = list_files(r\"Z:\\Headers2020\",'raw_image_headers.csv')\n",
    "# with open(os.path.join(out_folder,\"headers_2020.txt\"), \"wb\") as fp:   #Pickling\n",
    "#     pickle.dump(headers_2020, fp)\n",
    "# headers_2021 = list_files(r\"Z:\\Headers2021\",'raw_image_headers.csv')\n",
    "# with open(os.path.join(out_folder,\"headers_2021.txt\"), \"wb\") as fp:   #Pickling\n",
    "#     pickle.dump(headers_2021, fp)\n",
    "# headers_2022 = list_files(r\"Z:\\Headers2022\",'raw_image_headers.csv')\n",
    "# with open(os.path.join(out_folder,\"headers_2022.txt\"), \"wb\") as fp:   #Pickling\n",
    "#     pickle.dump(headers_2022, fp)\n",
    "# headers_2023 = list_files(r\"Z:\\Headers2023\",'raw_image_headers.csv')\n",
    "# with open(os.path.join(out_folder,\"headers_2023.txt\"), \"wb\") as fp:   #Pickling\n",
    "#     pickle.dump(headers_2023, fp)\n",
    "# miss_log_headers = list_files(r\"Z:\\HeadersCombined\\mission_log_headers\", 'raw_image_headers.csv')\n",
    "# with open(os.path.join(out_folder,\"miss_log_headers.txt\"), \"wb\") as fp:   #Pickling\n",
    "#     pickle.dump(miss_log_headers, fp)"
   ]
  },
  {
   "cell_type": "code",
   "execution_count": 3,
   "metadata": {},
   "outputs": [
    {
     "name": "stdout",
     "output_type": "stream",
     "text": [
      "551\n"
     ]
    }
   ],
   "source": [
    "## Load Headers Lists\n",
    "with open(os.path.join(out_folder,\"headers_2019.txt\"), \"rb\") as fp:   #unpickling\n",
    "    headers_2019 = pickle.load(fp)\n",
    "with open(os.path.join(out_folder,\"headers_2020.txt\"), \"rb\") as fp:   \n",
    "    headers_2020 = pickle.load(fp)\n",
    "with open(os.path.join(out_folder,\"headers_2021.txt\"), \"rb\") as fp:   \n",
    "    headers_2021 = pickle.load(fp)\n",
    "with open(os.path.join(out_folder,\"headers_2022.txt\"), \"rb\") as fp:  \n",
    "    headers_2022 = pickle.load(fp)\n",
    "with open(os.path.join(out_folder,\"headers_2023.txt\"), \"rb\") as fp:   \n",
    "    headers_2023 = pickle.load(fp)\n",
    "with open(os.path.join(out_folder,\"headers_miss_log.txt\"), \"rb\") as fp:   \n",
    "    headers_miss_log = pickle.load(fp)\n",
    "headers = headers_2019 + headers_2020 + headers_2021 + headers_2022 + headers_2023 + headers_miss_log\n",
    "# with open(os.path.join(out_folder,f\"{timestring}_headers.txt\"), \"wb\") as fp:   #Pickling\n",
    "#     pickle.dump(headers, fp)\n",
    "print(len(headers)) # 551"
   ]
  },
  {
   "cell_type": "code",
   "execution_count": 4,
   "metadata": {},
   "outputs": [],
   "source": [
    "## creating lists of unpacked image names and paths\n",
    "\n",
    "# images_2019 = list_files(r\"Z:\\__Organized_Directories_InProgress\\2019_UnpackedCollects\",'.png')\n",
    "# with open(os.path.join(out_folder,\"images_2019.txt\"), \"wb\") as fp:   #Pickling\n",
    "#     pickle.dump(images_2019, fp)\n",
    "# images_2020 = list_files(r\"Z:\\__Organized_Directories_InProgress\\2020_UnpackedCollects\",'.png')\n",
    "# with open(os.path.join(out_folder,\"images_2020.txt\"), \"wb\") as fp:   #Pickling\n",
    "#     pickle.dump(images_2020, fp)\n",
    "# images_2021 = list_files(r\"Z:\\__Organized_Directories_InProgress\\2021_UnpackedCollects\",'.png')\n",
    "# with open(os.path.join(out_folder,\"images_2021.txt\"), \"wb\") as fp:   #Pickling\n",
    "#     pickle.dump(images_2021, fp)\n",
    "# images_2022 = list_files(r\"Z:\\__Organized_Directories_InProgress\\2022_UnpackedCollects\",'.png')\n",
    "# with open(os.path.join(out_folder,\"images_2022.txt\"), \"wb\") as fp:   #Pickling\n",
    "#     pickle.dump(images_2022, fp)\n",
    "# images_2023 = list_files(r\"Z:\\__Organized_Directories_InProgress\\2023_UnpackedCollects\",'.png')\n",
    "# with open(os.path.join(out_folder,\"images_2023.txt\"), \"wb\") as fp:   #Pickling\n",
    "#     pickle.dump(images_2023, fp)\n",
    "\n"
   ]
  },
  {
   "cell_type": "code",
   "execution_count": 4,
   "metadata": {},
   "outputs": [
    {
     "name": "stdout",
     "output_type": "stream",
     "text": [
      "2041537\n"
     ]
    }
   ],
   "source": [
    "## Loading Images Lists\n",
    "with open(os.path.join(out_folder,\"images_2019.txt\"), \"rb\") as fp:   #unpickling\n",
    "    images_2019 = pickle.load(fp)\n",
    "with open(os.path.join(out_folder,\"images_2020.txt\"), \"rb\") as fp:   \n",
    "    images_2020 = pickle.load(fp)\n",
    "with open(os.path.join(out_folder,\"images_2021.txt\"), \"rb\") as fp:   \n",
    "    images_2021 = pickle.load(fp)\n",
    "with open(os.path.join(out_folder,\"images_2022.txt\"), \"rb\") as fp:  \n",
    "    images_2022 = pickle.load(fp)\n",
    "with open(os.path.join(out_folder,\"images_2023.txt\"), \"rb\") as fp:   \n",
    "    images_2023 = pickle.load(fp)\n",
    "image_list = images_2019 + images_2020 + images_2021 + images_2022 + images_2023\n",
    "print(len(image_list)) # 2035662 2041537"
   ]
  },
  {
   "cell_type": "code",
   "execution_count": 5,
   "metadata": {},
   "outputs": [
    {
     "name": "stdout",
     "output_type": "stream",
     "text": [
      "(2009213, 2)\n"
     ]
    }
   ],
   "source": [
    "## Dataframe of all unpacked images and their paths\n",
    "df_imgs = pd.DataFrame(image_list, columns=[\"image_path\"])\n",
    "im = lambda x: os.path.basename(x)\n",
    "df_imgs[\"image_name\"] = df_imgs.image_path.map(im)\n",
    "df_imgs[\"image_name\"] = df_imgs.image_path.map(im)\n",
    "df_imgs = df_imgs.drop_duplicates(subset=\"image_name\")\n",
    "df_imgs.to_pickle(os.path.join(out_folder,\"2019-2023_imgs.pickle\"))\n",
    "print(df_imgs.shape) # (1993212, 2) (2009213, 2)"
   ]
  },
  {
   "cell_type": "code",
   "execution_count": 6,
   "metadata": {},
   "outputs": [
    {
     "name": "stdout",
     "output_type": "stream",
     "text": [
      "(2009213, 2)\n"
     ]
    },
    {
     "data": {
      "text/html": [
       "<div>\n",
       "<style scoped>\n",
       "    .dataframe tbody tr th:only-of-type {\n",
       "        vertical-align: middle;\n",
       "    }\n",
       "\n",
       "    .dataframe tbody tr th {\n",
       "        vertical-align: top;\n",
       "    }\n",
       "\n",
       "    .dataframe thead th {\n",
       "        text-align: right;\n",
       "    }\n",
       "</style>\n",
       "<table border=\"1\" class=\"dataframe\">\n",
       "  <thead>\n",
       "    <tr style=\"text-align: right;\">\n",
       "      <th></th>\n",
       "      <th>image_path</th>\n",
       "      <th>image_name</th>\n",
       "    </tr>\n",
       "  </thead>\n",
       "  <tbody>\n",
       "    <tr>\n",
       "      <th>0</th>\n",
       "      <td>Z:\\__Organized_Directories_InProgress\\2019_Unp...</td>\n",
       "      <td>charts.png</td>\n",
       "    </tr>\n",
       "    <tr>\n",
       "      <th>1</th>\n",
       "      <td>Z:\\__Organized_Directories_InProgress\\2019_Unp...</td>\n",
       "      <td>prescreen_charts.png</td>\n",
       "    </tr>\n",
       "    <tr>\n",
       "      <th>2</th>\n",
       "      <td>Z:\\__Organized_Directories_InProgress\\2019_Unp...</td>\n",
       "      <td>image_raw_00001536.png</td>\n",
       "    </tr>\n",
       "    <tr>\n",
       "      <th>3</th>\n",
       "      <td>Z:\\__Organized_Directories_InProgress\\2019_Unp...</td>\n",
       "      <td>image_raw_00003144.png</td>\n",
       "    </tr>\n",
       "    <tr>\n",
       "      <th>4</th>\n",
       "      <td>Z:\\__Organized_Directories_InProgress\\2019_Unp...</td>\n",
       "      <td>image_raw_00004751.png</td>\n",
       "    </tr>\n",
       "  </tbody>\n",
       "</table>\n",
       "</div>"
      ],
      "text/plain": [
       "                                          image_path              image_name\n",
       "0  Z:\\__Organized_Directories_InProgress\\2019_Unp...              charts.png\n",
       "1  Z:\\__Organized_Directories_InProgress\\2019_Unp...    prescreen_charts.png\n",
       "2  Z:\\__Organized_Directories_InProgress\\2019_Unp...  image_raw_00001536.png\n",
       "3  Z:\\__Organized_Directories_InProgress\\2019_Unp...  image_raw_00003144.png\n",
       "4  Z:\\__Organized_Directories_InProgress\\2019_Unp...  image_raw_00004751.png"
      ]
     },
     "execution_count": 6,
     "metadata": {},
     "output_type": "execute_result"
    }
   ],
   "source": [
    "df_imgs = pd.read_pickle(os.path.join(out_folder,\"2019-2023_imgs.pickle\"))\n",
    "print(df_imgs.shape) # (1948911, 2) (1993212, 2)\n",
    "df_imgs.head()"
   ]
  },
  {
   "cell_type": "code",
   "execution_count": null,
   "metadata": {},
   "outputs": [],
   "source": [
    "def print_col_len(headers_paths):\n",
    "    col_lens = []\n",
    "    for path in headers_paths:\n",
    "        length = len(pd.read_csv(path, header=0).columns)\n",
    "        col_lens.append(length)\n",
    "    return np.unique(np.array(col_lens), return_counts=True)\n",
    "# print_col_len(headers)"
   ]
  },
  {
   "cell_type": "code",
   "execution_count": 7,
   "metadata": {},
   "outputs": [],
   "source": [
    "columns_ = [\"image_name\", \"Heading_D\", \"Pitch_D\", \"Roll_D\", \"Temp_C\", \"AUV_depth_m\", \"Alt_m\", \"INS - Altitude\",\t\"DTB Height(m)\", \"Salinity_ppt\", \"Speed_kn\", \"INS - Speed_mps\", \"Lat_DD\", \"Long_DD\", \"CreationTime\", \"EpochTime\",\"Usability\"]\n",
    "# Created this dictionary to force similar column names into the same name, ie 'Latitude (decimal degrees)' --> 'Lat_DD'\n",
    "header_dict = {'image_name': 'image_name', 'Unnamed: 0':'image_name','image_filename':'image_name',\n",
    "                'Heading_D':'Heading_D' ,'Heading (degrees)':'Heading_D','INS Heading':'Heading_D',\n",
    "                'Pitch_D':'Pitch_D','Pitch (degrees)':'Pitch_D', 'Pitch Angle':'Pitch_D',\n",
    "                'Roll_D': 'Roll_D', 'Roll (degrees)': 'Roll_D','Roll Angle':'Roll_D',\n",
    "                'Temp_C': 'Temp_C', 'Temperature (C)': 'Temp_C','Temperature (c)':'Temp_C',\n",
    "                'AUV_depth_m':'AUV_depth_m', 'Depth (m)':'AUV_depth_m','DFS Depth(m)':'AUV_depth_m',\n",
    "                'Alt_m' : 'Alt_m', 'Altitude (m)':'Alt_m',\n",
    "                'DTB Height(m)':'Alt_m',\n",
    "                'Salinity_ppt': 'Salinity_ppt', 'Salinity (ppt)':'Salinity_ppt','Salinity (ppt)':'Salinity_ppt',\n",
    "                'CreationTime':'CreationTime', 'Creation Time':'CreationTime',\n",
    "                'EpochTime':'EpochTime',\n",
    "                'Speed_kn':'Speed_kn', 'Speed (knots)':'Speed_kn','GPS Speed (Kn)': 'Speed_kn', 'INS X Speed (m/s)':'INS - Speed_mps',\n",
    "                'Lat_DD': 'Lat_DD', 'Latitude':'Lat_DD', 'Latitude (decimal degrees)':'Lat_DD',       \n",
    "                'Long_DD': 'Long_DD', 'Longitude':'Long_DD','Longitude (decimal degrees)':'Long_DD'\n",
    "                }\n"
   ]
  },
  {
   "cell_type": "code",
   "execution_count": 42,
   "metadata": {},
   "outputs": [],
   "source": [
    "def combine_headers(headers_paths, df_input = None):\n",
    "    dfs = []\n",
    "    if df_input is None:\n",
    "        df = pd.DataFrame(columns=columns_)\n",
    "    else:\n",
    "        df = df_input\n",
    "    for path in headers_paths:\n",
    "        tempdf = pd.read_csv(path, header=0)\n",
    "        tempdf.rename(columns=header_dict, inplace=True)\n",
    "        newcolumns = tempdf.columns[tempdf.columns.isin(columns_)]\n",
    "        dfs = [df, tempdf[newcolumns]]\n",
    "        df = pd.concat(dfs, axis=0, ignore_index=True)\n",
    "        df = df.dropna(subset=\"EpochTime\")\n",
    "        # df = df.dropna(axis=1, how='all')\n",
    "        df = df.drop_duplicates()\n",
    "        \n",
    "\n",
    "    df = df.sort_values(by=\"EpochTime\")\n",
    "    # df = df.drop_duplicates(subset=\"image_name\")\n",
    "    im = lambda x: os.path.basename(x)\n",
    "    df[\"image_name\"] = df.image_name.apply(im)\n",
    "    dt = lambda x : datetime.datetime.fromtimestamp(x)\n",
    "    df['Datetime'] = df['EpochTime'].apply(dt)\n",
    "\n",
    "    return df.drop_duplicates()"
   ]
  },
  {
   "cell_type": "markdown",
   "metadata": {},
   "source": [
    "### Combining All Headers"
   ]
  },
  {
   "cell_type": "code",
   "execution_count": 43,
   "metadata": {},
   "outputs": [
    {
     "name": "stdout",
     "output_type": "stream",
     "text": [
      "(4199718, 17)\n",
      "(4088572, 17)\n"
     ]
    }
   ],
   "source": [
    "# last_headers_file = glob.glob(os.path.join(out_folder,\"*_headers.txt\"))[-2]\n",
    "# updated_headers = headers_miss_log\n",
    "# updated_headers = []\n",
    "# ## read and add new header info\n",
    "# df = pd.read_pickle(os.path.join(out_folder,\"2019-2023_headers_combined.pickle\"))\n",
    "# print(df.shape) # (4199718, 17)\n",
    "# ## inputing new headers that were added\n",
    "# df = combine_headers(headers_paths=updated_headers, df_input = df)\n",
    "# df.to_pickle(os.path.join(out_folder,\"2019-2023_headers_combined.pickle\"))\n",
    "# print(df.shape) # (4088572, 17)"
   ]
  },
  {
   "cell_type": "code",
   "execution_count": 44,
   "metadata": {},
   "outputs": [
    {
     "name": "stdout",
     "output_type": "stream",
     "text": [
      "(4088572, 17)\n"
     ]
    }
   ],
   "source": [
    "df = pd.read_pickle(os.path.join(out_folder,\"2019-2023_headers_combined.pickle\"))\n",
    "print(df.shape) # (4088572, 17)"
   ]
  },
  {
   "cell_type": "code",
   "execution_count": 45,
   "metadata": {},
   "outputs": [
    {
     "name": "stdout",
     "output_type": "stream",
     "text": [
      "(2499505, 17)\n"
     ]
    }
   ],
   "source": [
    "## Cleaning for Altitude and depth\n",
    "df = df[(df.Alt_m<4) & (df.AUV_depth_m > 1)]\n",
    "## Cleaning lat lon columns\n",
    "idx_bad_lat = df[(df['Lat_DD'] < 41) | (df['Lat_DD'] > 50)].index\n",
    "idx_bad_lon = df[(df['Long_DD'] < -92.5) | (df['Long_DD'] > -75.5)].index\n",
    "df.loc[idx_bad_lat, 'Lat_DD'] = np.nan\n",
    "df.loc[idx_bad_lon, 'Long_DD'] = np.nan\n",
    "df.to_pickle(os.path.join(out_folder, \"2019-2023_headers_combined_filtered.pickle\"))\n",
    "print(df.shape) # (2416264, 86) (2417064, 86) (2418247, 89) (2434252, 87) (2492433, 17) (2692480, 17)"
   ]
  },
  {
   "cell_type": "code",
   "execution_count": 46,
   "metadata": {},
   "outputs": [
    {
     "data": {
      "text/plain": [
       "(2499505, 17)"
      ]
     },
     "execution_count": 46,
     "metadata": {},
     "output_type": "execute_result"
    }
   ],
   "source": [
    "df = pd.read_pickle(os.path.join(out_folder, \"2019-2023_headers_combined_filtered.pickle\"))\n",
    "df.shape # (2418247, 87) (2434252, 87) (2492433, 17) (2692480, 17)"
   ]
  },
  {
   "cell_type": "code",
   "execution_count": 47,
   "metadata": {},
   "outputs": [
    {
     "data": {
      "text/plain": [
       "array([[<Axes: title={'center': 'Datetime'}>]], dtype=object)"
      ]
     },
     "execution_count": 47,
     "metadata": {},
     "output_type": "execute_result"
    },
    {
     "data": {
      "image/png": "[encoded data removed]",
      "text/plain": [
       "<Figure size 640x480 with 1 Axes>"
      ]
     },
     "metadata": {},
     "output_type": "display_data"
    }
   ],
   "source": [
    "df.hist(column='Datetime', bins=100, xrot=90)"
   ]
  },
  {
   "cell_type": "code",
   "execution_count": 48,
   "metadata": {},
   "outputs": [
    {
     "name": "stdout",
     "output_type": "stream",
     "text": [
      "(636013, 18)\n"
     ]
    }
   ],
   "source": [
    "# merging and keeping only image names that are unpacked\n",
    "df_unp = df[df.image_name.isin(df_imgs.image_name)]\n",
    "df_unp = pd.merge(df, df_imgs, on=\"image_name\")\n",
    "df_unp.to_pickle(os.path.join(out_folder, \"2019-2023_unpacked_imgs_headers.pickle\"))\n",
    "print(df_unp.shape) # (597986, 87) (598786, 87) (599180, 90) (588246, 88) (627826, 18) (636013, 18)\n"
   ]
  },
  {
   "cell_type": "code",
   "execution_count": 146,
   "metadata": {},
   "outputs": [
    {
     "name": "stdout",
     "output_type": "stream",
     "text": [
      "(636013, 18)\n"
     ]
    }
   ],
   "source": [
    "df_unp = pd.read_pickle(os.path.join(out_folder, \"2019-2023_unpacked_imgs_headers.pickle\"))\n",
    "print(df_unp.shape) # (599180, 90) (588246, 88) (627826, 18) (636013, 18)"
   ]
  },
  {
   "cell_type": "code",
   "execution_count": 147,
   "metadata": {},
   "outputs": [],
   "source": [
    "# Dataframe with all of collects on file. This created in Mapping_reefs\n",
    "df_collects = pd.read_csv(\"collects_lat_lon.csv\", index_col=0).sort_values(by=\"date\")\n",
    "df_collects.date = pd.to_datetime(df_collects.date, format=\"%Y-%m-%d\")"
   ]
  },
  {
   "cell_type": "code",
   "execution_count": 148,
   "metadata": {},
   "outputs": [
    {
     "name": "stdout",
     "output_type": "stream",
     "text": [
      "(636013, 21)\n"
     ]
    }
   ],
   "source": [
    "## Here I add collect ID, AUV ID, and camera system columns\n",
    "df_unp['Datetime'] = pd.to_datetime(df_unp.Datetime, format='mixed')\n",
    "df_unp = df_unp.sort_values(by='Datetime')\n",
    "## Extracting collect id from filepaths where possible\n",
    "df_unp['collect_id'] = df_unp[\"image_path\"].str.extract(r'([0-9]{8}_[0-9]{3}_[a-z,A-Z]+[0-9][0-9][0-9][0-9]_[a-z,A-Z]+[0-2])')\n",
    "## Where there are no collect id in filepaths use the date index\n",
    "tmp_idx = df_unp[df_unp.collect_id.isna()].index\n",
    "df_tmp = pd.merge_asof(df_unp.loc[tmp_idx,\"Datetime\"], df_collects.loc[:,[\"date\",\"collect_id\"]], left_on=\"Datetime\", right_on=\"date\")\n",
    "df_unp.loc[tmp_idx, \"collect_id\"] = df_tmp[\"collect_id\"]\n",
    "df_unp['AUV'] = df_unp[\"collect_id\"].str.extract(     r'[0-9]{8}_[0-9]{3}_([a-z,A-Z]+[0-9][0-9][0-9][0-9])_[a-z,A-Z]+[0-2]')\n",
    "df_unp['cam_sys'] = df_unp[\"collect_id\"].str.extract( r'[0-9]{8}_[0-9]{3}_[a-z,A-Z]+[0-9][0-9][0-9][0-9]_([a-z,A-Z]+[0-2])')\n",
    "## Where usability is blank\n",
    "nu_idx = df_unp[df_unp.Usability.isna()].index\n",
    "nu_idx_usability = df_unp.loc[nu_idx,\"image_path\"].str.extract(r'\\W+([a-z,A-Z]*sab[a-z,A-Z]+).*')\n",
    "df_unp.loc[nu_idx, \"Usability\"] = nu_idx_usability.values\n",
    "\n",
    "df_unp.to_csv(\"all_unpacked_images_metadata.csv\")\n",
    "print(df_unp.shape) # (599180, 19) (588246, 19) (627826, 21) (636013, 21)"
   ]
  },
  {
   "cell_type": "code",
   "execution_count": 144,
   "metadata": {},
   "outputs": [],
   "source": [
    "tmp = df_unp.loc[213751:213756,[\"Usability\", \"image_path\"]]\n",
    "tidx = tmp.Usability.isna().index\n",
    "tidx_usability = tmp.loc[tidx,\"image_path\"].str.extract(r'\\W+([a-z,A-Z]*sab[a-z,A-Z]+).*')\n",
    "tmp.loc[tidx, \"Usability\"] = tidx_usability.values"
   ]
  },
  {
   "cell_type": "code",
   "execution_count": 145,
   "metadata": {},
   "outputs": [
    {
     "data": {
      "text/html": [
       "<div>\n",
       "<style scoped>\n",
       "    .dataframe tbody tr th:only-of-type {\n",
       "        vertical-align: middle;\n",
       "    }\n",
       "\n",
       "    .dataframe tbody tr th {\n",
       "        vertical-align: top;\n",
       "    }\n",
       "\n",
       "    .dataframe thead th {\n",
       "        text-align: right;\n",
       "    }\n",
       "</style>\n",
       "<table border=\"1\" class=\"dataframe\">\n",
       "  <thead>\n",
       "    <tr style=\"text-align: right;\">\n",
       "      <th></th>\n",
       "      <th>Usability</th>\n",
       "      <th>image_path</th>\n",
       "    </tr>\n",
       "  </thead>\n",
       "  <tbody>\n",
       "    <tr>\n",
       "      <th>213751</th>\n",
       "      <td>unusable</td>\n",
       "      <td>Z:\\__Organized_Directories_InProgress\\2021_Unp...</td>\n",
       "    </tr>\n",
       "    <tr>\n",
       "      <th>213752</th>\n",
       "      <td>unusable</td>\n",
       "      <td>Z:\\__Organized_Directories_InProgress\\2021_Unp...</td>\n",
       "    </tr>\n",
       "    <tr>\n",
       "      <th>213753</th>\n",
       "      <td>unusable</td>\n",
       "      <td>Z:\\__Organized_Directories_InProgress\\2021_Unp...</td>\n",
       "    </tr>\n",
       "    <tr>\n",
       "      <th>213754</th>\n",
       "      <td>unusable</td>\n",
       "      <td>Z:\\__Organized_Directories_InProgress\\2021_Unp...</td>\n",
       "    </tr>\n",
       "    <tr>\n",
       "      <th>213755</th>\n",
       "      <td>unusable</td>\n",
       "      <td>Z:\\__Organized_Directories_InProgress\\2021_Unp...</td>\n",
       "    </tr>\n",
       "    <tr>\n",
       "      <th>213756</th>\n",
       "      <td>usable</td>\n",
       "      <td>Z:\\__Organized_Directories_InProgress\\2021_Unp...</td>\n",
       "    </tr>\n",
       "  </tbody>\n",
       "</table>\n",
       "</div>"
      ],
      "text/plain": [
       "       Usability                                         image_path\n",
       "213751  unusable  Z:\\__Organized_Directories_InProgress\\2021_Unp...\n",
       "213752  unusable  Z:\\__Organized_Directories_InProgress\\2021_Unp...\n",
       "213753  unusable  Z:\\__Organized_Directories_InProgress\\2021_Unp...\n",
       "213754  unusable  Z:\\__Organized_Directories_InProgress\\2021_Unp...\n",
       "213755  unusable  Z:\\__Organized_Directories_InProgress\\2021_Unp...\n",
       "213756    usable  Z:\\__Organized_Directories_InProgress\\2021_Unp..."
      ]
     },
     "execution_count": 145,
     "metadata": {},
     "output_type": "execute_result"
    }
   ],
   "source": [
    "tmp"
   ]
  },
  {
   "cell_type": "markdown",
   "metadata": {},
   "source": [
    "### Finished with creating metatadata"
   ]
  },
  {
   "cell_type": "code",
   "execution_count": 52,
   "metadata": {},
   "outputs": [
    {
     "data": {
      "text/plain": [
       "array([[<Axes: title={'center': 'Datetime'}>]], dtype=object)"
      ]
     },
     "execution_count": 52,
     "metadata": {},
     "output_type": "execute_result"
    },
    {
     "data": {
      "image/png": "[encoded data removed]",
      "text/plain": [
       "<Figure size 640x480 with 1 Axes>"
      ]
     },
     "metadata": {},
     "output_type": "display_data"
    }
   ],
   "source": [
    "df_unp.hist(column='Datetime', bins=50, xrot=90)"
   ]
  },
  {
   "cell_type": "code",
   "execution_count": 53,
   "metadata": {},
   "outputs": [
    {
     "data": {
      "text/plain": [
       "3419"
      ]
     },
     "execution_count": 53,
     "metadata": {},
     "output_type": "execute_result"
    }
   ],
   "source": [
    "df_unp = pd.read_csv('all_unpacked_images_metadata.csv', index_col=0, low_memory=False)\n",
    "df_unp.Long_DD.describe()\n",
    "df_unp.Lat_DD.describe()\n",
    "df_unp.Long_DD.isna().sum()\n",
    "df_unp.Lat_DD.isna().sum()"
   ]
  },
  {
   "cell_type": "markdown",
   "metadata": {},
   "source": [
    "### Interpolating bad Lat lon"
   ]
  },
  {
   "cell_type": "code",
   "execution_count": 24,
   "metadata": {},
   "outputs": [
    {
     "name": "stdout",
     "output_type": "stream",
     "text": [
      "20210828_001_Iver3069_ABS1\n"
     ]
    },
    {
     "data": {
      "text/plain": [
       "<matplotlib.collections.PathCollection at 0x1ea27dc5250>"
      ]
     },
     "execution_count": 24,
     "metadata": {},
     "output_type": "execute_result"
    },
    {
     "data": {
      "image/png": "[encoded data removed]",
      "text/plain": [
       "<Figure size 640x480 with 1 Axes>"
      ]
     },
     "metadata": {},
     "output_type": "display_data"
    }
   ],
   "source": [
    "import matplotlib.pyplot as plt\n",
    "collects_bad_lat_lon = list(df_unp[df_unp.Lat_DD.isna() | df_unp.Long_DD.isna()].groupby(\"collect_id\").groups.keys())\n",
    "pd.DataFrame(collects_bad_lat_lon).to_csv(\"list_collects_bad_lat_lon.csv\")\n",
    "idx = 12\n",
    "file = collects_bad_lat_lon[idx]\n",
    "Lat = df_unp[df_unp.collect_id == collects_bad_lat_lon[idx]].Lat_DD\n",
    "Long = df_unp[df_unp.collect_id == collects_bad_lat_lon[idx]].Long_DD\n",
    "print(file)\n",
    "plt.scatter(Long, Lat)\n",
    "# 20210707_001_Iver3069_ABS1, 20210708_001_Iver3069_ABS1, 20210712_001_Iver3069_ABS1, 20210725_001_Iver3069_ABS1, 20210728_001_Iver3069_ABS1"
   ]
  }
 ],
 "metadata": {
  "kernelspec": {
   "display_name": "bubbler-lite",
   "language": "python",
   "name": "python3"
  },
  "language_info": {
   "codemirror_mode": {
    "name": "ipython",
    "version": 3
   },
   "file_extension": ".py",
   "mimetype": "text/x-python",
   "name": "python",
   "nbconvert_exporter": "python",
   "pygments_lexer": "ipython3",
   "version": "3.9.16"
  },
  "orig_nbformat": 4
 },
 "nbformat": 4,
 "nbformat_minor": 2
}
