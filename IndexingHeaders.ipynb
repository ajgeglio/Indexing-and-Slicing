{
 "cells": [
  {
   "cell_type": "code",
   "execution_count": 1,
   "metadata": {},
   "outputs": [],
   "source": [
    "import pandas as pd\n",
    "import os\n",
    "import numpy as np\n",
    "import datetime\n",
    "import pickle\n",
    "from src import *\n",
    "from mapping_reef_classes import get_coordinates\n",
    "import glob"
   ]
  },
  {
   "cell_type": "code",
   "execution_count": 2,
   "metadata": {},
   "outputs": [
    {
     "name": "stdout",
     "output_type": "stream",
     "text": [
      "2019-2023-20240221\n"
     ]
    }
   ],
   "source": [
    "out_folder, Ymmdd = make_out_folder()\n",
    "# Ymmdd = '20240202'\n",
    "# out_folder = '2019-2023-20240202'"
   ]
  },
  {
   "cell_type": "markdown",
   "metadata": {},
   "source": [
    "## Headers Lists"
   ]
  },
  {
   "cell_type": "code",
   "execution_count": 3,
   "metadata": {},
   "outputs": [],
   "source": [
    "# Create Headers lists\n",
    "headers_2019 = list_files(r\"Z:\\__Organized_Directories_InProgress\\2019_UnpackedCollects\",'raw_image_headers.csv')\n",
    "with open(os.path.join(out_folder,\"headers_2019.txt\"), \"wb\") as fp:   #Pickling\n",
    "    pickle.dump(headers_2019, fp)\n",
    "headers_2020 = list_files(r\"Z:\\Headers2020\\AnnotatedImagesHeaders\\Corrected_combined\",'corrected_combined.csv')\n",
    "with open(os.path.join(out_folder,\"headers_2020.txt\"), \"wb\") as fp:   #Pickling\n",
    "    pickle.dump(headers_2020, fp)\n",
    "headers_2021 = list_files(r\"Z:\\Headers2021\",'raw_image_headers.csv')\n",
    "with open(os.path.join(out_folder,\"headers_2021.txt\"), \"wb\") as fp:   #Pickling\n",
    "    pickle.dump(headers_2021, fp)\n",
    "headers_2022 = list_files(r\"Z:\\Headers2022\",'raw_image_headers.csv') \n",
    "with open(os.path.join(out_folder,\"headers_2022.txt\"), \"wb\") as fp:   #Pickling\n",
    "    pickle.dump(headers_2022, fp)\n",
    "headers_2023 = list_files(r\"Z:\\Headers2023\",'raw_image_headers.csv')\n",
    "with open(os.path.join(out_folder,\"headers_2023.txt\"), \"wb\") as fp:   #Pickling\n",
    "    pickle.dump(headers_2023, fp)"
   ]
  },
  {
   "cell_type": "code",
   "execution_count": 4,
   "metadata": {},
   "outputs": [
    {
     "name": "stdout",
     "output_type": "stream",
     "text": [
      "949\n"
     ]
    }
   ],
   "source": [
    "## Load Headers Lists\n",
    "with open(os.path.join(out_folder,\"headers_2019.txt\"), \"rb\") as fp:   #unpickling\n",
    "    headers_2019 = pickle.load(fp)\n",
    "with open(os.path.join(out_folder,\"headers_2020.txt\"), \"rb\") as fp:   \n",
    "    headers_2020 = pickle.load(fp)\n",
    "with open(os.path.join(out_folder,\"headers_2021.txt\"), \"rb\") as fp:   \n",
    "    headers_2021 = pickle.load(fp)\n",
    "with open(os.path.join(out_folder,\"headers_2022.txt\"), \"rb\") as fp:  \n",
    "    headers_2022 = pickle.load(fp)\n",
    "with open(os.path.join(out_folder,\"headers_2023.txt\"), \"rb\") as fp:   \n",
    "    headers_2023 = pickle.load(fp)\n",
    "headers = headers_2019 + headers_2020 + headers_2021 + headers_2022 + headers_2023 \n",
    "print(len(headers)) # 857"
   ]
  },
  {
   "cell_type": "markdown",
   "metadata": {},
   "source": [
    "## Colects Lists"
   ]
  },
  {
   "cell_type": "code",
   "execution_count": 5,
   "metadata": {},
   "outputs": [],
   "source": [
    "# Collects lists\n",
    "collects2019 = list_collects(r\"M:\\2019\")\n",
    "with open(os.path.join(out_folder,\"collects2019.txt\"), \"wb\") as fp:   #Pickling\n",
    "    pickle.dump(collects2019, fp)\n",
    "collects2020 = list_collects(r\"W:\\2020\")\n",
    "with open(os.path.join(out_folder,\"collects2020.txt\"), \"wb\") as fp:   #Pickling\n",
    "    pickle.dump(collects2020, fp)\n",
    "collects2021 = list_collects(r\"W:\\2021\")\n",
    "with open(os.path.join(out_folder,\"collects2021.txt\"), \"wb\") as fp:   #Pickling\n",
    "    pickle.dump(collects2021, fp)\n",
    "collects2022 = list_collects(r\"Z:\\AUV_Collects\\2022\")\n",
    "with open(os.path.join(out_folder,\"collects2022.txt\"), \"wb\") as fp:   #Pickling\n",
    "    pickle.dump(collects2022, fp)\n",
    "collects2023 = list_collects(r\"Z:\\AUV_Collects\\2023\") + list_collects(r\"X:\\AUV Collects\\2023\")\n",
    "with open(os.path.join(out_folder,\"collects2023.txt\"), \"wb\") as fp:   #Pickling\n",
    "    pickle.dump(collects2023, fp)"
   ]
  },
  {
   "cell_type": "code",
   "execution_count": 6,
   "metadata": {},
   "outputs": [
    {
     "name": "stdout",
     "output_type": "stream",
     "text": [
      "206\n"
     ]
    }
   ],
   "source": [
    "# ## Load Collects Lists\n",
    "with open(os.path.join(out_folder,\"collects2019.txt\"), \"rb\") as fp:   #unpickling\n",
    "    collects2019 = pickle.load(fp)\n",
    "with open(os.path.join(out_folder,\"collects2020.txt\"), \"rb\") as fp:   \n",
    "    collects2020 = pickle.load(fp)\n",
    "with open(os.path.join(out_folder,\"collects2021.txt\"), \"rb\") as fp:   \n",
    "    collects2021 = pickle.load(fp)\n",
    "with open(os.path.join(out_folder,\"collects2022.txt\"), \"rb\") as fp:  \n",
    "    collects2022 = pickle.load(fp)\n",
    "with open(os.path.join(out_folder,\"collects2023.txt\"), \"rb\") as fp:   \n",
    "    collects2023 = pickle.load(fp)\n",
    "all_collects = collects2019 + collects2020 + collects2021 + collects2022 + collects2023\n",
    "print(len(all_collects)) # 206"
   ]
  },
  {
   "cell_type": "markdown",
   "metadata": {},
   "source": [
    "## Images Lists"
   ]
  },
  {
   "cell_type": "code",
   "execution_count": 7,
   "metadata": {},
   "outputs": [],
   "source": [
    "## creating lists of unpacked image names and paths\n",
    "\n",
    "images_2019 =  glob.glob(r\"Z:\\__Organized_Directories_InProgress\\2019_UnpackedCollects\\*\\image_raw\\*.png\")\n",
    "with open(os.path.join(out_folder,\"images_2019.txt\"), \"wb\") as fp:   #Pickling\n",
    "    pickle.dump(images_2019, fp)\n",
    "images_2020 =  glob.glob(r\"Z:\\__Organized_Directories_InProgress\\2020_UnpackedCollects\\*\\image_raw\\*.png\")\n",
    "with open(os.path.join(out_folder,\"images_2020.txt\"), \"wb\") as fp:   #Pickling\n",
    "    pickle.dump(images_2020, fp)\n",
    "images_2021 =  glob.glob(r\"Z:\\__Organized_Directories_InProgress\\2021_UnpackedCollects\\*\\image_raw\\*.png\")\n",
    "with open(os.path.join(out_folder,\"images_2021.txt\"), \"wb\") as fp:   #Pickling\n",
    "    pickle.dump(images_2021, fp)\n",
    "images_2022 =  glob.glob(r\"Z:\\__Organized_Directories_InProgress\\2022_UnpackedCollects\\*\\image_raw\\*.png\")\n",
    "with open(os.path.join(out_folder,\"images_2022.txt\"), \"wb\") as fp:   #Pickling\n",
    "    pickle.dump(images_2022, fp)\n",
    "images_2023 =  glob.glob(r\"Z:\\__Organized_Directories_InProgress\\2023_UnpackedCollects\\*\\image_raw\\*.png\")\n",
    "with open(os.path.join(out_folder,\"images_2023.txt\"), \"wb\") as fp:   #Pickling\n",
    "    pickle.dump(images_2023, fp)"
   ]
  },
  {
   "cell_type": "code",
   "execution_count": 8,
   "metadata": {},
   "outputs": [
    {
     "name": "stdout",
     "output_type": "stream",
     "text": [
      "976615\n"
     ]
    }
   ],
   "source": [
    "## Loading Images Lists\n",
    "with open(os.path.join(out_folder,\"images_2019.txt\"), \"rb\") as fp:   #unpickling\n",
    "    images_2019 = pickle.load(fp)\n",
    "with open(os.path.join(out_folder,\"images_2020.txt\"), \"rb\") as fp:   \n",
    "    images_2020 = pickle.load(fp)\n",
    "with open(os.path.join(out_folder,\"images_2021.txt\"), \"rb\") as fp:   \n",
    "    images_2021 = pickle.load(fp)\n",
    "with open(os.path.join(out_folder,\"images_2022.txt\"), \"rb\") as fp:  \n",
    "    images_2022 = pickle.load(fp)\n",
    "with open(os.path.join(out_folder,\"images_2023.txt\"), \"rb\") as fp:   \n",
    "    images_2023 = pickle.load(fp)\n",
    "image_list = images_2019 + images_2020 + images_2021 + images_2022 + images_2023\n",
    "print(len(image_list)) # 2035662 2041537 2300780 1678865 1600235 976615"
   ]
  },
  {
   "cell_type": "code",
   "execution_count": 9,
   "metadata": {},
   "outputs": [
    {
     "name": "stdout",
     "output_type": "stream",
     "text": [
      "2019 (8704, 2)\n",
      "2020 (112808, 2)\n",
      "2021 (279990, 2)\n",
      "2022 (272239, 2)\n",
      "2023 (302874, 2)\n",
      "Total imgs:  976615\n"
     ]
    }
   ],
   "source": [
    "## Dataframe of all unpacked images and their paths based on a list of paths\n",
    "df_imgs_2019 = create_image_df_save_pckle(image_list=images_2019, out_folder=out_folder, year=2019)\n",
    "df_imgs_2020 = create_image_df_save_pckle(image_list=images_2020, out_folder=out_folder, year=2020)\n",
    "df_imgs_2021 = create_image_df_save_pckle(image_list=images_2021, out_folder=out_folder, year=2021)\n",
    "df_imgs_2022 = create_image_df_save_pckle(image_list=images_2022, out_folder=out_folder, year=2022)\n",
    "df_imgs_2023 = create_image_df_save_pckle(image_list=images_2023, out_folder=out_folder, year=2023)\n",
    "\n",
    "df_imgs_2019 = pd.read_pickle(os.path.join(out_folder,\"2019_imgs.pickle\"))\n",
    "df_imgs_2020 = pd.read_pickle(os.path.join(out_folder,\"2020_imgs.pickle\"))\n",
    "df_imgs_2021 = pd.read_pickle(os.path.join(out_folder,\"2021_imgs.pickle\"))\n",
    "df_imgs_2022 = pd.read_pickle(os.path.join(out_folder,\"2022_imgs.pickle\"))\n",
    "df_imgs_2023 = pd.read_pickle(os.path.join(out_folder,\"2023_imgs.pickle\"))\n",
    "\n",
    "'''\n",
    "2019 (8710, 2)\n",
    "2020 (112808, 2)\n",
    "2021 (927706, 2)\n",
    "2022 (272239, 2)\n",
    "2023 (278772, 2)\n",
    "Total imgs:  1600235\n",
    "'''\n",
    "print(\"Total imgs: \", len(df_imgs_2019)+len(df_imgs_2020)+len(df_imgs_2021)+len(df_imgs_2022)+len(df_imgs_2023)) #2253118\n"
   ]
  },
  {
   "cell_type": "code",
   "execution_count": 10,
   "metadata": {},
   "outputs": [],
   "source": [
    "columns_ = [\"image_name\", \"Heading_D\", \"Pitch_D\", \"Roll_D\", \"Temp_C\", \"AUV_depth_m\", \"Alt_m\", \"Salinity_ppt\", \"Speed_kn\", \"Lat_DD\", \"Long_DD\", \"CreationTime\", \"EpochTime\",\"Usability\", \"collect_id\"]\n",
    "# Created this dictionary to force similar column names into the same name, ie 'Latitude (decimal degrees)' --> 'Lat_DD'\n",
    "header_dict = {'image_name': 'image_name', 'Unnamed: 0':'image_name','image_filename':'image_name', 'filename':'image_name', 'HeadingCompass_deg':'Heading_D' ,'Heading (degrees)':'Heading_D','INS Heading':'Heading_D',\n",
    "                'PitchCompass_deg':'Pitch_D','Pitch (degrees)':'Pitch_D', 'Pitch Angle':'Pitch_D', 'RollCompass_deg': 'Roll_D', 'Roll (degrees)': 'Roll_D','Roll Angle':'Roll_D',\n",
    "                'TempCompass_C': 'Temp_C', 'Temperature (C)': 'Temp_C','Temperature (c)':'Temp_C', 'AUV_depth_m':'AUV_depth_m', 'Depth (m)':'AUV_depth_m','DFS Depth(m)':'AUV_depth_m',\n",
    "                'Alt_m' : 'Alt_m', 'Altitude (m)':'Alt_m', 'DTB Height(m)':'Alt_m', 'DistanceToBottom_m': 'Alt_m', 'Salinity_ppt': 'Salinity_ppt', 'Salinity (ppt)':'Salinity_ppt','Salinity (ppt)':'Salinity_ppt',\n",
    "                'CreationTime':'CreationTime', 'Creation Time':'CreationTime', 'EpochTime':'EpochTime', 'SpeedGPS_kn':'Speed_kn', 'Speed (knots)':'Speed_kn','GPS Speed (Kn)': 'Speed_kn', \n",
    "                'Lat_DD': 'Lat_DD', 'Latitude':'Lat_DD', 'Latitude (decimal degrees)':'Lat_DD',       \n",
    "                'Long_DD': 'Long_DD', 'Longitude':'Long_DD','Longitude (decimal degrees)':'Long_DD'}"
   ]
  },
  {
   "cell_type": "markdown",
   "metadata": {},
   "source": [
    "### Reading and combining All Headers by year and cleaning"
   ]
  },
  {
   "cell_type": "code",
   "execution_count": 57,
   "metadata": {},
   "outputs": [
    {
     "name": "stdout",
     "output_type": "stream",
     "text": [
      "2020 (1908250, 16)\n"
     ]
    },
    {
     "data": {
      "text/plain": [
       "'\\n2019 (66582, 16)\\n2020 (1908250, 16)\\n2021 (246727, 16)\\n2022 (221681, 16)\\n2023 (207608, 16)\\n'"
      ]
     },
     "execution_count": 57,
     "metadata": {},
     "output_type": "execute_result"
    }
   ],
   "source": [
    "# header_2019 = combine_headers(headers_2019, columns_, header_dict)\n",
    "# header_2019_c = clean_combined_header(header_2019, 2019, out_folder, dpth = 1, alt = 4, clean_lat_lon = True)\n",
    "header_2020 = combine_headers(headers_2020, columns_, header_dict)\n",
    "header_2020_c = clean_combined_header(header_2020, 2020, out_folder, dpth = 1, alt = 4, clean_lat_lon = True)\n",
    "# header_2021 = combine_headers(headers_2021, columns_, header_dict)\n",
    "# header_2021_c = clean_combined_header(header_2021, 2021, out_folder, dpth = 1, alt = 4, clean_lat_lon = True)\n",
    "# header_2022 = combine_headers(headers_2022, columns_, header_dict)\n",
    "# header_2022_c = clean_combined_header(header_2022, 2022, out_folder, dpth = 1, alt = 4, clean_lat_lon = True)\n",
    "# header_2023 = combine_headers(headers_2023, columns_, header_dict)\n",
    "# header_2023_c = clean_combined_header(header_2023, 2023, out_folder, dpth = 1, alt = 4, clean_lat_lon = True)\n",
    "\n",
    "header_2019_c = pd.read_pickle(f'{out_folder}/2019_headers_combined_filtered.pickle')\n",
    "header_2020_c = pd.read_pickle(f'{out_folder}/2020_headers_combined_filtered.pickle')\n",
    "header_2021_c = pd.read_pickle(f'{out_folder}/2021_headers_combined_filtered.pickle')\n",
    "header_2022_c = pd.read_pickle(f'{out_folder}/2022_headers_combined_filtered.pickle')\n",
    "header_2023_c = pd.read_pickle(f'{out_folder}/2023_headers_combined_filtered.pickle')\n",
    "\n",
    "'''\n",
    "2019 (66582, 16)\n",
    "2020 (1908250, 16)\n",
    "2021 (246727, 16)\n",
    "2022 (221681, 16)\n",
    "2023 (207608, 16)\n",
    "'''"
   ]
  },
  {
   "cell_type": "code",
   "execution_count": 58,
   "metadata": {},
   "outputs": [],
   "source": [
    "# header_times = pd.concat([header_2019_c.EpochTime, header_2020_c.EpochTime, header_2021_c.EpochTime, header_2022_c.EpochTime, header_2023_c.EpochTime])\n",
    "# plot_epoch_time(df1=header_times, df2=pd.DataFrame(),title=None, lbl1=None, lbl2=None)"
   ]
  },
  {
   "attachments": {
    "image.png": {
     "image/png": "[encoded data removed]"
    }
   },
   "cell_type": "markdown",
   "metadata": {},
   "source": [
    "![image.png](attachment:image.png)"
   ]
  },
  {
   "cell_type": "markdown",
   "metadata": {},
   "source": [
    "### Unpacked Images Metadata"
   ]
  },
  {
   "cell_type": "code",
   "execution_count": 59,
   "metadata": {},
   "outputs": [
    {
     "name": "stdout",
     "output_type": "stream",
     "text": [
      "2019 (3363, 21)\n",
      "2020 (66722, 21)\n",
      "2021 (202150, 21)\n",
      "2022 (183825, 21)\n",
      "2023 (207531, 21)\n"
     ]
    },
    {
     "data": {
      "text/plain": [
       "'\\n2019 (3363, 21)\\n2020 (185885, 19)\\n2021 (222464, 21)\\n2022 (183825, 21)\\n2023 (207531, 21)\\n'"
      ]
     },
     "execution_count": 59,
     "metadata": {},
     "output_type": "execute_result"
    }
   ],
   "source": [
    "# Dataframe with all of collects on file. This created in Mapping_reefs\n",
    "df_collects = pd.read_csv(\"Z:/HeadersCombined/2019-2023_Collects_Survey_Names.csv\", index_col=0)\n",
    "df_collects.date = pd.to_datetime(df_collects.date)\n",
    "df_unp_2019 = create_unpacked_images_metatada_df(header_2019_c, df_imgs_2019, df_collects, 2019)\n",
    "df_unp_2020 = create_unpacked_images_metatada_df(header_2020_c, df_imgs_2020, df_collects, 2020)\n",
    "df_unp_2021 = create_unpacked_images_metatada_df(header_2021_c, df_imgs_2021, df_collects, 2021)\n",
    "df_unp_2022 = create_unpacked_images_metatada_df(header_2022_c, df_imgs_2022, df_collects, 2022)\n",
    "df_unp_2023 = create_unpacked_images_metatada_df(header_2023_c, df_imgs_2023, df_collects, 2023)\n",
    "'''\n",
    "2019 (3363, 21)\n",
    "2020 (66722, 21)\n",
    "2021 (202150, 21)\n",
    "2022 (183825, 21)\n",
    "2023 (207531, 21)\n",
    "'''"
   ]
  },
  {
   "cell_type": "markdown",
   "metadata": {},
   "source": [
    "### Finished with creating metatadata"
   ]
  }
 ],
 "metadata": {
  "kernelspec": {
   "display_name": "bubbler-lite",
   "language": "python",
   "name": "python3"
  },
  "language_info": {
   "codemirror_mode": {
    "name": "ipython",
    "version": 3
   },
   "file_extension": ".py",
   "mimetype": "text/x-python",
   "name": "python",
   "nbconvert_exporter": "python",
   "pygments_lexer": "ipython3",
   "version": "3.9.16"
  },
  "orig_nbformat": 4
 },
 "nbformat": 4,
 "nbformat_minor": 2
}
