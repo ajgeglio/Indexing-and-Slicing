{
 "cells": [
  {
   "cell_type": "code",
   "execution_count": null,
   "metadata": {},
   "outputs": [],
   "source": [
    "## Experimental- Did not do: Combining with \"collects_lat_long.csv\" dataframe if we want collect paths\n",
    "\n",
    "# df_collects = pd.read_csv('collects_lat_lon.csv')[['collect_path', 'collect_id', 'date', 'collect', 'Iver_num',\t'cam_sys']]\n",
    "# dtf = lambda d: datetime.datetime.strptime(d, \"%Y%m%d\")\n",
    "# df_collects['date'] = df_collects['date'].astype('str')\n",
    "# df_collects['date'] = df_collects['date'].map(dtf)\n",
    "# df_collects = df_collects.sort_values(by=\"date\")\n",
    "# df_all = pd.merge_asof(df_unp,df_collects, left_on=\"Datetime\", right_on=\"date\")\n",
    "# print(df_all.shape) # (598786, 24) (599180, 24)\n",
    "# # df_all.head()\n",
    "# df_all[(df_all.Datetime > \"01-01-2019\") & (df_all.Datetime < \"12-25-2019\")].to_csv(\"test2019.csv\")"
   ]
  },
  {
   "cell_type": "code",
   "execution_count": 4,
   "metadata": {},
   "outputs": [],
   "source": [
    "import shutil\n",
    "import os\n",
    "import pandas as pd"
   ]
  },
  {
   "cell_type": "code",
   "execution_count": 5,
   "metadata": {},
   "outputs": [
    {
     "name": "stderr",
     "output_type": "stream",
     "text": [
      "C:\\Users\\ageglio\\AppData\\Local\\Temp\\5\\ipykernel_22740\\2710399858.py:1: DtypeWarning: Columns (17) have mixed types. Specify dtype option on import or set low_memory=False.\n",
      "  df_unp = pd.read_csv('all_unpacked_images.csv', index_col=0)\n"
     ]
    },
    {
     "name": "stdout",
     "output_type": "stream",
     "text": [
      "(599180, 19)\n"
     ]
    }
   ],
   "source": [
    "df_unp = pd.read_csv('all_unpacked_images.csv', index_col=0)\n",
    "print(df_unp.shape) # (599180, 19)\n",
    "## Getting indexes of Camera system, lens, etc\n",
    "is2019 = (df_unp['Datetime'] > \"2018-12-31\") & (df_unp['Datetime'] <= \"2019-12-31\")\n",
    "is2020 = (df_unp['Datetime'] > \"2019-12-31\") & (df_unp['Datetime'] <= \"2020-12-31\")\n",
    "is2021 = (df_unp['Datetime'] > \"2020-12-31\") & (df_unp['Datetime'] <= \"2021-12-31\")\n",
    "is2022 = (df_unp['Datetime'] > \"2021-12-31\") & (df_unp['Datetime'] <= \"2022-12-31\")\n",
    "is2023 = (df_unp['Datetime'] > \"2022-12-31\") & (df_unp['Datetime'] <= \"2023-12-31\")\n",
    "\n",
    "## for Iver3069\n",
    "is2021_befor0512 = (df_unp['Datetime'] > \"2020-12-31\") & (df_unp['Datetime'] <= \"2021-05-11\")\n",
    "is2021_after0512 = (df_unp['Datetime'] > \"2021-05-11\") & (df_unp['Datetime'] <= \"2021-12-31\")\n",
    "is2022_prior0716 = (df_unp['Datetime'] > \"2021-12-31\") & (df_unp['Datetime'] <= \"2022-07-15\")\n",
    "is2022_0720t0809 = (df_unp['Datetime'] > \"2022-07-19\") & (df_unp['Datetime'] <= \"2022-08-09\")\n",
    "is2022_0810t0814 = (df_unp['Datetime'] > \"2022-08-09\") & (df_unp['Datetime'] <= \"2022-08-14\")\n",
    "is2022_0815t0818 = (df_unp['Datetime'] > \"2022-08-14\") & (df_unp['Datetime'] <= \"2022-08-18\")\n",
    "is2022_0819t0822 = (df_unp['Datetime'] > \"2022-08-18\") & (df_unp['Datetime'] <= \"2022-08-22\")\n",
    "is2022_after0822 = (df_unp['Datetime'] > \"2022-08-22\") & (df_unp['Datetime'] <= \"2022-12-31\")\n",
    "\n",
    "is2023_after0809 = (df_unp['Datetime'] > \"2023-08-08\") & (df_unp['Datetime'] <= \"2022-12-31\")\n",
    "\n",
    "## for Iver3098\n",
    "is2022_0705t0810 = (df_unp['Datetime'] > \"2022-07-05\") & (df_unp['Datetime'] <= \"2022-08-10\")\n",
    "is2022_0811t0819 = (df_unp['Datetime'] > \"2022-08-10\") & (df_unp['Datetime'] <= \"2022-08-19\")\n",
    "is2022_after0819 = (df_unp['Datetime'] > \"2022-08-19\") & (df_unp['Datetime'] <= \"2022-12-31\")\n",
    "\n",
    "is2023_0427t0522 = (df_unp['Datetime'] > \"2023-04-27\") & (df_unp['Datetime'] <= \"2023-05-22\")\n",
    "is2023_0523t0711 = (df_unp['Datetime'] > \"2023-05-22\") & (df_unp['Datetime'] <= \"2023-07-11\")\n",
    "is2023_0712t0808 = (df_unp['Datetime'] > \"2023-07-11\") & (df_unp['Datetime'] <= \"2023-08-08\")\n",
    "is2023_after0808 = (df_unp['Datetime'] > \"2023-08-08\") & (df_unp['Datetime'] <= \"2023-12-31\")\n",
    "\n",
    "is3069 = (df_unp['AUV']==\"Iver3069\")\n",
    "is3098 = (df_unp['AUV']==\"Iver3098\")\n",
    "isABS1 = (df_unp['cam_sys']==\"ABS1\")\n",
    "isABS2 = (df_unp['cam_sys']==\"ABS2\")\n",
    "\n",
    "### major groupings ###\n",
    "## 2019-2020 ABS1 3069 \n",
    "group_01  = df_unp[is2019 & isABS1 & is3069].index\n",
    "group_02 =  df_unp[is2020 & isABS1 & is3069].index\n",
    "\n",
    "## 2021 ABS1 3069 \n",
    "group_03 =  df_unp[is2021_befor0512 & isABS1 & is3069].index\n",
    "group_04 =  df_unp[is2021_after0512 & isABS1 & is3069].index\n",
    "\n",
    "## 2022 ABS1 3069 \n",
    "group_05 =  df_unp[is2022_prior0716 & isABS1 & is3069].index\n",
    "\n",
    "## 2022 ABS2 3069 \n",
    "group_06 =  df_unp[is2022_0720t0809 & isABS2 & is3069].index\n",
    "group_07 =  df_unp[(is2022_0810t0814 | is2022_0819t0822) & isABS2 & is3069].index\n",
    "group_08 =  df_unp[is2022_0815t0818 & isABS2 & is3069].index\n",
    "group_09 =  df_unp[is2022_after0822 & isABS2 & is3069].index\n",
    "\n",
    "## 2022 ABS2 3098 \n",
    "group_10 =  df_unp[is2022_0705t0810 & isABS2 & is3098].index\n",
    "group_11 =  df_unp[is2022_0811t0819 & isABS2 & is3098].index\n",
    "group_12 =  df_unp[is2022_after0819 & isABS2 & is3098].index\n",
    "\n",
    "## 2023 ABS2 3098 \n",
    "group_13 =  df_unp[is2023_0427t0522 & isABS2 & is3098].index\n",
    "group_14 =  df_unp[is2023_0523t0711 & isABS2 & is3098].index\n",
    "group_15 =  df_unp[is2023_0712t0808 & isABS2 & is3098].index\n",
    "\n",
    "## 2023 ABS2 3069 \n",
    "group_16 =  df_unp[is2023_after0808 & isABS2 & is3069].index"
   ]
  },
  {
   "cell_type": "code",
   "execution_count": 6,
   "metadata": {},
   "outputs": [
    {
     "name": "stdout",
     "output_type": "stream",
     "text": [
      "Copying 162048 / 174036  \r"
     ]
    }
   ],
   "source": [
    "def copy_imgs_2(df, group, dest_folder):\n",
    "    img_pth_list = list(df.loc[group, 'image_path'])\n",
    "    img_nam_list = list(df.loc[group, 'image_name'])\n",
    "    num_imgs = len(img_nam_list)\n",
    "    i=0\n",
    "    for img_pth, img_name in zip(img_pth_list, img_nam_list):\n",
    "        src = img_pth\n",
    "        dest = os.path.join(\"G:\\\\\", dest_folder, img_name)\n",
    "        if os.path.exists(dest):\n",
    "            pass\n",
    "        else:\n",
    "            shutil.copy(src, dest)\n",
    "        i+=1\n",
    "        print(\"Copying\", i,\"/\",num_imgs, end='  \\r')\n",
    "\n",
    "group = group_04\n",
    "dest_folder = \"group_04\"\n",
    "\n",
    "copy_imgs_2(df_unp, group, dest_folder)"
   ]
  }
 ],
 "metadata": {
  "kernelspec": {
   "display_name": "bubbler-lite",
   "language": "python",
   "name": "python3"
  },
  "language_info": {
   "codemirror_mode": {
    "name": "ipython",
    "version": 3
   },
   "file_extension": ".py",
   "mimetype": "text/x-python",
   "name": "python",
   "nbconvert_exporter": "python",
   "pygments_lexer": "ipython3",
   "version": "3.9.16"
  },
  "orig_nbformat": 4
 },
 "nbformat": 4,
 "nbformat_minor": 2
}
