{
 "cells": [
  {
   "cell_type": "code",
   "execution_count": 1,
   "metadata": {},
   "outputs": [],
   "source": [
    "import pandas as pd\n",
    "import numpy as np\n",
    "from mapping_reef_classes import get_coordinates"
   ]
  },
  {
   "cell_type": "markdown",
   "metadata": {},
   "source": [
    "## Collects Lat and Lon"
   ]
  },
  {
   "cell_type": "code",
   "execution_count": 3,
   "metadata": {},
   "outputs": [
    {
     "name": "stdout",
     "output_type": "stream",
     "text": [
      "LM    122\n",
      "LH     97\n",
      "LO     53\n",
      "LS      6\n",
      "Name: count, dtype: int64\n"
     ]
    }
   ],
   "source": [
    "df_collects = pd.read_csv(\"Z:/HeadersCombined/2019-2023_Collects_Survey_Names.csv\", index_col=0).dropna(subset='SurveyName')\n",
    "# df_header_2020 = pd.read_pickle(\"2019-2023-20240202/2020_headers_combined_filtered.pickle\")\n",
    "df_header_2021 = pd.read_pickle(\"2019-2023-20240202/2021_headers_combined_filtered.pickle\")\n",
    "# df_header_2021 = df_header_2021[df_header_2021.Alt_m > 0]\n",
    "df_header_2022 = pd.read_pickle(\"2019-2023-20240202/2022_headers_combined_filtered.pickle\")\n",
    "# df_header_2022 = df_header_2022[df_header_2022.Alt_m > 0]\n",
    "df_header_2023 = pd.read_pickle(\"2019-2023-20240202/2023_headers_combined_filtered.pickle\")\n",
    "# df_header_2023 = df_header_2023[df_header_2023.Alt_m > 0]\n",
    "coords_2021 = get_coordinates().return_headers_min_max_coord(df_header_2021)\n",
    "coords_2022 = get_coordinates().return_headers_min_max_coord(df_header_2022)\n",
    "coords_2023 = get_coordinates().return_headers_min_max_coord(df_header_2023)\n",
    "coords_all = pd.concat([coords_2021,coords_2022,coords_2023])\n",
    "goby_survey_idx = df_collects[df_collects[\"SurveyName\"].str.contains(\"L[M,O,H,S,E]\")].index\n",
    "df_collects_lakes = df_collects.loc[goby_survey_idx]\n",
    "print(df_collects_lakes[\"SurveyName\"].str.extract(\".*(L[M,O,H,S,E]).*\").value_counts())\n",
    "# Colllects by lake\n",
    "LH_collects = df_collects_lakes[df_collects_lakes.SurveyName.str.contains(\"LH\")]\n",
    "LO_collects = df_collects_lakes[df_collects_lakes.SurveyName.str.contains(\"LO\")]\n",
    "LM_collects = df_collects_lakes[df_collects_lakes.SurveyName.str.contains(\"LM\")]\n",
    "# Merge with coordinates\n",
    "LH_collects_coords = pd.merge(LH_collects, coords_all, on='collect_id')\n",
    "LO_collects_coords = pd.merge(LO_collects, coords_all, on='collect_id')\n",
    "LM_collects_coords = pd.merge(LM_collects, coords_all, on='collect_id')\n",
    "LO_collects_coords.to_csv(\"LkOntarioCollect_latlon.csv\")\n",
    "LH_collects_coords.to_csv(\"LkHuronCollect_latlon.csv\")\n",
    "LM_collects_coords.to_csv(\"LkMichiganCollect_latlon.csv\")\n",
    "\n",
    "## Reasons for missing collects in metadata:\n",
    "## Entire collect does not meet altitude threshold\n",
    "## Some collects only have usability features, not telnet data\n",
    "## Bat lat an lon for numerous collects\n",
    "\n",
    "# set(LH_collects.collect_id).difference(set(LH_collects_coords.collect_id))\n",
    "'''\n",
    "LM    122\n",
    "LH     97\n",
    "LO     53\n",
    "LS      6\n",
    "'''"
   ]
  },
  {
   "cell_type": "markdown",
   "metadata": {},
   "source": [
    "## NOAA 3-m DEM Overlap"
   ]
  },
  {
   "cell_type": "code",
   "execution_count": 3,
   "metadata": {},
   "outputs": [
    {
     "name": "stdout",
     "output_type": "stream",
     "text": [
      "(27525, 23)\n",
      "(21918, 23)\n"
     ]
    }
   ],
   "source": [
    "## Images within the NOAA 3m DEM\n",
    "LH_3mDEM2021 = pd.read_excel(r\"C:\\Users\\ageglio\\OneDrive - DOI\\Documents\\ArcGIS\\Projects\\AUV_Map\\2021_Huron3mDEM.xls\")\n",
    "LO_3mDEM2021 = pd.read_excel(r\"C:\\Users\\ageglio\\OneDrive - DOI\\Documents\\ArcGIS\\Projects\\AUV_Map\\2021_Ontario3mDEM.xls\")\n",
    "LH_3mDEM2022 = pd.read_excel(r\"C:\\Users\\ageglio\\OneDrive - DOI\\Documents\\ArcGIS\\Projects\\AUV_Map\\2022_Huron3mDEM.xls\")\n",
    "LO_3mDEM2022 = pd.read_excel(r\"C:\\Users\\ageglio\\OneDrive - DOI\\Documents\\ArcGIS\\Projects\\AUV_Map\\2022_Ontario3mDEM.xls\")\n",
    "LH_3mDEM2023 = pd.read_excel(r\"C:\\Users\\ageglio\\OneDrive - DOI\\Documents\\ArcGIS\\Projects\\AUV_Map\\2023_Huron3mDEM.xls\")\n",
    "LO_3mDEM2023 = pd.read_excel(r\"C:\\Users\\ageglio\\OneDrive - DOI\\Documents\\ArcGIS\\Projects\\AUV_Map\\2023_Ontario3mDEM.xls\")\n",
    "\n",
    "LO_3mDEM_df = pd.concat([LO_3mDEM2021, LO_3mDEM2022, LO_3mDEM2023]).reset_index()\n",
    "LH_3mDEM_df = pd.concat([LH_3mDEM2021, LH_3mDEM2022, LH_3mDEM2023]).reset_index()\n",
    "print(LO_3mDEM_df.shape)\n",
    "print(LH_3mDEM_df.shape)"
   ]
  },
  {
   "cell_type": "markdown",
   "metadata": {},
   "source": [
    "## Coarse Fine 6 class"
   ]
  },
  {
   "cell_type": "code",
   "execution_count": 23,
   "metadata": {},
   "outputs": [],
   "source": [
    "LO_3mDEM_df[LO_3mDEM_df.Usability == \"Usable\"].to_csv(\"LO_3mDEM_UsableImgs.csv\", index=0)\n",
    "LH_3mDEM_df[LH_3mDEM_df.Usability == \"Usable\"].to_csv(\"LH_3mDEM_UsableImgs.csv\", index=0)"
   ]
  }
 ],
 "metadata": {
  "kernelspec": {
   "display_name": "bubbler-lite",
   "language": "python",
   "name": "python3"
  },
  "language_info": {
   "codemirror_mode": {
    "name": "ipython",
    "version": 3
   },
   "file_extension": ".py",
   "mimetype": "text/x-python",
   "name": "python",
   "nbconvert_exporter": "python",
   "pygments_lexer": "ipython3",
   "version": "3.11.4"
  },
  "orig_nbformat": 4
 },
 "nbformat": 4,
 "nbformat_minor": 2
}
